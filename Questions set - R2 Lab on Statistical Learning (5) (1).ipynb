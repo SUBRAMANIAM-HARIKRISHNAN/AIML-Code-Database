{
 "cells": [
  {
   "cell_type": "markdown",
   "metadata": {},
   "source": [
    "#### > Import below libraries and proceed <"
   ]
  },
  {
   "cell_type": "code",
   "execution_count": 16,
   "metadata": {
    "colab": {
     "base_uri": "https://localhost:8080/",
     "height": 71
    },
    "colab_type": "code",
    "id": "ea0ttzRzZwcp",
    "outputId": "7336f693-1fb2-478d-f377-916d245295c8"
   },
   "outputs": [],
   "source": [
    "import numpy       as np\n",
    "import pandas      as pd\n",
    "import scipy.stats as stats\n",
    "from scipy.stats             import ttest_1samp,ttest_ind, wilcoxon\n",
    "from statsmodels.stats.power import ttest_power\n",
    "import matplotlib.pyplot     as     plt\n",
    "from scipy.stats import chi2_contingency"
   ]
  },
  {
   "cell_type": "markdown",
   "metadata": {},
   "source": [
    "| Question No. | Marks | Total |\n",
    "|  -------- | ----- | ---- |\n",
    "| Q1- Q5 | 1 Mark each | 5 Marks |\n",
    "| Q6- Q10 | 2 Mark each | 10 Marks |\n",
    "| Total | --------------> | 15 Marks|\n"
   ]
  },
  {
   "cell_type": "markdown",
   "metadata": {
    "colab_type": "text",
    "id": "QYZr9yOCs4A-"
   },
   "source": [
    "## <font color ='Dark '>Q1- Q3 Description-  The data collected by an Advertisement agency has revealed that out of 2800 visitors, 56 visitors clicked on 1 Advertisement, 30 clicked on 2 advertisements and 14 clicked on 3 advertisements and the remaining did not click on any advertisement.</font>\n",
    "\n",
    "\n"
   ]
  },
  {
   "cell_type": "markdown",
   "metadata": {},
   "source": [
    "## Calculate\n",
    "\n",
    "### Q1 The probability that a visitor to the website will not click on any advertisement. \n",
    "(1 Mark)"
   ]
  },
  {
   "cell_type": "code",
   "execution_count": null,
   "metadata": {
    "colab": {},
    "colab_type": "code",
    "id": "V7fgNooGyDst"
   },
   "outputs": [],
   "source": [
    "0.96"
   ]
  },
  {
   "cell_type": "markdown",
   "metadata": {
    "colab_type": "text",
    "id": "dDaMBGPnwLJA"
   },
   "source": [
    "### Q2 The probability that a visitor to the website will click on an advertisement. \n",
    "(1 Mark)"
   ]
  },
  {
   "cell_type": "code",
   "execution_count": null,
   "metadata": {
    "colab": {},
    "colab_type": "code",
    "id": "jN83WUlYyFFF"
   },
   "outputs": [],
   "source": [
    "0.03"
   ]
  },
  {
   "cell_type": "markdown",
   "metadata": {
    "colab_type": "text",
    "id": "x1A8GTBbwP-D"
   },
   "source": [
    "### Q3 The probability that a visitor to the website will click on more than one advertisement. \n",
    "(1 Mark)"
   ]
  },
  {
   "cell_type": "code",
   "execution_count": null,
   "metadata": {
    "colab": {},
    "colab_type": "code",
    "id": "W7uYaOR2yGRx"
   },
   "outputs": [],
   "source": [
    "0.015"
   ]
  },
  {
   "cell_type": "markdown",
   "metadata": {
    "colab_type": "text",
    "id": "Bn_1RzXcu-Q5"
   },
   "source": [
    "## <font color ='Dark '> Q4 -5 Description - At a popular company service center, a total of 100 complaints were received. 80 customers complained about late delivery of the items and 60 complained about poor product quality.\n",
    "</font>\n",
    "\n"
   ]
  },
  {
   "cell_type": "markdown",
   "metadata": {},
   "source": [
    "### Q4 Calculate the probability that a customer complaint will be about both product quality and late delivery. \n",
    "(1 Mark)"
   ]
  },
  {
   "cell_type": "code",
   "execution_count": null,
   "metadata": {
    "colab": {},
    "colab_type": "code",
    "id": "FkIzX0E9yJcO"
   },
   "outputs": [],
   "source": [
    "0.4"
   ]
  },
  {
   "cell_type": "markdown",
   "metadata": {
    "colab_type": "text",
    "id": "O_XYI2Atwbuw"
   },
   "source": [
    "### Q5 - What is the probability that a complaint will be only about late delivery? \n",
    "(1 Mark)"
   ]
  },
  {
   "cell_type": "code",
   "execution_count": null,
   "metadata": {
    "colab": {},
    "colab_type": "code",
    "id": "qufjDipWyKIJ"
   },
   "outputs": [],
   "source": [
    "0.4"
   ]
  },
  {
   "cell_type": "markdown",
   "metadata": {
    "colab_type": "text",
    "id": "Ufagdi4UpLGN"
   },
   "source": [
    "### Q6 You are given the daily sugar intake of 11 diabetic patients in the following Python code. Is there any evidence to the claim that the average daily sugar intake of the diabetic patients is 7600 mg. \n",
    "(2 Marks)\n",
    "\n",
    "* Hint: Use t test"
   ]
  },
  {
   "cell_type": "code",
   "execution_count": 5,
   "metadata": {},
   "outputs": [],
   "source": [
    "# daily intake of Sugar in milligrams for 11 diabetic patients\n",
    "\n",
    "daily_intake = np.array([5560, 5770, 7640, 5180, 5690, 6435, 6803, 7689, 6876, 8213, 8765])"
   ]
  },
  {
   "cell_type": "code",
   "execution_count": 6,
   "metadata": {
    "colab": {},
    "colab_type": "code",
    "id": "lVazFh46yLVz"
   },
   "outputs": [
    {
     "name": "stdout",
     "output_type": "stream",
     "text": [
      "6783.727272727273\n",
      "p-values 0.017123268416273013\n",
      " we are rejecting null hypothesis\n"
     ]
    }
   ],
   "source": [
    "intake_mean = np.mean(daily_intake)\n",
    "print(intake_mean)\n",
    "tset, pval = ttest_1samp(daily_intake, 7800)\n",
    "print(\"p-values\",pval)\n",
    "if pval < 0.05:    # alpha value is 0.05 or 5%\n",
    "   print(\" we are rejecting null hypothesis\")\n",
    "else:\n",
    "  print(\"we are accepting null hypothesis\")"
   ]
  },
  {
   "cell_type": "markdown",
   "metadata": {
    "colab_type": "text",
    "id": "PzNPNv1lZwc7"
   },
   "source": [
    "## <font color ='Dark '>Q7-Q8 Description Write the null and alternative hypothesis from the following hypopthesis description:</font>\n"
   ]
  },
  {
   "cell_type": "markdown",
   "metadata": {},
   "source": [
    "### Q7Average annual salary of Data Scientists is different for those having Ph.D in Statistics and those who do not.\n",
    "(2 Marks)\n",
    "* Let $\\mu_{PhD}$ be the average annual salary of a Data scientist with Ph.D in Statistics.\n",
    "* Let $\\mu_{NoPhD}$ be the average annual salary of a Data scientist without Ph.D in Statistics."
   ]
  },
  {
   "cell_type": "code",
   "execution_count": null,
   "metadata": {
    "colab_type": "text",
    "id": "qc3FIR-4yQKn"
   },
   "outputs": [],
   "source": [
    "NULL HYPOTHESIS      : 𝜇𝑃ℎ𝐷 == 𝜇𝑁𝑜𝑃ℎ𝐷\n",
    "ALTERNATE HYPOTHESIS : 𝜇𝑃ℎ𝐷 =! 𝜇𝑁𝑜𝑃ℎ𝐷"
   ]
  },
  {
   "cell_type": "markdown",
   "metadata": {
    "colab_type": "text",
    "id": "OIUIIEBEZwc9"
   },
   "source": [
    "### Q8 Average annual salary of Data Scientists is more for those having Ph.D in Statistics and those who do not. \n",
    "(2 Marks)"
   ]
  },
  {
   "cell_type": "code",
   "execution_count": null,
   "metadata": {
    "colab_type": "text",
    "id": "016BhZvgyQ8l"
   },
   "outputs": [],
   "source": [
    "NULL HYPOTHESIS      : 𝜇𝑃ℎ𝐷 <= 𝜇𝑁𝑜𝑃ℎ𝐷\n",
    "ALTERNATE HYPOTHESIS : 𝜇𝑃ℎ𝐷 > 𝜇𝑁𝑜𝑃ℎ𝐷"
   ]
  },
  {
   "cell_type": "markdown",
   "metadata": {
    "colab_type": "text",
    "id": "buanCghHvjfy"
   },
   "source": [
    "### Q9 - Compare the following two unrelated samples. Data was collected on the weight of women and men enrolled in a weight reduction program. At 𝛼 α = 0.05, test whether the weight of these two samples is different.\n",
    "(2 Marks)"
   ]
  },
  {
   "cell_type": "code",
   "execution_count": 8,
   "metadata": {
    "colab": {},
    "colab_type": "code",
    "id": "aR0aTl3Vvc1B"
   },
   "outputs": [],
   "source": [
    "Weight_Female       =  [ 53.8, 54.4, 51.2, 52.5, 61.0, 50.6, 51.6, 70.0]\n",
    "Weight_Male         =  [ 72.5, 80.3, 71.3, 67.7, 66.2, 73.4, 61.3, 76.8]"
   ]
  },
  {
   "cell_type": "markdown",
   "metadata": {
    "colab_type": "text",
    "id": "ELXhCM2Lvs0F"
   },
   "source": [
    "NULL HYPOTHSIS MALE AND FEMALE WEIGHT IS EQUAL.\n",
    "\n",
    "ALTERNATE HYPOTHESIS MALE AND FEMALE WEIGHT IS DIFFERENT.\n",
    "\n",
    "OUR CONDITION IS TO PROVE THAT WEIGHT OF THE MALE AND FEMALE ARE NOT EQUAL SO,WE REQUIRE ALTERNATE HYPOTHESIS."
   ]
  },
  {
   "cell_type": "code",
   "execution_count": 10,
   "metadata": {
    "colab": {},
    "colab_type": "code",
    "id": "MnhdZepcyTak"
   },
   "outputs": [
    {
     "name": "stdout",
     "output_type": "stream",
     "text": [
      "Weight_Female mean value: 55.637499999999996\n",
      "Weight_Male mean value: 71.1875\n",
      "Weight_Female std value: 6.236573077420002\n",
      "Weight_Male std value: 5.656508971972023\n",
      "p-value 0.00024034957515992796\n",
      "we reject null hypothesis\n"
     ]
    }
   ],
   "source": [
    "Weight_Female_mean = np.mean(Weight_Female)\n",
    "Weight_Male_mean = np.mean(Weight_Male)\n",
    "print(\"Weight_Female mean value:\",Weight_Female_mean)\n",
    "print(\"Weight_Male mean value:\",Weight_Male_mean)\n",
    "Weight_Female_std = np.std(Weight_Female)\n",
    "Weight_Male_std = np.std(Weight_Male)\n",
    "print(\"Weight_Female std value:\",Weight_Female_std)\n",
    "print(\"Weight_Male std value:\",Weight_Male_std)\n",
    "ttest,pval = ttest_ind(Weight_Female,Weight_Male)\n",
    "print(\"p-value\",pval)\n",
    "if pval <0.05:\n",
    "  print(\"we reject null hypothesis\")\n",
    "else:\n",
    "  print(\"we accept null hypothesis\")"
   ]
  },
  {
   "cell_type": "markdown",
   "metadata": {
    "colab_type": "text",
    "id": "CR60_1hJwxKl"
   },
   "source": [
    "### Q10 - A Cable service provider company is interested in checking whether or not the customer churn depends on customer segment. Use 5% as level of significance.\n",
    "(2 Marks)\n",
    "\n"
   ]
  },
  {
   "cell_type": "markdown",
   "metadata": {
    "colab_type": "text",
    "id": "5jTapB-2rFZV"
   },
   "source": [
    "| Customer Segment | Churned | Retained |\n",
    "|  -------- | ----- | ---- |\n",
    "| S1 | 15 | 142 |\n",
    "| S2 | 24 | 400 |\n",
    "| S3 | 30 | 389 |\n"
   ]
  },
  {
   "cell_type": "code",
   "execution_count": 19,
   "metadata": {
    "colab": {},
    "colab_type": "code",
    "id": "Knttaq6zyYoz"
   },
   "outputs": [
    {
     "data": {
      "text/plain": [
       "0.24907816314986156"
      ]
     },
     "execution_count": 19,
     "metadata": {},
     "output_type": "execute_result"
    }
   ],
   "source": [
    "churn_array = np.array([[15,142],[24, 400],[30, 389]])\n",
    "stat, p, dof, expected = chi2_contingency(churn_array)\n",
    "p"
   ]
  },
  {
   "cell_type": "code",
   "execution_count": null,
   "metadata": {},
   "outputs": [],
   "source": [
    "since p value greater than the level of significance(.05), we cannot reject the null hypothesis\n",
    "and conclude that the customer churn depends on the customer segment"
   ]
  },
  {
   "cell_type": "markdown",
   "metadata": {
    "colab_type": "text",
    "id": "7IsDxBgOZwfX"
   },
   "source": [
    "## -------------------------------------- End of Test --------------------------------------"
   ]
  }
 ],
 "metadata": {
  "colab": {
   "collapsed_sections": [
    "7IsDxBgOZwfX"
   ],
   "name": "R2- Lab-Statistical Learning- Questions.ipynb",
   "provenance": []
  },
  "kernelspec": {
   "display_name": "Python 3",
   "language": "python",
   "name": "python3"
  },
  "language_info": {
   "codemirror_mode": {
    "name": "ipython",
    "version": 3
   },
   "file_extension": ".py",
   "mimetype": "text/x-python",
   "name": "python",
   "nbconvert_exporter": "python",
   "pygments_lexer": "ipython3",
   "version": "3.7.4"
  }
 },
 "nbformat": 4,
 "nbformat_minor": 1
}
