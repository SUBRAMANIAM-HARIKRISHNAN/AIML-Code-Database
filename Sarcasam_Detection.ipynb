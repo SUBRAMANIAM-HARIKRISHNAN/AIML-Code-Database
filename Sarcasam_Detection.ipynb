{
 "cells": [
  {
   "cell_type": "code",
   "execution_count": 31,
   "metadata": {
    "id": "Val5B4tTzf_D"
   },
   "outputs": [],
   "source": [
    "import pandas as pd\n",
    "import numpy as np\n",
    "import json\n",
    "import random"
   ]
  },
  {
   "cell_type": "code",
   "execution_count": 32,
   "metadata": {
    "colab": {
     "base_uri": "https://localhost:8080/"
    },
    "id": "8ddfrOlxE98t",
    "outputId": "1f8d73a2-275e-494c-d44d-5cbc79e9685c"
   },
   "outputs": [
    {
     "name": "stdout",
     "output_type": "stream",
     "text": [
      "Total length of the dataset:  28619\n",
      "Length of the Training dataset:  25757\n",
      "Length of the Test dataset:  2862\n"
     ]
    }
   ],
   "source": [
    "rows = []\n",
    "for line in open('/content/drive/MyDrive/Sarcasm_Headlines_Dataset.json', 'r'):\n",
    "    rows.append(json.loads(line))\n",
    "SPLIT_SIZE=0.9\n",
    "suffled_set=random.sample(rows,len(rows))\n",
    "train_length=int(len(suffled_set)*SPLIT_SIZE)\n",
    "train_set=suffled_set[:train_length]\n",
    "test_set=suffled_set[train_length:]\n",
    "print('Total length of the dataset: ',len(suffled_set))\n",
    "print('Length of the Training dataset: ',len(train_set))\n",
    "print('Length of the Test dataset: ',len(test_set))"
   ]
  },
  {
   "cell_type": "code",
   "execution_count": 33,
   "metadata": {
    "colab": {
     "base_uri": "https://localhost:8080/"
    },
    "id": "9c9haLhBFyCp",
    "outputId": "3fca2e16-1db9-42ae-a617-cea594c44f3d"
   },
   "outputs": [
    {
     "data": {
      "text/plain": [
       "{'article_link': 'https://www.theonion.com/china-introduces-new-one-uighur-policy-1830475863',\n",
       " 'headline': 'china introduces new one-uighur policy',\n",
       " 'is_sarcastic': 1}"
      ]
     },
     "execution_count": 33,
     "metadata": {},
     "output_type": "execute_result"
    }
   ],
   "source": [
    "train_set[1000]"
   ]
  },
  {
   "cell_type": "code",
   "execution_count": 34,
   "metadata": {
    "id": "9BET3r_AF4ab"
   },
   "outputs": [],
   "source": [
    "stopwords=[ \"a\", \"about\", \"above\", \"after\", \"again\", \"against\", \"all\", \"am\", \"an\", \"and\", \"any\", \"are\", \"as\", \"at\", \"be\", \"because\", \"been\", \"before\", \"being\", \"below\", \"between\", \"both\", \"but\", \"by\", \"could\", \"did\", \"do\", \"does\", \"doing\", \"down\", \"during\", \"each\", \"few\", \"for\", \"from\", \"further\", \"had\", \"has\", \"have\", \"having\", \"he\", \"he'd\", \"he'll\", \"he's\", \"her\", \"here\", \"here's\", \"hers\", \"herself\", \"him\", \"himself\", \"his\", \"how\", \"how's\", \"i\", \"i'd\", \"i'll\", \"i'm\", \"i've\", \"if\", \"in\", \"into\", \"is\", \"it\", \"it's\", \"its\", \"itself\", \"let's\", \"me\", \"more\", \"most\", \"my\", \"myself\", \"nor\", \"of\", \"on\", \"once\", \"only\", \"or\", \"other\", \"ought\", \"our\", \"ours\", \"ourselves\", \"out\", \"over\", \"own\", \"same\", \"she\", \"she'd\", \"she'll\", \"she's\", \"should\", \"so\", \"some\", \"such\", \"than\", \"that\", \"that's\", \"the\", \"their\", \"theirs\", \"them\", \"themselves\", \"then\", \"there\", \"there's\", \"these\", \"they\", \"they'd\", \"they'll\", \"they're\", \"they've\", \"this\", \"those\", \"through\", \"to\", \"too\", \"under\", \"until\", \"up\", \"very\", \"was\", \"we\", \"we'd\", \"we'll\", \"we're\", \"we've\", \"were\", \"what\", \"what's\", \"when\", \"when's\", \"where\", \"where's\", \"which\", \"while\", \"who\", \"who's\", \"whom\", \"why\", \"why's\", \"with\", \"would\", \"you\", \"you'd\", \"you'll\", \"you're\", \"you've\", \"your\", \"yours\", \"yourself\", \"yourselves\" ]"
   ]
  },
  {
   "cell_type": "code",
   "execution_count": 35,
   "metadata": {
    "id": "NPVnCMAUGED8"
   },
   "outputs": [],
   "source": [
    "def remove_stopwords(sentence):\n",
    "  for word in stopwords:\n",
    "    token=' '+word+' '\n",
    "    sentence=sentence.replace(token,' ')\n",
    "    sentence=sentence.replace('  ',' ')\n",
    "  return sentence\n",
    "  def extract(array):\n",
    "    headlines=[]\n",
    "    labels=[]\n",
    "    for i in range(len(array)):\n",
    "      labels.append(array[i]['is_sarcastic'])\n",
    "      headlines.append(remove_stopwords(array[i]['headline']))\n",
    "  return headlines,labels\n",
    "train_headlines,train_labels=extract(train_set)\n",
    "test_headlines,test_labels=extract(test_set)\n",
    "train_labels=np.array(train_labels)\n",
    "test_labels=np.array(test_labels)"
   ]
  },
  {
   "cell_type": "code",
   "execution_count": 36,
   "metadata": {
    "id": "tTkaQjkUGpj3"
   },
   "outputs": [],
   "source": [
    "#Preprocessing the training and test headlines for the word embedding\n",
    "vocab_size = 10000\n",
    "embedding_dim = 16\n",
    "max_length = 120\n",
    "trunc_type='post'\n",
    "oov_tok = \"<OOV>\"\n",
    "\n",
    "import tensorflow as tf\n",
    "from tensorflow import keras\n",
    "from tensorflow.keras.preprocessing.text import Tokenizer\n",
    "from tensorflow.keras.preprocessing.sequence import pad_sequences\n",
    "\n",
    "tokenizer = Tokenizer(num_words = vocab_size, oov_token=oov_tok)\n",
    "tokenizer.fit_on_texts(train_headlines)\n",
    "word_index = tokenizer.word_index\n",
    "sequences = tokenizer.texts_to_sequences(train_headlines)\n",
    "padded = pad_sequences(sequences,maxlen=max_length, truncating=trunc_type)\n",
    "\n",
    "test_sequences = tokenizer.texts_to_sequences(test_headlines)\n",
    "test_padded = pad_sequences(test_sequences,maxlen=max_length)"
   ]
  },
  {
   "cell_type": "code",
   "execution_count": null,
   "metadata": {
    "id": "kBmdGge3S_Xc"
   },
   "outputs": [],
   "source": []
  },
  {
   "cell_type": "markdown",
   "metadata": {
    "id": "PZLhbEscTF8A"
   },
   "source": [
    "# **CONVOLUTIONAL NEURAL NETWORK (CNN)**"
   ]
  },
  {
   "cell_type": "code",
   "execution_count": 37,
   "metadata": {
    "id": "4ng1BovBGx2S"
   },
   "outputs": [],
   "source": [
    "#Building the CNN Model\n",
    "model_conv = tf.keras.Sequential([\n",
    "    tf.keras.layers.Embedding(vocab_size, embedding_dim, input_length=max_length),\n",
    "    tf.keras.layers.Conv1D(16,3,activation='relu'),\n",
    "    tf.keras.layers.MaxPooling1D(2),\n",
    "    #tf.keras.layers.Dropout(0.2),\n",
    "    tf.keras.layers.Flatten(),\n",
    "    tf.keras.layers.Dense(6, activation='relu'),\n",
    "    tf.keras.layers.Dense(1, activation='sigmoid')\n",
    "])"
   ]
  },
  {
   "cell_type": "code",
   "execution_count": 38,
   "metadata": {
    "colab": {
     "base_uri": "https://localhost:8080/"
    },
    "id": "aERBh0oOG8Hb",
    "outputId": "18c8f1e1-95e4-49c4-e982-04b3ec0ef0b1"
   },
   "outputs": [
    {
     "name": "stdout",
     "output_type": "stream",
     "text": [
      "Model: \"sequential_2\"\n",
      "_________________________________________________________________\n",
      "Layer (type)                 Output Shape              Param #   \n",
      "=================================================================\n",
      "embedding_2 (Embedding)      (None, 120, 16)           160000    \n",
      "_________________________________________________________________\n",
      "conv1d_1 (Conv1D)            (None, 118, 16)           784       \n",
      "_________________________________________________________________\n",
      "max_pooling1d_1 (MaxPooling1 (None, 59, 16)            0         \n",
      "_________________________________________________________________\n",
      "flatten_1 (Flatten)          (None, 944)               0         \n",
      "_________________________________________________________________\n",
      "dense_4 (Dense)              (None, 6)                 5670      \n",
      "_________________________________________________________________\n",
      "dense_5 (Dense)              (None, 1)                 7         \n",
      "=================================================================\n",
      "Total params: 166,461\n",
      "Trainable params: 166,461\n",
      "Non-trainable params: 0\n",
      "_________________________________________________________________\n"
     ]
    }
   ],
   "source": [
    "\n",
    "model_conv.summary()"
   ]
  },
  {
   "cell_type": "code",
   "execution_count": 39,
   "metadata": {
    "colab": {
     "base_uri": "https://localhost:8080/"
    },
    "id": "KT6z9rMSG_-y",
    "outputId": "b7e2688c-7807-4dbf-b7ec-ab45d442bf49"
   },
   "outputs": [
    {
     "name": "stdout",
     "output_type": "stream",
     "text": [
      "Epoch 1/20\n",
      "805/805 [==============================] - 6s 7ms/step - loss: 0.5113 - accuracy: 0.7200 - val_loss: 0.3729 - val_accuracy: 0.8298\n",
      "Epoch 2/20\n",
      "805/805 [==============================] - 6s 7ms/step - loss: 0.2828 - accuracy: 0.8833 - val_loss: 0.3619 - val_accuracy: 0.8386\n",
      "Epoch 3/20\n",
      "805/805 [==============================] - 6s 7ms/step - loss: 0.2006 - accuracy: 0.9224 - val_loss: 0.3991 - val_accuracy: 0.8354\n",
      "Epoch 4/20\n",
      "805/805 [==============================] - 6s 7ms/step - loss: 0.1386 - accuracy: 0.9508 - val_loss: 0.4485 - val_accuracy: 0.8288\n",
      "Epoch 5/20\n",
      "805/805 [==============================] - 6s 7ms/step - loss: 0.0872 - accuracy: 0.9722 - val_loss: 0.5320 - val_accuracy: 0.8291\n",
      "Epoch 6/20\n",
      "805/805 [==============================] - 6s 7ms/step - loss: 0.0499 - accuracy: 0.9861 - val_loss: 0.6113 - val_accuracy: 0.8267\n",
      "Epoch 7/20\n",
      "805/805 [==============================] - 6s 7ms/step - loss: 0.0278 - accuracy: 0.9937 - val_loss: 0.7296 - val_accuracy: 0.8204\n",
      "Epoch 8/20\n",
      "805/805 [==============================] - 6s 7ms/step - loss: 0.0147 - accuracy: 0.9969 - val_loss: 0.8118 - val_accuracy: 0.8229\n",
      "Epoch 9/20\n",
      "805/805 [==============================] - 6s 7ms/step - loss: 0.0084 - accuracy: 0.9985 - val_loss: 0.9415 - val_accuracy: 0.8183\n",
      "Epoch 10/20\n",
      "805/805 [==============================] - 6s 7ms/step - loss: 0.0056 - accuracy: 0.9991 - val_loss: 0.9774 - val_accuracy: 0.8187\n",
      "Epoch 11/20\n",
      "805/805 [==============================] - 6s 7ms/step - loss: 0.0035 - accuracy: 0.9992 - val_loss: 1.0667 - val_accuracy: 0.8183\n",
      "Epoch 12/20\n",
      "805/805 [==============================] - 6s 7ms/step - loss: 0.0020 - accuracy: 0.9997 - val_loss: 1.1824 - val_accuracy: 0.8208\n",
      "Epoch 13/20\n",
      "805/805 [==============================] - 6s 7ms/step - loss: 0.0013 - accuracy: 0.9997 - val_loss: 1.2327 - val_accuracy: 0.8162\n",
      "Epoch 14/20\n",
      "805/805 [==============================] - 6s 7ms/step - loss: 9.8152e-04 - accuracy: 0.9997 - val_loss: 1.3272 - val_accuracy: 0.8141\n",
      "Epoch 15/20\n",
      "805/805 [==============================] - 6s 7ms/step - loss: 0.0012 - accuracy: 0.9997 - val_loss: 1.4140 - val_accuracy: 0.8159\n",
      "Epoch 16/20\n",
      "805/805 [==============================] - 6s 7ms/step - loss: 0.0016 - accuracy: 0.9995 - val_loss: 1.4328 - val_accuracy: 0.8145\n",
      "Epoch 17/20\n",
      "805/805 [==============================] - 6s 7ms/step - loss: 9.5232e-04 - accuracy: 0.9997 - val_loss: 1.5688 - val_accuracy: 0.8085\n",
      "Epoch 18/20\n",
      "805/805 [==============================] - 6s 7ms/step - loss: 0.0014 - accuracy: 0.9996 - val_loss: 1.4964 - val_accuracy: 0.8166\n",
      "Epoch 19/20\n",
      "805/805 [==============================] - 6s 7ms/step - loss: 0.0014 - accuracy: 0.9997 - val_loss: 1.6354 - val_accuracy: 0.8110\n",
      "Epoch 20/20\n",
      "805/805 [==============================] - 5s 7ms/step - loss: 0.0010 - accuracy: 0.9997 - val_loss: 1.6056 - val_accuracy: 0.8096\n"
     ]
    }
   ],
   "source": [
    "model_conv.compile(loss='binary_crossentropy',optimizer='adam',metrics=['accuracy'])\n",
    "num_epochs = 20\n",
    "history=model_conv.fit(padded, train_labels, epochs=num_epochs, validation_data=(test_padded, test_labels))"
   ]
  },
  {
   "cell_type": "code",
   "execution_count": 40,
   "metadata": {
    "colab": {
     "base_uri": "https://localhost:8080/",
     "height": 513
    },
    "id": "orwE7Dn8I1xN",
    "outputId": "d83d1550-ad5e-4b69-bca3-7506494768bb"
   },
   "outputs": [
    {
     "data": {
      "image/png": "[encoded data removed]",
      "text/plain": [
       "<Figure size 432x288 with 1 Axes>"
      ]
     },
     "metadata": {
      "needs_background": "light"
     },
     "output_type": "display_data"
    },
    {
     "data": {
      "image/png": "[encoded data removed]",
      "text/plain": [
       "<Figure size 432x288 with 1 Axes>"
      ]
     },
     "metadata": {
      "needs_background": "light"
     },
     "output_type": "display_data"
    }
   ],
   "source": [
    "#Evaluating Accuracy and Loss of the model\n",
    "%matplotlib inline\n",
    "acc=history.history['accuracy']\n",
    "val_acc=history.history['val_accuracy']\n",
    "loss=history.history['loss']\n",
    "val_loss=history.history['val_loss']\n",
    "\n",
    "epochs=range(len(acc)) #No. of epochs\n",
    "\n",
    "#Plot training and validation accuracy per epoch\n",
    "import matplotlib.pyplot as plt\n",
    "plt.plot(epochs,acc,'r',label='Training Accuracy')\n",
    "plt.plot(epochs,val_acc,'g',label='Testing Accuracy')\n",
    "plt.legend()\n",
    "plt.figure()\n",
    "\n",
    "#Plot training and validation loss per epoch\n",
    "plt.plot(epochs,loss,'r',label='Training Loss')\n",
    "plt.plot(epochs,val_loss,'g',label='Testing Loss')\n",
    "plt.legend()\n",
    "plt.show()"
   ]
  },
  {
   "cell_type": "code",
   "execution_count": 40,
   "metadata": {
    "id": "MicUR-7UxnDG"
   },
   "outputs": [],
   "source": [
    "Bidirectional LONG SHORT TERM MEMORY (LSTM)"
   ]
  },
  {
   "cell_type": "markdown",
   "metadata": {
    "id": "v6HUy5USSvJ9"
   },
   "source": [
    "# **Bidirectional LONG SHORT TERM MEMORY (LSTM)**"
   ]
  },
  {
   "cell_type": "code",
   "execution_count": 41,
   "metadata": {
    "id": "C3ya_DK1IBaY"
   },
   "outputs": [],
   "source": [
    "#Building the LSTM Model\n",
    "model_lstm = tf.keras.Sequential([\n",
    "    tf.keras.layers.Embedding(vocab_size, embedding_dim, input_length=max_length),\n",
    "    tf.keras.layers.Bidirectional(tf.keras.layers.LSTM(16)),\n",
    "    tf.keras.layers.Dense(6, activation='relu'),\n",
    "    tf.keras.layers.Dense(1, activation='sigmoid')])"
   ]
  },
  {
   "cell_type": "code",
   "execution_count": 42,
   "metadata": {
    "colab": {
     "base_uri": "https://localhost:8080/"
    },
    "id": "2hi8OBx2IN3e",
    "outputId": "f4583dda-9117-4239-e863-75026356052a"
   },
   "outputs": [
    {
     "name": "stdout",
     "output_type": "stream",
     "text": [
      "Model: \"sequential_3\"\n",
      "_________________________________________________________________\n",
      "Layer (type)                 Output Shape              Param #   \n",
      "=================================================================\n",
      "embedding_3 (Embedding)      (None, 120, 16)           160000    \n",
      "_________________________________________________________________\n",
      "bidirectional_1 (Bidirection (None, 32)                4224      \n",
      "_________________________________________________________________\n",
      "dense_6 (Dense)              (None, 6)                 198       \n",
      "_________________________________________________________________\n",
      "dense_7 (Dense)              (None, 1)                 7         \n",
      "=================================================================\n",
      "Total params: 164,429\n",
      "Trainable params: 164,429\n",
      "Non-trainable params: 0\n",
      "_________________________________________________________________\n"
     ]
    }
   ],
   "source": [
    "\n",
    "model_lstm.summary()"
   ]
  },
  {
   "cell_type": "code",
   "execution_count": 43,
   "metadata": {
    "colab": {
     "base_uri": "https://localhost:8080/"
    },
    "id": "EsdwTS2TIQ77",
    "outputId": "8c9a531b-5d53-4c9f-b794-cb3e094fb9fb"
   },
   "outputs": [
    {
     "name": "stdout",
     "output_type": "stream",
     "text": [
      "Epoch 1/20\n",
      "26/26 [==============================] - 12s 329ms/step - loss: 0.6911 - accuracy: 0.5221 - val_loss: 0.6883 - val_accuracy: 0.5161\n",
      "Epoch 2/20\n",
      "26/26 [==============================] - 8s 304ms/step - loss: 0.6753 - accuracy: 0.6067 - val_loss: 0.6538 - val_accuracy: 0.7264\n",
      "Epoch 3/20\n",
      "26/26 [==============================] - 8s 303ms/step - loss: 0.6099 - accuracy: 0.7660 - val_loss: 0.5716 - val_accuracy: 0.7830\n",
      "Epoch 4/20\n",
      "26/26 [==============================] - 8s 304ms/step - loss: 0.5066 - accuracy: 0.8154 - val_loss: 0.4975 - val_accuracy: 0.7869\n",
      "Epoch 5/20\n",
      "26/26 [==============================] - 8s 306ms/step - loss: 0.4077 - accuracy: 0.8539 - val_loss: 0.4118 - val_accuracy: 0.8187\n",
      "Epoch 6/20\n",
      "26/26 [==============================] - 8s 308ms/step - loss: 0.3317 - accuracy: 0.8698 - val_loss: 0.3865 - val_accuracy: 0.8267\n",
      "Epoch 7/20\n",
      "26/26 [==============================] - 8s 307ms/step - loss: 0.2756 - accuracy: 0.8920 - val_loss: 0.3711 - val_accuracy: 0.8267\n",
      "Epoch 8/20\n",
      "26/26 [==============================] - 8s 310ms/step - loss: 0.2395 - accuracy: 0.9071 - val_loss: 0.3656 - val_accuracy: 0.8372\n",
      "Epoch 9/20\n",
      "26/26 [==============================] - 8s 306ms/step - loss: 0.2128 - accuracy: 0.9199 - val_loss: 0.3723 - val_accuracy: 0.8382\n",
      "Epoch 10/20\n",
      "26/26 [==============================] - 8s 307ms/step - loss: 0.1909 - accuracy: 0.9282 - val_loss: 0.3837 - val_accuracy: 0.8354\n",
      "Epoch 11/20\n",
      "26/26 [==============================] - 8s 303ms/step - loss: 0.1736 - accuracy: 0.9373 - val_loss: 0.4034 - val_accuracy: 0.8344\n",
      "Epoch 12/20\n",
      "26/26 [==============================] - 8s 302ms/step - loss: 0.1582 - accuracy: 0.9439 - val_loss: 0.4197 - val_accuracy: 0.8330\n",
      "Epoch 13/20\n",
      "26/26 [==============================] - 8s 304ms/step - loss: 0.1536 - accuracy: 0.9461 - val_loss: 0.4030 - val_accuracy: 0.8298\n",
      "Epoch 14/20\n",
      "26/26 [==============================] - 8s 301ms/step - loss: 0.1570 - accuracy: 0.9479 - val_loss: 0.4305 - val_accuracy: 0.8270\n",
      "Epoch 15/20\n",
      "26/26 [==============================] - 8s 305ms/step - loss: 0.1375 - accuracy: 0.9534 - val_loss: 0.4613 - val_accuracy: 0.8316\n",
      "Epoch 16/20\n",
      "26/26 [==============================] - 8s 303ms/step - loss: 0.1254 - accuracy: 0.9575 - val_loss: 0.4890 - val_accuracy: 0.8312\n",
      "Epoch 17/20\n",
      "26/26 [==============================] - 8s 303ms/step - loss: 0.1168 - accuracy: 0.9614 - val_loss: 0.4947 - val_accuracy: 0.8333\n",
      "Epoch 18/20\n",
      "26/26 [==============================] - 8s 304ms/step - loss: 0.1081 - accuracy: 0.9655 - val_loss: 0.5361 - val_accuracy: 0.8316\n",
      "Epoch 19/20\n",
      "26/26 [==============================] - 8s 303ms/step - loss: 0.1000 - accuracy: 0.9683 - val_loss: 0.5675 - val_accuracy: 0.8295\n",
      "Epoch 20/20\n",
      "26/26 [==============================] - 8s 303ms/step - loss: 0.0941 - accuracy: 0.9708 - val_loss: 0.5757 - val_accuracy: 0.8288\n"
     ]
    }
   ],
   "source": [
    "model_lstm.compile(loss='binary_crossentropy',optimizer='adam',metrics=['accuracy'])\n",
    "num_epochs = 20\n",
    "history2=model_lstm.fit(padded, train_labels, batch_size=1000,epochs=num_epochs, validation_data=(test_padded, test_labels))"
   ]
  },
  {
   "cell_type": "code",
   "execution_count": 44,
   "metadata": {
    "colab": {
     "base_uri": "https://localhost:8080/",
     "height": 513
    },
    "id": "HsVb_gse32an",
    "outputId": "3d426c7b-f2cb-4128-cd77-384629d91c0f"
   },
   "outputs": [
    {
     "data": {
      "image/png": "[encoded data removed]",
      "text/plain": [
       "<Figure size 432x288 with 1 Axes>"
      ]
     },
     "metadata": {
      "needs_background": "light"
     },
     "output_type": "display_data"
    },
    {
     "data": {
      "image/png": "[encoded data removed]",
      "text/plain": [
       "<Figure size 432x288 with 1 Axes>"
      ]
     },
     "metadata": {
      "needs_background": "light"
     },
     "output_type": "display_data"
    }
   ],
   "source": [
    "#Evaluating Accuracy and Loss of the model\n",
    "%matplotlib inline\n",
    "acc=history2.history['accuracy']\n",
    "val_acc=history2.history['val_accuracy']\n",
    "loss=history2.history['loss']\n",
    "val_loss=history2.history['val_loss']\n",
    "\n",
    "epochs=range(len(acc)) #No. of epochs\n",
    "\n",
    "#Plot training and validation accuracy per epoch\n",
    "import matplotlib.pyplot as plt\n",
    "plt.plot(epochs,acc,'r',label='Training Accuracy')\n",
    "plt.plot(epochs,val_acc,'g',label='Testing Accuracy')\n",
    "plt.legend()\n",
    "plt.figure()\n",
    "\n",
    "#Plot training and validation loss per epoch\n",
    "plt.plot(epochs,loss,'r',label='Training Loss')\n",
    "plt.plot(epochs,val_loss,'g',label='Testing Loss')\n",
    "plt.legend()\n",
    "plt.show()"
   ]
  }
 ],
 "metadata": {
  "colab": {
   "collapsed_sections": [],
   "name": "Sarcasam_Detection",
   "provenance": []
  },
  "kernelspec": {
   "display_name": "Python 3",
   "language": "python",
   "name": "python3"
  },
  "language_info": {
   "codemirror_mode": {
    "name": "ipython",
    "version": 3
   },
   "file_extension": ".py",
   "mimetype": "text/x-python",
   "name": "python",
   "nbconvert_exporter": "python",
   "pygments_lexer": "ipython3",
   "version": "3.7.4"
  }
 },
 "nbformat": 4,
 "nbformat_minor": 1
}
