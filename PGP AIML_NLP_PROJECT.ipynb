{
 "cells": [
  {
   "cell_type": "code",
   "execution_count": 1,
   "metadata": {},
   "outputs": [],
   "source": [
    "import pandas as pd\n",
    "import re\n",
    "from nltk.corpus import stopwords\n",
    "from sklearn.feature_extraction.text import CountVectorizer\n",
    "from sklearn.model_selection import train_test_split\n",
    "from nltk.stem.snowball import SnowballStemmer\n",
    "import warnings\n",
    "warnings.filterwarnings('ignore')\n",
    "import pandas_profiling as pp\n",
    "import seaborn as sns\n",
    "import matplotlib as plt\n",
    "%matplotlib inline"
   ]
  },
  {
   "cell_type": "code",
   "execution_count": 2,
   "metadata": {},
   "outputs": [],
   "source": [
    "import numpy as np # linear algebra\n",
    "import pandas as pd"
   ]
  },
  {
   "cell_type": "code",
   "execution_count": 3,
   "metadata": {},
   "outputs": [],
   "source": [
    "df = pd.read_csv(\"blogtext.csv\",nrows=20000)"
   ]
  },
  {
   "cell_type": "code",
   "execution_count": 4,
   "metadata": {},
   "outputs": [
    {
     "data": {
      "text/plain": [
       "(20000, 7)"
      ]
     },
     "execution_count": 4,
     "metadata": {},
     "output_type": "execute_result"
    }
   ],
   "source": [
    "df.shape"
   ]
  },
  {
   "cell_type": "code",
   "execution_count": 5,
   "metadata": {},
   "outputs": [
    {
     "data": {
      "text/html": [
       "<div>\n",
       "<style scoped>\n",
       "    .dataframe tbody tr th:only-of-type {\n",
       "        vertical-align: middle;\n",
       "    }\n",
       "\n",
       "    .dataframe tbody tr th {\n",
       "        vertical-align: top;\n",
       "    }\n",
       "\n",
       "    .dataframe thead th {\n",
       "        text-align: right;\n",
       "    }\n",
       "</style>\n",
       "<table border=\"1\" class=\"dataframe\">\n",
       "  <thead>\n",
       "    <tr style=\"text-align: right;\">\n",
       "      <th></th>\n",
       "      <th>id</th>\n",
       "      <th>gender</th>\n",
       "      <th>age</th>\n",
       "      <th>topic</th>\n",
       "      <th>sign</th>\n",
       "      <th>date</th>\n",
       "      <th>text</th>\n",
       "    </tr>\n",
       "  </thead>\n",
       "  <tbody>\n",
       "    <tr>\n",
       "      <th>15993</th>\n",
       "      <td>3364922</td>\n",
       "      <td>female</td>\n",
       "      <td>16</td>\n",
       "      <td>Student</td>\n",
       "      <td>Capricorn</td>\n",
       "      <td>17,May,2004</td>\n",
       "      <td>well, as you can see i have put up a co...</td>\n",
       "    </tr>\n",
       "    <tr>\n",
       "      <th>13773</th>\n",
       "      <td>468786</td>\n",
       "      <td>male</td>\n",
       "      <td>45</td>\n",
       "      <td>Religion</td>\n",
       "      <td>Aries</td>\n",
       "      <td>24,June,2004</td>\n",
       "      <td>Our big outreach to teens is toni...</td>\n",
       "    </tr>\n",
       "    <tr>\n",
       "      <th>2435</th>\n",
       "      <td>589736</td>\n",
       "      <td>male</td>\n",
       "      <td>35</td>\n",
       "      <td>Technology</td>\n",
       "      <td>Aries</td>\n",
       "      <td>05,August,2004</td>\n",
       "      <td>Besides, it is an 'Army of One' aft...</td>\n",
       "    </tr>\n",
       "    <tr>\n",
       "      <th>18030</th>\n",
       "      <td>3657741</td>\n",
       "      <td>female</td>\n",
       "      <td>23</td>\n",
       "      <td>indUnk</td>\n",
       "      <td>Cancer</td>\n",
       "      <td>20,July,2004</td>\n",
       "      <td>urlLink     A Tyson's Chicken work...</td>\n",
       "    </tr>\n",
       "    <tr>\n",
       "      <th>16865</th>\n",
       "      <td>3970082</td>\n",
       "      <td>female</td>\n",
       "      <td>26</td>\n",
       "      <td>indUnk</td>\n",
       "      <td>Gemini</td>\n",
       "      <td>29,July,2004</td>\n",
       "      <td>God Bless Reverend Al Sharpton. I have ...</td>\n",
       "    </tr>\n",
       "    <tr>\n",
       "      <th>460</th>\n",
       "      <td>649790</td>\n",
       "      <td>female</td>\n",
       "      <td>24</td>\n",
       "      <td>indUnk</td>\n",
       "      <td>Scorpio</td>\n",
       "      <td>24,May,2004</td>\n",
       "      <td>Man oh man  I really should be p...</td>\n",
       "    </tr>\n",
       "    <tr>\n",
       "      <th>19460</th>\n",
       "      <td>756463</td>\n",
       "      <td>male</td>\n",
       "      <td>35</td>\n",
       "      <td>Technology</td>\n",
       "      <td>Scorpio</td>\n",
       "      <td>10,June,2004</td>\n",
       "      <td>This cracks me up... the funny...</td>\n",
       "    </tr>\n",
       "    <tr>\n",
       "      <th>13546</th>\n",
       "      <td>1976124</td>\n",
       "      <td>male</td>\n",
       "      <td>25</td>\n",
       "      <td>indUnk</td>\n",
       "      <td>Libra</td>\n",
       "      <td>15,January,2004</td>\n",
       "      <td>Well, for those keeping track, so...</td>\n",
       "    </tr>\n",
       "    <tr>\n",
       "      <th>9896</th>\n",
       "      <td>3291253</td>\n",
       "      <td>male</td>\n",
       "      <td>27</td>\n",
       "      <td>Education</td>\n",
       "      <td>Virgo</td>\n",
       "      <td>26,May,2004</td>\n",
       "      <td>urlLink The New York Times &gt; New Y...</td>\n",
       "    </tr>\n",
       "    <tr>\n",
       "      <th>2302</th>\n",
       "      <td>589736</td>\n",
       "      <td>male</td>\n",
       "      <td>35</td>\n",
       "      <td>Technology</td>\n",
       "      <td>Aries</td>\n",
       "      <td>05,August,2004</td>\n",
       "      <td>Bear in mind that I am not at all a...</td>\n",
       "    </tr>\n",
       "  </tbody>\n",
       "</table>\n",
       "</div>"
      ],
      "text/plain": [
       "            id  gender  age       topic       sign             date  \\\n",
       "15993  3364922  female   16     Student  Capricorn      17,May,2004   \n",
       "13773   468786    male   45    Religion      Aries     24,June,2004   \n",
       "2435    589736    male   35  Technology      Aries   05,August,2004   \n",
       "18030  3657741  female   23      indUnk     Cancer     20,July,2004   \n",
       "16865  3970082  female   26      indUnk     Gemini     29,July,2004   \n",
       "460     649790  female   24      indUnk    Scorpio      24,May,2004   \n",
       "19460   756463    male   35  Technology    Scorpio     10,June,2004   \n",
       "13546  1976124    male   25      indUnk      Libra  15,January,2004   \n",
       "9896   3291253    male   27   Education      Virgo      26,May,2004   \n",
       "2302    589736    male   35  Technology      Aries   05,August,2004   \n",
       "\n",
       "                                                    text  \n",
       "15993         well, as you can see i have put up a co...  \n",
       "13773               Our big outreach to teens is toni...  \n",
       "2435              Besides, it is an 'Army of One' aft...  \n",
       "18030              urlLink     A Tyson's Chicken work...  \n",
       "16865         God Bless Reverend Al Sharpton. I have ...  \n",
       "460                  Man oh man  I really should be p...  \n",
       "19460                  This cracks me up... the funny...  \n",
       "13546               Well, for those keeping track, so...  \n",
       "9896               urlLink The New York Times > New Y...  \n",
       "2302              Bear in mind that I am not at all a...  "
      ]
     },
     "execution_count": 5,
     "metadata": {},
     "output_type": "execute_result"
    }
   ],
   "source": [
    "df.sample(10)"
   ]
  },
  {
   "cell_type": "code",
   "execution_count": 6,
   "metadata": {},
   "outputs": [
    {
     "name": "stdout",
     "output_type": "stream",
     "text": [
      "<class 'pandas.core.frame.DataFrame'>\n",
      "RangeIndex: 20000 entries, 0 to 19999\n",
      "Data columns (total 7 columns):\n",
      " #   Column  Non-Null Count  Dtype \n",
      "---  ------  --------------  ----- \n",
      " 0   id      20000 non-null  int64 \n",
      " 1   gender  20000 non-null  object\n",
      " 2   age     20000 non-null  int64 \n",
      " 3   topic   20000 non-null  object\n",
      " 4   sign    20000 non-null  object\n",
      " 5   date    20000 non-null  object\n",
      " 6   text    20000 non-null  object\n",
      "dtypes: int64(2), object(5)\n",
      "memory usage: 1.1+ MB\n"
     ]
    }
   ],
   "source": [
    "df.info()"
   ]
  },
  {
   "cell_type": "code",
   "execution_count": 7,
   "metadata": {},
   "outputs": [
    {
     "data": {
      "text/plain": [
       "male      11354\n",
       "female     8646\n",
       "Name: gender, dtype: int64"
      ]
     },
     "execution_count": 7,
     "metadata": {},
     "output_type": "execute_result"
    }
   ],
   "source": [
    "df.gender.value_counts()"
   ]
  },
  {
   "cell_type": "code",
   "execution_count": 8,
   "metadata": {},
   "outputs": [
    {
     "data": {
      "text/plain": [
       "<AxesSubplot:xlabel='gender', ylabel='count'>"
      ]
     },
     "execution_count": 8,
     "metadata": {},
     "output_type": "execute_result"
    },
    {
     "data": {
      "image/png": "[encoded data removed]",
      "text/plain": [
       "<Figure size 432x288 with 1 Axes>"
      ]
     },
     "metadata": {
      "needs_background": "light"
     },
     "output_type": "display_data"
    }
   ],
   "source": [
    "sns.countplot(x='gender',data=df)"
   ]
  },
  {
   "cell_type": "code",
   "execution_count": 9,
   "metadata": {},
   "outputs": [
    {
     "data": {
      "text/plain": [
       "<AxesSubplot:xlabel='sign', ylabel='count'>"
      ]
     },
     "execution_count": 9,
     "metadata": {},
     "output_type": "execute_result"
    },
    {
     "data": {
      "image/png": "[encoded data removed]",
      "text/plain": [
       "<Figure size 432x288 with 1 Axes>"
      ]
     },
     "metadata": {
      "needs_background": "light"
     },
     "output_type": "display_data"
    }
   ],
   "source": [
    "sns.countplot(x='sign',data=df)"
   ]
  },
  {
   "cell_type": "code",
   "execution_count": 10,
   "metadata": {},
   "outputs": [
    {
     "data": {
      "text/plain": [
       "id        0\n",
       "gender    0\n",
       "age       0\n",
       "topic     0\n",
       "sign      0\n",
       "date      0\n",
       "text      0\n",
       "dtype: int64"
      ]
     },
     "execution_count": 10,
     "metadata": {},
     "output_type": "execute_result"
    }
   ],
   "source": [
    "df.isnull().sum()"
   ]
  },
  {
   "cell_type": "code",
   "execution_count": 11,
   "metadata": {},
   "outputs": [],
   "source": [
    "df.drop(['id','date'], axis=1, inplace=True)\n"
   ]
  },
  {
   "cell_type": "code",
   "execution_count": 12,
   "metadata": {},
   "outputs": [],
   "source": [
    "df['age']=df['age'].astype('object')"
   ]
  },
  {
   "cell_type": "code",
   "execution_count": 13,
   "metadata": {},
   "outputs": [],
   "source": [
    "df['clean_data']=df['text'].apply(lambda x: re.sub(r'[^A-Za-z]+',' ',x))"
   ]
  },
  {
   "cell_type": "code",
   "execution_count": 14,
   "metadata": {},
   "outputs": [],
   "source": [
    "df['clean_data']=df['clean_data'].apply(lambda x: x.lower())"
   ]
  },
  {
   "cell_type": "code",
   "execution_count": 15,
   "metadata": {},
   "outputs": [],
   "source": [
    "df['clean_data']=df['clean_data'].apply(lambda x: x.strip())"
   ]
  },
  {
   "cell_type": "code",
   "execution_count": 16,
   "metadata": {},
   "outputs": [
    {
     "name": "stdout",
     "output_type": "stream",
     "text": [
      "Actual data=======>            These are the team members:   Drewes van der Laag           urlLink mail  Ruiyu Xie                     urlLink mail  Bryan Aaldering (me)          urlLink mail          \n"
     ]
    }
   ],
   "source": [
    "print(\"Actual data=======> {}\".format(df['text'][1]))"
   ]
  },
  {
   "cell_type": "code",
   "execution_count": 17,
   "metadata": {},
   "outputs": [
    {
     "name": "stdout",
     "output_type": "stream",
     "text": [
      "Cleaned data=======> these are the team members drewes van der laag urllink mail ruiyu xie urllink mail bryan aaldering me urllink mail\n"
     ]
    }
   ],
   "source": [
    "print(\"Cleaned data=======> {}\".format(df['clean_data'][1]))"
   ]
  },
  {
   "cell_type": "code",
   "execution_count": 18,
   "metadata": {},
   "outputs": [],
   "source": [
    "from nltk.corpus import stopwords\n",
    "stopwords=set(stopwords.words('english'))"
   ]
  },
  {
   "cell_type": "code",
   "execution_count": 19,
   "metadata": {},
   "outputs": [],
   "source": [
    "df['clean_data']=df['clean_data'].apply(lambda x: ' '.join([words for words in x.split() if words not in stopwords]))"
   ]
  },
  {
   "cell_type": "code",
   "execution_count": 20,
   "metadata": {},
   "outputs": [
    {
     "data": {
      "text/plain": [
       "'somehow coca cola way summing things well early flagship jingle like buy world coke tune like teach world sing pretty much summed post woodstock era well add much sales catchy tune korea coke theme urllink stop thinking feel pretty much sums lot korea koreans look relaxed couple stopped thinking started feeling course high regard education math logic deep think many koreans really like work emotion anything else westerners seem sublimate moreso least display different way maybe scratch westerners koreans probably pretty similar context different anyways think losing korea repeat stop thinking feel stop thinking feel stop thinking feel everything alright'"
      ]
     },
     "execution_count": 20,
     "metadata": {},
     "output_type": "execute_result"
    }
   ],
   "source": [
    "df['clean_data'][6]"
   ]
  },
  {
   "cell_type": "code",
   "execution_count": 21,
   "metadata": {},
   "outputs": [],
   "source": [
    "df['labels']=df.apply(lambda col: [col['gender'],str(col['age']),col['topic'],col['sign']], axis=1)"
   ]
  },
  {
   "cell_type": "code",
   "execution_count": 22,
   "metadata": {},
   "outputs": [
    {
     "data": {
      "text/html": [
       "<div>\n",
       "<style scoped>\n",
       "    .dataframe tbody tr th:only-of-type {\n",
       "        vertical-align: middle;\n",
       "    }\n",
       "\n",
       "    .dataframe tbody tr th {\n",
       "        vertical-align: top;\n",
       "    }\n",
       "\n",
       "    .dataframe thead th {\n",
       "        text-align: right;\n",
       "    }\n",
       "</style>\n",
       "<table border=\"1\" class=\"dataframe\">\n",
       "  <thead>\n",
       "    <tr style=\"text-align: right;\">\n",
       "      <th></th>\n",
       "      <th>gender</th>\n",
       "      <th>age</th>\n",
       "      <th>topic</th>\n",
       "      <th>sign</th>\n",
       "      <th>text</th>\n",
       "      <th>clean_data</th>\n",
       "      <th>labels</th>\n",
       "    </tr>\n",
       "  </thead>\n",
       "  <tbody>\n",
       "    <tr>\n",
       "      <th>0</th>\n",
       "      <td>male</td>\n",
       "      <td>15</td>\n",
       "      <td>Student</td>\n",
       "      <td>Leo</td>\n",
       "      <td>Info has been found (+/- 100 pages,...</td>\n",
       "      <td>info found pages mb pdf files wait untill team...</td>\n",
       "      <td>[male, 15, Student, Leo]</td>\n",
       "    </tr>\n",
       "    <tr>\n",
       "      <th>1</th>\n",
       "      <td>male</td>\n",
       "      <td>15</td>\n",
       "      <td>Student</td>\n",
       "      <td>Leo</td>\n",
       "      <td>These are the team members:   Drewe...</td>\n",
       "      <td>team members drewes van der laag urllink mail ...</td>\n",
       "      <td>[male, 15, Student, Leo]</td>\n",
       "    </tr>\n",
       "    <tr>\n",
       "      <th>2</th>\n",
       "      <td>male</td>\n",
       "      <td>15</td>\n",
       "      <td>Student</td>\n",
       "      <td>Leo</td>\n",
       "      <td>In het kader van kernfusie op aarde...</td>\n",
       "      <td>het kader van kernfusie op aarde maak je eigen...</td>\n",
       "      <td>[male, 15, Student, Leo]</td>\n",
       "    </tr>\n",
       "    <tr>\n",
       "      <th>3</th>\n",
       "      <td>male</td>\n",
       "      <td>15</td>\n",
       "      <td>Student</td>\n",
       "      <td>Leo</td>\n",
       "      <td>testing!!!  testing!!!</td>\n",
       "      <td>testing testing</td>\n",
       "      <td>[male, 15, Student, Leo]</td>\n",
       "    </tr>\n",
       "    <tr>\n",
       "      <th>4</th>\n",
       "      <td>male</td>\n",
       "      <td>33</td>\n",
       "      <td>InvestmentBanking</td>\n",
       "      <td>Aquarius</td>\n",
       "      <td>Thanks to Yahoo!'s Toolbar I can ...</td>\n",
       "      <td>thanks yahoo toolbar capture urls popups means...</td>\n",
       "      <td>[male, 33, InvestmentBanking, Aquarius]</td>\n",
       "    </tr>\n",
       "  </tbody>\n",
       "</table>\n",
       "</div>"
      ],
      "text/plain": [
       "  gender age              topic      sign  \\\n",
       "0   male  15            Student       Leo   \n",
       "1   male  15            Student       Leo   \n",
       "2   male  15            Student       Leo   \n",
       "3   male  15            Student       Leo   \n",
       "4   male  33  InvestmentBanking  Aquarius   \n",
       "\n",
       "                                                text  \\\n",
       "0             Info has been found (+/- 100 pages,...   \n",
       "1             These are the team members:   Drewe...   \n",
       "2             In het kader van kernfusie op aarde...   \n",
       "3                   testing!!!  testing!!!             \n",
       "4               Thanks to Yahoo!'s Toolbar I can ...   \n",
       "\n",
       "                                          clean_data  \\\n",
       "0  info found pages mb pdf files wait untill team...   \n",
       "1  team members drewes van der laag urllink mail ...   \n",
       "2  het kader van kernfusie op aarde maak je eigen...   \n",
       "3                                    testing testing   \n",
       "4  thanks yahoo toolbar capture urls popups means...   \n",
       "\n",
       "                                    labels  \n",
       "0                 [male, 15, Student, Leo]  \n",
       "1                 [male, 15, Student, Leo]  \n",
       "2                 [male, 15, Student, Leo]  \n",
       "3                 [male, 15, Student, Leo]  \n",
       "4  [male, 33, InvestmentBanking, Aquarius]  "
      ]
     },
     "execution_count": 22,
     "metadata": {},
     "output_type": "execute_result"
    }
   ],
   "source": [
    "df.head()"
   ]
  },
  {
   "cell_type": "code",
   "execution_count": 23,
   "metadata": {},
   "outputs": [],
   "source": [
    "df=df[['clean_data','labels']]"
   ]
  },
  {
   "cell_type": "code",
   "execution_count": 24,
   "metadata": {},
   "outputs": [],
   "source": [
    "X=df['clean_data']"
   ]
  },
  {
   "cell_type": "code",
   "execution_count": 25,
   "metadata": {},
   "outputs": [],
   "source": [
    "Y=df['labels']"
   ]
  },
  {
   "cell_type": "code",
   "execution_count": 26,
   "metadata": {},
   "outputs": [],
   "source": [
    "from sklearn.feature_extraction.text import CountVectorizer"
   ]
  },
  {
   "cell_type": "code",
   "execution_count": 27,
   "metadata": {},
   "outputs": [],
   "source": [
    "vectorizer=CountVectorizer(binary=True, ngram_range=(1,2))\n"
   ]
  },
  {
   "cell_type": "code",
   "execution_count": 28,
   "metadata": {},
   "outputs": [],
   "source": [
    "X=vectorizer.fit_transform(X)"
   ]
  },
  {
   "cell_type": "code",
   "execution_count": 29,
   "metadata": {},
   "outputs": [
    {
     "data": {
      "text/plain": [
       "['aa', 'aa aa', 'aa advert', 'aa amazing', 'aa anger']"
      ]
     },
     "execution_count": 29,
     "metadata": {},
     "output_type": "execute_result"
    }
   ],
   "source": [
    "vectorizer.get_feature_names()[:5]"
   ]
  },
  {
   "cell_type": "code",
   "execution_count": 30,
   "metadata": {},
   "outputs": [],
   "source": [
    "label_counts=dict()\n",
    "\n",
    "for labels in df.labels.values:\n",
    "    for label in labels:\n",
    "        if label in label_counts:\n",
    "            label_counts[label]+=1\n",
    "        else:\n",
    "            label_counts[label]=1"
   ]
  },
  {
   "cell_type": "code",
   "execution_count": 31,
   "metadata": {},
   "outputs": [
    {
     "data": {
      "text/plain": [
       "{'male': 11354,\n",
       " '15': 1097,\n",
       " 'Student': 2637,\n",
       " 'Leo': 1732,\n",
       " '33': 769,\n",
       " 'InvestmentBanking': 71,\n",
       " 'Aquarius': 1313,\n",
       " 'female': 8646,\n",
       " '14': 811,\n",
       " 'indUnk': 7789,\n",
       " 'Aries': 5209,\n",
       " '25': 1190,\n",
       " 'Capricorn': 930,\n",
       " '17': 1961,\n",
       " 'Gemini': 780,\n",
       " '23': 1963,\n",
       " 'Non-Profit': 204,\n",
       " 'Cancer': 1536,\n",
       " 'Banking': 89,\n",
       " '37': 130,\n",
       " 'Sagittarius': 2153,\n",
       " '26': 919,\n",
       " '24': 1557,\n",
       " 'Scorpio': 1485,\n",
       " '27': 2320,\n",
       " 'Education': 759,\n",
       " '45': 72,\n",
       " 'Engineering': 357,\n",
       " 'Libra': 983,\n",
       " 'Science': 87,\n",
       " '34': 871,\n",
       " '41': 82,\n",
       " 'Communications-Media': 414,\n",
       " 'BusinessServices': 184,\n",
       " 'Sports-Recreation': 120,\n",
       " 'Virgo': 871,\n",
       " 'Taurus': 1330,\n",
       " 'Arts': 358,\n",
       " 'Pisces': 1678,\n",
       " '44': 9,\n",
       " '16': 1236,\n",
       " 'Internet': 778,\n",
       " 'Museums-Libraries': 67,\n",
       " 'Accounting': 35,\n",
       " '39': 105,\n",
       " '35': 2494,\n",
       " 'Technology': 2989,\n",
       " '36': 1726,\n",
       " 'Law': 47,\n",
       " '46': 188,\n",
       " 'Consulting': 166,\n",
       " 'Automotive': 111,\n",
       " '42': 47,\n",
       " 'Religion': 182,\n",
       " '13': 113,\n",
       " 'Fashion': 1622,\n",
       " '38': 85,\n",
       " '43': 6,\n",
       " 'Publishing': 70,\n",
       " '40': 1,\n",
       " 'Marketing': 207,\n",
       " 'LawEnforcement-Security': 90,\n",
       " 'HumanResources': 15,\n",
       " 'Telecommunications': 10,\n",
       " 'Military': 19,\n",
       " 'Government': 187,\n",
       " 'Transportation': 46,\n",
       " 'Architecture': 45,\n",
       " 'Advertising': 42,\n",
       " '47': 8,\n",
       " 'Agriculture': 46,\n",
       " 'Biotech': 36,\n",
       " 'RealEstate': 7,\n",
       " 'Manufacturing': 93,\n",
       " '48': 240,\n",
       " 'Construction': 21}"
      ]
     },
     "execution_count": 31,
     "metadata": {},
     "output_type": "execute_result"
    }
   ],
   "source": [
    "label_counts"
   ]
  },
  {
   "cell_type": "code",
   "execution_count": 32,
   "metadata": {},
   "outputs": [],
   "source": [
    "from sklearn.preprocessing import MultiLabelBinarizer\n",
    "binarizer=MultiLabelBinarizer(classes=sorted(label_counts.keys()))"
   ]
  },
  {
   "cell_type": "code",
   "execution_count": 33,
   "metadata": {},
   "outputs": [],
   "source": [
    "Y=binarizer.fit_transform(df.labels)"
   ]
  },
  {
   "cell_type": "code",
   "execution_count": 34,
   "metadata": {},
   "outputs": [],
   "source": [
    "from sklearn.model_selection import train_test_split"
   ]
  },
  {
   "cell_type": "code",
   "execution_count": 35,
   "metadata": {},
   "outputs": [],
   "source": [
    "Xtrain,Xtest,Ytrain,Ytest=train_test_split(X,Y,test_size=0.2)"
   ]
  },
  {
   "cell_type": "code",
   "execution_count": 36,
   "metadata": {},
   "outputs": [],
   "source": [
    "from sklearn.multiclass import OneVsRestClassifier\n",
    "from sklearn.linear_model import LogisticRegression"
   ]
  },
  {
   "cell_type": "code",
   "execution_count": 37,
   "metadata": {},
   "outputs": [],
   "source": [
    "model=LogisticRegression(solver='lbfgs')"
   ]
  },
  {
   "cell_type": "code",
   "execution_count": 38,
   "metadata": {},
   "outputs": [],
   "source": [
    "model=OneVsRestClassifier(model)"
   ]
  },
  {
   "cell_type": "code",
   "execution_count": 39,
   "metadata": {},
   "outputs": [
    {
     "data": {
      "text/plain": [
       "OneVsRestClassifier(estimator=LogisticRegression())"
      ]
     },
     "execution_count": 39,
     "metadata": {},
     "output_type": "execute_result"
    }
   ],
   "source": [
    "model.fit(Xtrain,Ytrain)"
   ]
  },
  {
   "cell_type": "code",
   "execution_count": 40,
   "metadata": {},
   "outputs": [],
   "source": [
    "Ypred=model.predict(Xtest)"
   ]
  },
  {
   "cell_type": "code",
   "execution_count": 41,
   "metadata": {},
   "outputs": [],
   "source": [
    "Ypred_inversed = binarizer.inverse_transform(Ypred)\n",
    "y_test_inversed = binarizer.inverse_transform(Ytest)"
   ]
  },
  {
   "cell_type": "code",
   "execution_count": 42,
   "metadata": {},
   "outputs": [
    {
     "name": "stdout",
     "output_type": "stream",
     "text": [
      "Text:\t  (0, 1128510)\t1\n",
      "  (0, 997482)\t1\n",
      "  (0, 643280)\t1\n",
      "  (0, 432702)\t1\n",
      "  (0, 655426)\t1\n",
      "  (0, 433581)\t1\n",
      "  (0, 602851)\t1\n",
      "  (0, 323970)\t1\n",
      "  (0, 1182275)\t1\n",
      "  (0, 861566)\t1\n",
      "  (0, 922822)\t1\n",
      "  (0, 236654)\t1\n",
      "  (0, 272938)\t1\n",
      "  (0, 1083113)\t1\n",
      "  (0, 1159934)\t1\n",
      "  (0, 472223)\t1\n",
      "  (0, 339287)\t1\n",
      "  (0, 459283)\t1\n",
      "  (0, 1251018)\t1\n",
      "  (0, 1197755)\t1\n",
      "  (0, 604534)\t1\n",
      "  (0, 403024)\t1\n",
      "  (0, 919942)\t1\n",
      "  (0, 770719)\t1\n",
      "  (0, 784416)\t1\n",
      "  :\t:\n",
      "  (0, 567870)\t1\n",
      "  (0, 315344)\t1\n",
      "  (0, 1124420)\t1\n",
      "  (0, 862166)\t1\n",
      "  (0, 339320)\t1\n",
      "  (0, 157142)\t1\n",
      "  (0, 567877)\t1\n",
      "  (0, 391205)\t1\n",
      "  (0, 365775)\t1\n",
      "  (0, 1087530)\t1\n",
      "  (0, 905542)\t1\n",
      "  (0, 246710)\t1\n",
      "  (0, 530206)\t1\n",
      "  (0, 1311226)\t1\n",
      "  (0, 18585)\t1\n",
      "  (0, 324215)\t1\n",
      "  (0, 900088)\t1\n",
      "  (0, 1241589)\t1\n",
      "  (0, 403874)\t1\n",
      "  (0, 1019941)\t1\n",
      "  (0, 514898)\t1\n",
      "  (0, 1248441)\t1\n",
      "  (0, 1020179)\t1\n",
      "  (0, 525768)\t1\n",
      "  (0, 43614)\t1\n",
      "True labels:\t23,Leo,Marketing,female\n",
      "Predicted labels:\tfemale,indUnk\n",
      "\n",
      "\n",
      "Text:\t  (0, 1159934)\t1\n",
      "  (0, 770719)\t1\n",
      "  (0, 78724)\t1\n",
      "  (0, 936386)\t1\n",
      "  (0, 1281594)\t1\n",
      "  (0, 1170100)\t1\n",
      "  (0, 1066031)\t1\n",
      "  (0, 1066130)\t1\n",
      "  (0, 1085506)\t1\n",
      "  (0, 1229011)\t1\n",
      "  (0, 754967)\t1\n",
      "  (0, 400298)\t1\n",
      "  (0, 696050)\t1\n",
      "  (0, 280499)\t1\n",
      "  (0, 281817)\t1\n",
      "  (0, 457153)\t1\n",
      "  (0, 556047)\t1\n",
      "  (0, 278949)\t1\n",
      "  (0, 755597)\t1\n",
      "  (0, 1045062)\t1\n",
      "  (0, 772436)\t1\n",
      "  (0, 572626)\t1\n",
      "  (0, 821428)\t1\n",
      "  (0, 696070)\t1\n",
      "  (0, 1163091)\t1\n",
      "  (0, 94208)\t1\n",
      "  (0, 457418)\t1\n",
      "  (0, 1085531)\t1\n",
      "  (0, 400348)\t1\n",
      "  (0, 771134)\t1\n",
      "  (0, 281844)\t1\n",
      "  (0, 1170165)\t1\n",
      "  (0, 1045078)\t1\n",
      "  (0, 572630)\t1\n",
      "  (0, 280612)\t1\n",
      "  (0, 1281732)\t1\n",
      "  (0, 1229066)\t1\n",
      "  (0, 278966)\t1\n",
      "  (0, 556097)\t1\n",
      "  (0, 936391)\t1\n",
      "  (0, 80347)\t1\n",
      "  (0, 821429)\t1\n",
      "True labels:\t27,Technology,Virgo,male\n",
      "Predicted labels:\t27,male\n",
      "\n",
      "\n",
      "Text:\t  (0, 643280)\t1\n",
      "  (0, 1291885)\t1\n",
      "  (0, 1159934)\t1\n",
      "  (0, 681339)\t1\n",
      "  (0, 1075088)\t1\n",
      "  (0, 459283)\t1\n",
      "  (0, 403024)\t1\n",
      "  (0, 800548)\t1\n",
      "  (0, 1118626)\t1\n",
      "  (0, 42855)\t1\n",
      "  (0, 29111)\t1\n",
      "  (0, 148755)\t1\n",
      "  (0, 980823)\t1\n",
      "  (0, 587134)\t1\n",
      "  (0, 336784)\t1\n",
      "  (0, 1019690)\t1\n",
      "  (0, 873944)\t1\n",
      "  (0, 43641)\t1\n",
      "  (0, 1293022)\t1\n",
      "  (0, 807222)\t1\n",
      "  (0, 390151)\t1\n",
      "  (0, 943596)\t1\n",
      "  (0, 1078286)\t1\n",
      "  (0, 909252)\t1\n",
      "  (0, 199352)\t1\n",
      "  :\t:\n",
      "  (0, 1160799)\t1\n",
      "  (0, 731511)\t1\n",
      "  (0, 587403)\t1\n",
      "  (0, 548906)\t1\n",
      "  (0, 565547)\t1\n",
      "  (0, 836293)\t1\n",
      "  (0, 1157600)\t1\n",
      "  (0, 900334)\t1\n",
      "  (0, 199412)\t1\n",
      "  (0, 731521)\t1\n",
      "  (0, 980838)\t1\n",
      "  (0, 682211)\t1\n",
      "  (0, 1078404)\t1\n",
      "  (0, 943599)\t1\n",
      "  (0, 802245)\t1\n",
      "  (0, 548907)\t1\n",
      "  (0, 874377)\t1\n",
      "  (0, 565548)\t1\n",
      "  (0, 909328)\t1\n",
      "  (0, 460101)\t1\n",
      "  (0, 390408)\t1\n",
      "  (0, 1119513)\t1\n",
      "  (0, 836295)\t1\n",
      "  (0, 1157601)\t1\n",
      "  (0, 1019827)\t1\n",
      "True labels:\t15,Education,Virgo,male\n",
      "Predicted labels:\tmale\n",
      "\n",
      "\n",
      "Text:\t  (0, 154459)\t1\n",
      "  (0, 978728)\t1\n",
      "  (0, 826117)\t1\n",
      "  (0, 769419)\t1\n",
      "  (0, 917685)\t1\n",
      "  (0, 651420)\t1\n",
      "  (0, 89886)\t1\n",
      "  (0, 719219)\t1\n",
      "  (0, 689235)\t1\n",
      "  (0, 210024)\t1\n",
      "  (0, 650711)\t1\n",
      "  (0, 435538)\t1\n",
      "  (0, 530881)\t1\n",
      "  (0, 361670)\t1\n",
      "  (0, 435990)\t1\n",
      "  (0, 244460)\t1\n",
      "  (0, 180594)\t1\n",
      "  (0, 213240)\t1\n",
      "  (0, 361942)\t1\n",
      "  (0, 918224)\t1\n",
      "  (0, 689399)\t1\n",
      "  (0, 826300)\t1\n",
      "  (0, 979289)\t1\n",
      "  (0, 569364)\t1\n",
      "  (0, 770300)\t1\n",
      "  (0, 848691)\t1\n",
      "  (0, 244466)\t1\n",
      "  (0, 213258)\t1\n",
      "  (0, 848692)\t1\n",
      "  (0, 154990)\t1\n",
      "  (0, 569373)\t1\n",
      "  (0, 689246)\t1\n",
      "  (0, 89941)\t1\n",
      "  (0, 180668)\t1\n",
      "  (0, 650962)\t1\n",
      "  (0, 530901)\t1\n",
      "  (0, 689408)\t1\n",
      "  (0, 210411)\t1\n",
      "  (0, 719284)\t1\n",
      "True labels:\t26,Scorpio,Transportation,female\n",
      "Predicted labels:\tmale\n",
      "\n",
      "\n",
      "Text:\t  (0, 1213285)\t1\n",
      "  (0, 433581)\t1\n",
      "  (0, 861566)\t1\n",
      "  (0, 1251018)\t1\n",
      "  (0, 687575)\t1\n",
      "  (0, 746280)\t1\n",
      "  (0, 892958)\t1\n",
      "  (0, 479654)\t1\n",
      "  (0, 1283558)\t1\n",
      "  (0, 1245752)\t1\n",
      "  (0, 60509)\t1\n",
      "  (0, 747047)\t1\n",
      "  (0, 687803)\t1\n",
      "  (0, 60742)\t1\n",
      "  (0, 1252249)\t1\n",
      "  (0, 84734)\t1\n",
      "  (0, 434198)\t1\n",
      "  (0, 554110)\t1\n",
      "  (0, 1012577)\t1\n",
      "  (0, 554119)\t1\n",
      "  (0, 479721)\t1\n",
      "  (0, 1284378)\t1\n",
      "  (0, 1245772)\t1\n",
      "  (0, 1213569)\t1\n",
      "  (0, 84760)\t1\n",
      "  (0, 862057)\t1\n",
      "  (0, 1012579)\t1\n",
      "True labels:\t27,Sagittarius,indUnk,male\n",
      "Predicted labels:\tfemale\n",
      "\n",
      "\n"
     ]
    }
   ],
   "source": [
    "for i in range(5):\n",
    "    print('Text:\\t{}\\nTrue labels:\\t{}\\nPredicted labels:\\t{}\\n\\n'.format(\n",
    "        Xtest[i],\n",
    "        ','.join(y_test_inversed[i]),\n",
    "        ','.join(Ypred_inversed[i])\n",
    "    ))"
   ]
  },
  {
   "cell_type": "code",
   "execution_count": 50,
   "metadata": {},
   "outputs": [],
   "source": [
    "from sklearn.metrics import accuracy_score\n",
    "from sklearn.metrics import f1_score\n",
    "from sklearn.metrics import average_precision_score\n",
    "from sklearn.metrics import recall_score\n",
    "\n",
    "def print_evaluation_scores(Ytest, Ypred):\n",
    "    print('Accuracy score: ', accuracy_score(Ytest, Ypred))\n",
    "    print('F1 score: ', f1_score(Ytest, Ypred, average='micro'))\n",
    "    print('Average precision score: ', average_precision_score(Ytest, Ypred, average='micro'))\n",
    "    print('Average recall score: ', recall_score(Ytest, Ypred, average='micro'))"
   ]
  },
  {
   "cell_type": "code",
   "execution_count": 51,
   "metadata": {},
   "outputs": [
    {
     "name": "stdout",
     "output_type": "stream",
     "text": [
      "Accuracy score:  0.16575\n",
      "F1 score:  0.535183349851338\n",
      "Average precision score:  0.3507413006713473\n",
      "Average recall score:  0.405\n"
     ]
    }
   ],
   "source": [
    "print_evaluation_scores(Ytest, Ypred)"
   ]
  }
 ],
 "metadata": {
  "kernelspec": {
   "display_name": "Python 3",
   "language": "python",
   "name": "python3"
  },
  "language_info": {
   "codemirror_mode": {
    "name": "ipython",
    "version": 3
   },
   "file_extension": ".py",
   "mimetype": "text/x-python",
   "name": "python",
   "nbconvert_exporter": "python",
   "pygments_lexer": "ipython3",
   "version": "3.7.4"
  }
 },
 "nbformat": 4,
 "nbformat_minor": 5
}
