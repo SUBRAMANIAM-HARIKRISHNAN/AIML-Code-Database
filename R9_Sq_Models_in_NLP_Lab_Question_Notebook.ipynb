{
 "cells": [
  {
   "cell_type": "markdown",
   "metadata": {
    "id": "PHYs6Z84xV8E"
   },
   "source": [
    "<img src=\"http://drive.google.com/uc?export=view&id=1tpOCamr9aWz817atPnyXus8w5gJ3mIts\" width=500px>\n",
    "\n",
    "Proprietary content. © Great Learning. All Rights Reserved. Unauthorized use or distribution prohibited."
   ]
  },
  {
   "cell_type": "markdown",
   "metadata": {
    "id": "FbwHYUXhxaqD"
   },
   "source": [
    "## Problem Statement\n",
    "\n"
   ]
  },
  {
   "cell_type": "markdown",
   "metadata": {
    "id": "5QQxgAmWzSye"
   },
   "source": [
    "# Samsung Internal SSD Reviews prediction\n",
    "\n",
    "Rating predictions using reviews written by users can be a useful problem statement in E-commerce domain and can be used for recommending similar products that may interest users. The dataset in this problem statement comprises reviews pertaining to Samsung Internal SSD product specifically SAMSUNG 850 EVO 2.5\" 250GB SATA III 3D NAND Internal Solid State Drive (SSD) MZ-75E250B/AM from the NewEgg Store website.  We will build a Natural Language processing model using Glove embeddings which is trained on reviews given by customers that have used the product and try to predict ratings given a new rating.\n",
    "\n",
    "\n",
    "\n",
    "\n",
    "### Objective:\n",
    "Given the reviews provided by customers, can you train a model that accurately predicts the corresponding rating of a review?"
   ]
  },
  {
   "cell_type": "markdown",
   "metadata": {
    "id": "CI7usguRzeox"
   },
   "source": [
    "### Package version\n",
    "\n",
    "- tensorflow==2.3.0\n",
    "- scikit-learn==0.22.2.post1\n",
    "- pandas==1.0.5\n",
    "- numpy==1.18.5\n",
    "- matplotlib==3.2.2\n",
    "- google==2.0.3"
   ]
  },
  {
   "cell_type": "markdown",
   "metadata": {
    "id": "aiMdVjHRH7NR"
   },
   "source": [
    "### Data Dictionary \n",
    "\n",
    "- review_title : The Title for the customer review\n",
    "\n",
    "- overall_review: The whole customer review details\n",
    "\n",
    "- pros: The customer opinion about the good things in this product\n",
    "\n",
    "- cons: The customer opinion about the bad things in this product\n",
    "\n",
    "- ownership_pariod: How long the customer owned this product\n",
    "\n",
    "- date: When the review was written\n",
    "\n",
    "- rating_stars: The product rating from 1 to 5\n",
    "\n",
    "- year: In which year the review was written\n",
    "\n",
    "- month: In which month the review was written\n",
    "\n",
    "- day: In which day the review was written"
   ]
  },
  {
   "cell_type": "markdown",
   "metadata": {
    "id": "cEn52o8jznJK"
   },
   "source": [
    "## Table of Content\n",
    "\n",
    "1. Import Libraries\n",
    "\n",
    "2. Setting options\n",
    "\n",
    "3. Read Data\n",
    "\n",
    "4. Data Analysis and Preparation\n",
    "\n",
    "5. Model Building\n",
    "\n",
    "6. Conclusion and Interpretation\n",
    "\n",
    "7. Food for thought"
   ]
  },
  {
   "cell_type": "markdown",
   "metadata": {
    "id": "x_Lom6cXzqn7"
   },
   "source": [
    "## 1. Import Libraries"
   ]
  },
  {
   "cell_type": "markdown",
   "metadata": {
    "id": "FZtVstH8zre2"
   },
   "source": [
    "Let us start by mounting the drive"
   ]
  },
  {
   "cell_type": "code",
   "execution_count": 99,
   "metadata": {
    "colab": {
     "base_uri": "https://localhost:8080/"
    },
    "id": "jSsg8JHkIh2k",
    "outputId": "da7b5cb9-573f-4940-a702-b34cccd2e2e7"
   },
   "outputs": [
    {
     "name": "stdout",
     "output_type": "stream",
     "text": [
      "Drive already mounted at /content/drive; to attempt to forcibly remount, call drive.mount(\"/content/drive\", force_remount=True).\n"
     ]
    }
   ],
   "source": [
    "from google.colab import drive\n",
    "drive.mount('/content/drive')"
   ]
  },
  {
   "cell_type": "markdown",
   "metadata": {
    "id": "Gv-tZoFjz2WD"
   },
   "source": [
    "Let us check for the version of installed tensorflow."
   ]
  },
  {
   "cell_type": "code",
   "execution_count": 100,
   "metadata": {
    "colab": {
     "base_uri": "https://localhost:8080/"
    },
    "id": "eiuUVBuDzzn9",
    "outputId": "8b3946a0-5317-4b76-98b1-57b20c752c7a"
   },
   "outputs": [
    {
     "name": "stdout",
     "output_type": "stream",
     "text": [
      "2.6.0\n"
     ]
    }
   ],
   "source": [
    "# used to supress display of warnings\n",
    "import warnings\n",
    "\n",
    "# os is used to provide a way of using operating system dependent functionality\n",
    "# We use it for setting working folder\n",
    "import os\n",
    "\n",
    "# Pandas is used for data manipulation and analysis\n",
    "import pandas as pd \n",
    "\n",
    "# Numpy is used for large, multi-dimensional arrays and matrices, along with mathematical operators on these arrays\n",
    "import numpy as np\n",
    "\n",
    "# Matplotlib is a data visualization library for 2D plots of arrays, built on NumPy arrays \n",
    "# and designed to work with the broader SciPy stack\n",
    "import matplotlib.pyplot as plt\n",
    "%matplotlib inline\n",
    "from matplotlib import pyplot\n",
    "\n",
    "# Seaborn is based on matplotlib, which aids in drawing attractive and informative statistical graphics.\n",
    "import seaborn as sns\n",
    "import tensorflow \n",
    "print(tensorflow.__version__)"
   ]
  },
  {
   "cell_type": "markdown",
   "metadata": {
    "id": "fze-aokU0ukH"
   },
   "source": [
    "## 2. Setting Options"
   ]
  },
  {
   "cell_type": "code",
   "execution_count": 101,
   "metadata": {
    "id": "T3FALggG0xXa"
   },
   "outputs": [],
   "source": [
    "# suppress display of warnings\n",
    "warnings.filterwarnings('ignore')\n",
    "\n",
    "# display all dataframe columns\n",
    "pd.options.display.max_columns = None\n",
    "\n",
    "# to set the limit to 3 decimals\n",
    "pd.options.display.float_format = '{:.7f}'.format\n",
    "\n",
    "# display all dataframe rows\n",
    "pd.options.display.max_rows = None"
   ]
  },
  {
   "cell_type": "markdown",
   "metadata": {
    "id": "ZT1P1WdK1vfZ"
   },
   "source": [
    "## 3. Read Data"
   ]
  },
  {
   "cell_type": "markdown",
   "metadata": {
    "id": "NnnvF56gfwav"
   },
   "source": [
    "### Read the dataset and check top 5 rows"
   ]
  },
  {
   "cell_type": "code",
   "execution_count": 102,
   "metadata": {
    "colab": {
     "base_uri": "https://localhost:8080/",
     "height": 463
    },
    "id": "imj2VbNpf383",
    "outputId": "49c3e6bc-b0fb-46d1-fb31-1b633ff197ce"
   },
   "outputs": [
    {
     "data": {
      "text/html": [
       "<div>\n",
       "<style scoped>\n",
       "    .dataframe tbody tr th:only-of-type {\n",
       "        vertical-align: middle;\n",
       "    }\n",
       "\n",
       "    .dataframe tbody tr th {\n",
       "        vertical-align: top;\n",
       "    }\n",
       "\n",
       "    .dataframe thead th {\n",
       "        text-align: right;\n",
       "    }\n",
       "</style>\n",
       "<table border=\"1\" class=\"dataframe\">\n",
       "  <thead>\n",
       "    <tr style=\"text-align: right;\">\n",
       "      <th></th>\n",
       "      <th>Unnamed: 0</th>\n",
       "      <th>review_title</th>\n",
       "      <th>overall_review</th>\n",
       "      <th>pros</th>\n",
       "      <th>cons</th>\n",
       "      <th>ownership_pariod</th>\n",
       "      <th>date</th>\n",
       "      <th>rating_stars</th>\n",
       "      <th>year</th>\n",
       "      <th>month</th>\n",
       "      <th>day</th>\n",
       "    </tr>\n",
       "  </thead>\n",
       "  <tbody>\n",
       "    <tr>\n",
       "      <th>0</th>\n",
       "      <td>0</td>\n",
       "      <td>solid</td>\n",
       "      <td>buy it you will not regret this purchase</td>\n",
       "      <td>reliable fast silent cool running drive highly...</td>\n",
       "      <td>NaN</td>\n",
       "      <td>years</td>\n",
       "      <td>2019-12-05 12:58:58</td>\n",
       "      <td>5</td>\n",
       "      <td>2019</td>\n",
       "      <td>12</td>\n",
       "      <td>5</td>\n",
       "    </tr>\n",
       "    <tr>\n",
       "      <th>1</th>\n",
       "      <td>1</td>\n",
       "      <td>nice drive for price even cheaper by todays costs</td>\n",
       "      <td>good drive price</td>\n",
       "      <td>been running almost constantly since when i pu...</td>\n",
       "      <td>NaN</td>\n",
       "      <td>years</td>\n",
       "      <td>2019-11-01 08:25:45</td>\n",
       "      <td>5</td>\n",
       "      <td>2019</td>\n",
       "      <td>11</td>\n",
       "      <td>1</td>\n",
       "    </tr>\n",
       "    <tr>\n",
       "      <th>2</th>\n",
       "      <td>2</td>\n",
       "      <td>perfect</td>\n",
       "      <td>used this drive as my boot drive and only data...</td>\n",
       "      <td>good value decently fast good longevity</td>\n",
       "      <td>none so far</td>\n",
       "      <td>years</td>\n",
       "      <td>2019-10-27 17:05:49</td>\n",
       "      <td>5</td>\n",
       "      <td>2019</td>\n",
       "      <td>10</td>\n",
       "      <td>27</td>\n",
       "    </tr>\n",
       "    <tr>\n",
       "      <th>3</th>\n",
       "      <td>3</td>\n",
       "      <td>very snappy</td>\n",
       "      <td>os boots quicker os menus pop up quicker gamin...</td>\n",
       "      <td>noticeable improvement in os performance over ...</td>\n",
       "      <td>samsung magician software causes some games to...</td>\n",
       "      <td>years</td>\n",
       "      <td>2019-10-24 18:29:43</td>\n",
       "      <td>5</td>\n",
       "      <td>2019</td>\n",
       "      <td>10</td>\n",
       "      <td>24</td>\n",
       "    </tr>\n",
       "    <tr>\n",
       "      <th>4</th>\n",
       "      <td>4</td>\n",
       "      <td>worth the hype</td>\n",
       "      <td>this was the sdd that everyone said to get and...</td>\n",
       "      <td>NaN</td>\n",
       "      <td>NaN</td>\n",
       "      <td>years</td>\n",
       "      <td>2019-09-11 19:21:03</td>\n",
       "      <td>5</td>\n",
       "      <td>2019</td>\n",
       "      <td>9</td>\n",
       "      <td>11</td>\n",
       "    </tr>\n",
       "  </tbody>\n",
       "</table>\n",
       "</div>"
      ],
      "text/plain": [
       "   Unnamed: 0                                       review_title  \\\n",
       "0           0                                              solid   \n",
       "1           1  nice drive for price even cheaper by todays costs   \n",
       "2           2                                            perfect   \n",
       "3           3                                        very snappy   \n",
       "4           4                                     worth the hype   \n",
       "\n",
       "                                      overall_review  \\\n",
       "0           buy it you will not regret this purchase   \n",
       "1                                   good drive price   \n",
       "2  used this drive as my boot drive and only data...   \n",
       "3  os boots quicker os menus pop up quicker gamin...   \n",
       "4  this was the sdd that everyone said to get and...   \n",
       "\n",
       "                                                pros  \\\n",
       "0  reliable fast silent cool running drive highly...   \n",
       "1  been running almost constantly since when i pu...   \n",
       "2            good value decently fast good longevity   \n",
       "3  noticeable improvement in os performance over ...   \n",
       "4                                                NaN   \n",
       "\n",
       "                                                cons ownership_pariod  \\\n",
       "0                                                NaN            years   \n",
       "1                                                NaN            years   \n",
       "2                                        none so far            years   \n",
       "3  samsung magician software causes some games to...            years   \n",
       "4                                                NaN            years   \n",
       "\n",
       "                  date  rating_stars  year  month  day  \n",
       "0  2019-12-05 12:58:58             5  2019     12    5  \n",
       "1  2019-11-01 08:25:45             5  2019     11    1  \n",
       "2  2019-10-27 17:05:49             5  2019     10   27  \n",
       "3  2019-10-24 18:29:43             5  2019     10   24  \n",
       "4  2019-09-11 19:21:03             5  2019      9   11  "
      ]
     },
     "execution_count": 102,
     "metadata": {},
     "output_type": "execute_result"
    }
   ],
   "source": [
    "df = pd.read_csv(\"/content/drive/MyDrive/Statistical NLP/ssd_reviews.csv\")\n",
    "df.head()\n"
   ]
  },
  {
   "cell_type": "markdown",
   "metadata": {
    "id": "RGluIi5Sf5Rp"
   },
   "source": [
    "### Check info of the dataset and write your findings"
   ]
  },
  {
   "cell_type": "code",
   "execution_count": 103,
   "metadata": {
    "colab": {
     "base_uri": "https://localhost:8080/"
    },
    "id": "Pldlew5Mf9gA",
    "outputId": "fdf81bbf-6414-4423-d470-c96af3e5fc5c"
   },
   "outputs": [
    {
     "name": "stdout",
     "output_type": "stream",
     "text": [
      "<class 'pandas.core.frame.DataFrame'>\n",
      "RangeIndex: 2227 entries, 0 to 2226\n",
      "Data columns (total 11 columns):\n",
      " #   Column            Non-Null Count  Dtype \n",
      "---  ------            --------------  ----- \n",
      " 0   Unnamed: 0        2227 non-null   int64 \n",
      " 1   review_title      2131 non-null   object\n",
      " 2   overall_review    1448 non-null   object\n",
      " 3   pros              2205 non-null   object\n",
      " 4   cons              2216 non-null   object\n",
      " 5   ownership_pariod  2159 non-null   object\n",
      " 6   date              2227 non-null   object\n",
      " 7   rating_stars      2227 non-null   int64 \n",
      " 8   year              2227 non-null   int64 \n",
      " 9   month             2227 non-null   int64 \n",
      " 10  day               2227 non-null   int64 \n",
      "dtypes: int64(5), object(6)\n",
      "memory usage: 191.5+ KB\n"
     ]
    }
   ],
   "source": [
    "df.info()"
   ]
  },
  {
   "cell_type": "code",
   "execution_count": 103,
   "metadata": {
    "id": "1Q_dISAhMSpn"
   },
   "outputs": [],
   "source": []
  },
  {
   "cell_type": "markdown",
   "metadata": {
    "id": "x-XJiIliMXzt"
   },
   "source": [
    "There are 2227 total rows and 11 columns.\n",
    "Missing values are present that need to be treated"
   ]
  },
  {
   "cell_type": "markdown",
   "metadata": {
    "id": "rED6DbDBKTjM"
   },
   "source": [
    "## 4.  Data Analysis and Preparation"
   ]
  },
  {
   "cell_type": "markdown",
   "metadata": {
    "id": "7VSqr0Seiy7g"
   },
   "source": [
    "### 4.1 Checking missing values\n",
    "#### Check for missing values (along with the percentage of null values)"
   ]
  },
  {
   "cell_type": "code",
   "execution_count": 104,
   "metadata": {
    "colab": {
     "base_uri": "https://localhost:8080/"
    },
    "id": "Il4yi7kdmnYQ",
    "outputId": "006dd009-17d5-4344-ccbb-b3d7bc93b804"
   },
   "outputs": [
    {
     "data": {
      "text/plain": [
       "Unnamed: 0          0.0000000\n",
       "review_title        4.3107319\n",
       "overall_review     34.9797934\n",
       "pros                0.9878761\n",
       "cons                0.4939380\n",
       "ownership_pariod    3.0534351\n",
       "date                0.0000000\n",
       "rating_stars        0.0000000\n",
       "year                0.0000000\n",
       "month               0.0000000\n",
       "day                 0.0000000\n",
       "dtype: float64"
      ]
     },
     "execution_count": 104,
     "metadata": {},
     "output_type": "execute_result"
    }
   ],
   "source": [
    "percent_missing = (df.isnull().sum()/len(df)) * 100 \n",
    "percent_missing"
   ]
  },
  {
   "cell_type": "markdown",
   "metadata": {
    "id": "SB40EGirmVjo"
   },
   "source": [
    "### 4.2 Analyzing the target column (Rating_stars)"
   ]
  },
  {
   "cell_type": "markdown",
   "metadata": {
    "id": "MoRvWVk-is6Y"
   },
   "source": [
    "#### Check the value counts of 'rating_stars' and write your comments"
   ]
  },
  {
   "cell_type": "code",
   "execution_count": 105,
   "metadata": {
    "colab": {
     "base_uri": "https://localhost:8080/"
    },
    "id": "LOVFp6Diiy0n",
    "outputId": "bbc85af4-b751-4367-f825-3550b0168ff7"
   },
   "outputs": [
    {
     "data": {
      "text/plain": [
       "5    1756\n",
       "4     181\n",
       "1     153\n",
       "3      77\n",
       "2      60\n",
       "Name: rating_stars, dtype: int64"
      ]
     },
     "execution_count": 105,
     "metadata": {},
     "output_type": "execute_result"
    }
   ],
   "source": [
    "df[\"rating_stars\"].value_counts()"
   ]
  },
  {
   "cell_type": "code",
   "execution_count": 106,
   "metadata": {
    "colab": {
     "base_uri": "https://localhost:8080/",
     "height": 279
    },
    "id": "2IgfkFZjOVSG",
    "outputId": "875e754c-fcb1-4e55-abb5-b2e73abba9c1"
   },
   "outputs": [
    {
     "data": {
      "text/plain": [
       "<matplotlib.axes._subplots.AxesSubplot at 0x7f9da39ada10>"
      ]
     },
     "execution_count": 106,
     "metadata": {},
     "output_type": "execute_result"
    },
    {
     "data": {
      "image/png": "[encoded data removed]",
      "text/plain": [
       "<Figure size 432x288 with 1 Axes>"
      ]
     },
     "metadata": {
      "needs_background": "light"
     },
     "output_type": "display_data"
    }
   ],
   "source": [
    "df[\"rating_stars\"].value_counts().plot(kind='bar')"
   ]
  },
  {
   "cell_type": "markdown",
   "metadata": {
    "id": "CZpZ8U91OFvl"
   },
   "source": [
    "* 5 star rated reviews are more.\n",
    "* Rating 2 and 3 are very minimal"
   ]
  },
  {
   "cell_type": "code",
   "execution_count": 106,
   "metadata": {
    "id": "Rhr2gnY2lc9h"
   },
   "outputs": [],
   "source": []
  },
  {
   "cell_type": "markdown",
   "metadata": {
    "id": "ZL_BQlb5mE4O"
   },
   "source": [
    "### 4.3 Let's analyze other features like year, month, and day etc.\n",
    "#### Check value counts of 'year' and write your observations., Comment on the range of years, frequency of ratings in each year."
   ]
  },
  {
   "cell_type": "code",
   "execution_count": 107,
   "metadata": {
    "colab": {
     "base_uri": "https://localhost:8080/",
     "height": 299
    },
    "id": "YAtEigKEmM-Z",
    "outputId": "1ae6f521-2f4b-488c-b99a-5aad3285be7c"
   },
   "outputs": [
    {
     "data": {
      "text/plain": [
       "<matplotlib.axes._subplots.AxesSubplot at 0x7f9da38f5310>"
      ]
     },
     "execution_count": 107,
     "metadata": {},
     "output_type": "execute_result"
    },
    {
     "data": {
      "image/png": "[encoded data removed]",
      "text/plain": [
       "<Figure size 432x288 with 1 Axes>"
      ]
     },
     "metadata": {
      "needs_background": "light"
     },
     "output_type": "display_data"
    }
   ],
   "source": [
    "df['year'].value_counts().plot(kind='bar')"
   ]
  },
  {
   "cell_type": "markdown",
   "metadata": {
    "id": "LcgnnQpmP8JN"
   },
   "source": [
    "* The range of years data collected was from 2015 to 2014.\n",
    "* the rating were max is 2015 and minimal 2014"
   ]
  },
  {
   "cell_type": "markdown",
   "metadata": {
    "id": "M-pWwPhRmsAz"
   },
   "source": [
    "#### Check mean rating for each year and write your findings"
   ]
  },
  {
   "cell_type": "code",
   "execution_count": 108,
   "metadata": {
    "colab": {
     "base_uri": "https://localhost:8080/"
    },
    "id": "sqWWhlLemwG8",
    "outputId": "3afd3c53-ae69-46a5-b650-f34e3d080531"
   },
   "outputs": [
    {
     "data": {
      "text/plain": [
       "year\n",
       "2014   4.9230769\n",
       "2015   4.4582505\n",
       "2016   4.5900826\n",
       "2017   4.5108108\n",
       "2018   4.3475936\n",
       "2019   4.3478261\n",
       "Name: rating_stars, dtype: float64"
      ]
     },
     "execution_count": 108,
     "metadata": {},
     "output_type": "execute_result"
    }
   ],
   "source": [
    "df.groupby(\"year\")[\"rating_stars\"].mean()"
   ]
  },
  {
   "cell_type": "markdown",
   "metadata": {
    "id": "enoYYTDunPsT"
   },
   "source": [
    "#### Check value counts of 'month' and write your observations. Comment on the frequency of ratings and discuss if the rating count and mean rating is higher/low on certain months."
   ]
  },
  {
   "cell_type": "code",
   "execution_count": 109,
   "metadata": {
    "colab": {
     "base_uri": "https://localhost:8080/",
     "height": 285
    },
    "id": "S0xtb2ctRpZX",
    "outputId": "729a5d69-64af-47eb-c98d-83e064c5e75e"
   },
   "outputs": [
    {
     "data": {
      "text/plain": [
       "<matplotlib.axes._subplots.AxesSubplot at 0x7f9da3885750>"
      ]
     },
     "execution_count": 109,
     "metadata": {},
     "output_type": "execute_result"
    },
    {
     "data": {
      "image/png": "[encoded data removed]",
      "text/plain": [
       "<Figure size 432x288 with 1 Axes>"
      ]
     },
     "metadata": {
      "needs_background": "light"
     },
     "output_type": "display_data"
    }
   ],
   "source": [
    "df['month'].value_counts().plot(kind='bar')"
   ]
  },
  {
   "cell_type": "code",
   "execution_count": 110,
   "metadata": {
    "colab": {
     "base_uri": "https://localhost:8080/"
    },
    "id": "T0yhG8s1pTZD",
    "outputId": "ec761c60-51d6-4165-d0fe-bfe42aa4e200"
   },
   "outputs": [
    {
     "data": {
      "text/plain": [
       "month\n",
       "1    4.6425339\n",
       "2    4.4058577\n",
       "3    4.6111111\n",
       "4    4.4195122\n",
       "5    4.4493671\n",
       "6    4.5571429\n",
       "7    4.7638889\n",
       "8    4.4789916\n",
       "9    4.5414013\n",
       "10   4.3049645\n",
       "11   4.4607330\n",
       "12   4.3597122\n",
       "Name: rating_stars, dtype: float64"
      ]
     },
     "execution_count": 110,
     "metadata": {},
     "output_type": "execute_result"
    }
   ],
   "source": [
    "df.groupby(\"month\")[\"rating_stars\"].mean()"
   ]
  },
  {
   "cell_type": "markdown",
   "metadata": {
    "id": "lWofLqeJpTtI"
   },
   "source": [
    "### 4.4 Combine text features\n",
    "#### Drop all the numerical features ['Unnamed: 0','date', 'year', 'month', 'day', 'ownership_pariod'] and ['rating_stars']"
   ]
  },
  {
   "cell_type": "code",
   "execution_count": 111,
   "metadata": {
    "id": "8VAMgNJkqn0h"
   },
   "outputs": [],
   "source": [
    "NUMERIC_COLUMNS = ['Unnamed: 0','date', 'year', 'month', 'day', 'ownership_pariod']\n",
    "LABELS = ['rating_stars']\n"
   ]
  },
  {
   "cell_type": "code",
   "execution_count": 112,
   "metadata": {
    "id": "QTTPuHtlS4UJ"
   },
   "outputs": [],
   "source": [
    "to_drop = NUMERIC_COLUMNS + LABELS\n",
    "text_data = df.drop(to_drop, axis=1)\n"
   ]
  },
  {
   "cell_type": "code",
   "execution_count": 113,
   "metadata": {
    "colab": {
     "base_uri": "https://localhost:8080/",
     "height": 111
    },
    "id": "IQo_Kk0sS-Ex",
    "outputId": "59c9d26e-8ce0-49e2-93c3-2aa2fbd50ab1"
   },
   "outputs": [
    {
     "data": {
      "text/html": [
       "<div>\n",
       "<style scoped>\n",
       "    .dataframe tbody tr th:only-of-type {\n",
       "        vertical-align: middle;\n",
       "    }\n",
       "\n",
       "    .dataframe tbody tr th {\n",
       "        vertical-align: top;\n",
       "    }\n",
       "\n",
       "    .dataframe thead th {\n",
       "        text-align: right;\n",
       "    }\n",
       "</style>\n",
       "<table border=\"1\" class=\"dataframe\">\n",
       "  <thead>\n",
       "    <tr style=\"text-align: right;\">\n",
       "      <th></th>\n",
       "      <th>review_title</th>\n",
       "      <th>overall_review</th>\n",
       "      <th>pros</th>\n",
       "      <th>cons</th>\n",
       "    </tr>\n",
       "  </thead>\n",
       "  <tbody>\n",
       "    <tr>\n",
       "      <th>0</th>\n",
       "      <td>solid</td>\n",
       "      <td>buy it you will not regret this purchase</td>\n",
       "      <td>reliable fast silent cool running drive highly...</td>\n",
       "      <td>NaN</td>\n",
       "    </tr>\n",
       "    <tr>\n",
       "      <th>1</th>\n",
       "      <td>nice drive for price even cheaper by todays costs</td>\n",
       "      <td>good drive price</td>\n",
       "      <td>been running almost constantly since when i pu...</td>\n",
       "      <td>NaN</td>\n",
       "    </tr>\n",
       "  </tbody>\n",
       "</table>\n",
       "</div>"
      ],
      "text/plain": [
       "                                        review_title  \\\n",
       "0                                              solid   \n",
       "1  nice drive for price even cheaper by todays costs   \n",
       "\n",
       "                             overall_review  \\\n",
       "0  buy it you will not regret this purchase   \n",
       "1                          good drive price   \n",
       "\n",
       "                                                pros cons  \n",
       "0  reliable fast silent cool running drive highly...  NaN  \n",
       "1  been running almost constantly since when i pu...  NaN  "
      ]
     },
     "execution_count": 113,
     "metadata": {},
     "output_type": "execute_result"
    }
   ],
   "source": [
    "text_data.head(2)"
   ]
  },
  {
   "cell_type": "markdown",
   "metadata": {
    "id": "HjRp0SgEqn9Z"
   },
   "source": [
    "#### Replace null values (NaN) with blanks"
   ]
  },
  {
   "cell_type": "code",
   "execution_count": 114,
   "metadata": {
    "colab": {
     "base_uri": "https://localhost:8080/"
    },
    "id": "CZr_sR_Tqs1x",
    "outputId": "171175a0-5ca0-44e3-899c-227659eff431"
   },
   "outputs": [
    {
     "data": {
      "text/plain": [
       "review_title      0\n",
       "overall_review    0\n",
       "pros              0\n",
       "cons              0\n",
       "dtype: int64"
      ]
     },
     "execution_count": 114,
     "metadata": {},
     "output_type": "execute_result"
    }
   ],
   "source": [
    "text_data.fillna(' ', inplace=True)\n",
    "text_data.isna().sum()"
   ]
  },
  {
   "cell_type": "markdown",
   "metadata": {
    "id": "ykjSdW1tqs-z"
   },
   "source": [
    "#### Join all text items in a row that have a space in between and Add a new column (with the newly created combined reviews) to the dataframe."
   ]
  },
  {
   "cell_type": "code",
   "execution_count": 115,
   "metadata": {
    "id": "9fJpSb-ZuSTr"
   },
   "outputs": [],
   "source": [
    "data_transf = text_data.apply(lambda x: \" \".join(x), axis=1)"
   ]
  },
  {
   "cell_type": "code",
   "execution_count": 116,
   "metadata": {
    "colab": {
     "base_uri": "https://localhost:8080/"
    },
    "id": "0VHzRd1gq1lY",
    "outputId": "1545f2b4-33ee-447e-9791-18e2853d7830"
   },
   "outputs": [
    {
     "data": {
      "text/plain": [
       "0    solid buy it you will not regret this purchase...\n",
       "1    nice drive for price even cheaper by todays co...\n",
       "2    perfect used this drive as my boot drive and o...\n",
       "3    very snappy os boots quicker os menus pop up q...\n",
       "4    worth the hype this was the sdd that everyone ...\n",
       "dtype: object"
      ]
     },
     "execution_count": 116,
     "metadata": {},
     "output_type": "execute_result"
    }
   ],
   "source": [
    "data_transf.head(5)"
   ]
  },
  {
   "cell_type": "code",
   "execution_count": 117,
   "metadata": {
    "id": "VisWyapeViAt"
   },
   "outputs": [],
   "source": [
    "data = pd.DataFrame(data_transf,columns=['combined_reviews'])"
   ]
  },
  {
   "cell_type": "code",
   "execution_count": 118,
   "metadata": {
    "colab": {
     "base_uri": "https://localhost:8080/",
     "height": 205
    },
    "id": "Zrk-b493WDek",
    "outputId": "7213ad85-781a-4ac0-d10e-2d4d13356dd3"
   },
   "outputs": [
    {
     "data": {
      "text/html": [
       "<div>\n",
       "<style scoped>\n",
       "    .dataframe tbody tr th:only-of-type {\n",
       "        vertical-align: middle;\n",
       "    }\n",
       "\n",
       "    .dataframe tbody tr th {\n",
       "        vertical-align: top;\n",
       "    }\n",
       "\n",
       "    .dataframe thead th {\n",
       "        text-align: right;\n",
       "    }\n",
       "</style>\n",
       "<table border=\"1\" class=\"dataframe\">\n",
       "  <thead>\n",
       "    <tr style=\"text-align: right;\">\n",
       "      <th></th>\n",
       "      <th>combined_reviews</th>\n",
       "    </tr>\n",
       "  </thead>\n",
       "  <tbody>\n",
       "    <tr>\n",
       "      <th>0</th>\n",
       "      <td>solid buy it you will not regret this purchase...</td>\n",
       "    </tr>\n",
       "    <tr>\n",
       "      <th>1</th>\n",
       "      <td>nice drive for price even cheaper by todays co...</td>\n",
       "    </tr>\n",
       "    <tr>\n",
       "      <th>2</th>\n",
       "      <td>perfect used this drive as my boot drive and o...</td>\n",
       "    </tr>\n",
       "    <tr>\n",
       "      <th>3</th>\n",
       "      <td>very snappy os boots quicker os menus pop up q...</td>\n",
       "    </tr>\n",
       "    <tr>\n",
       "      <th>4</th>\n",
       "      <td>worth the hype this was the sdd that everyone ...</td>\n",
       "    </tr>\n",
       "  </tbody>\n",
       "</table>\n",
       "</div>"
      ],
      "text/plain": [
       "                                    combined_reviews\n",
       "0  solid buy it you will not regret this purchase...\n",
       "1  nice drive for price even cheaper by todays co...\n",
       "2  perfect used this drive as my boot drive and o...\n",
       "3  very snappy os boots quicker os menus pop up q...\n",
       "4  worth the hype this was the sdd that everyone ..."
      ]
     },
     "execution_count": 118,
     "metadata": {},
     "output_type": "execute_result"
    }
   ],
   "source": [
    "data.head(5)"
   ]
  },
  {
   "cell_type": "code",
   "execution_count": 119,
   "metadata": {
    "id": "qgIzbULTWVYw"
   },
   "outputs": [],
   "source": [
    "data['rating_stars'] = df['rating_stars']"
   ]
  },
  {
   "cell_type": "code",
   "execution_count": 120,
   "metadata": {
    "colab": {
     "base_uri": "https://localhost:8080/",
     "height": 205
    },
    "id": "UyaNoUSQWjfU",
    "outputId": "7151fc0f-e9ef-4f8e-b9e9-e17aeff26edc"
   },
   "outputs": [
    {
     "data": {
      "text/html": [
       "<div>\n",
       "<style scoped>\n",
       "    .dataframe tbody tr th:only-of-type {\n",
       "        vertical-align: middle;\n",
       "    }\n",
       "\n",
       "    .dataframe tbody tr th {\n",
       "        vertical-align: top;\n",
       "    }\n",
       "\n",
       "    .dataframe thead th {\n",
       "        text-align: right;\n",
       "    }\n",
       "</style>\n",
       "<table border=\"1\" class=\"dataframe\">\n",
       "  <thead>\n",
       "    <tr style=\"text-align: right;\">\n",
       "      <th></th>\n",
       "      <th>combined_reviews</th>\n",
       "      <th>rating_stars</th>\n",
       "    </tr>\n",
       "  </thead>\n",
       "  <tbody>\n",
       "    <tr>\n",
       "      <th>0</th>\n",
       "      <td>solid buy it you will not regret this purchase...</td>\n",
       "      <td>5</td>\n",
       "    </tr>\n",
       "    <tr>\n",
       "      <th>1</th>\n",
       "      <td>nice drive for price even cheaper by todays co...</td>\n",
       "      <td>5</td>\n",
       "    </tr>\n",
       "    <tr>\n",
       "      <th>2</th>\n",
       "      <td>perfect used this drive as my boot drive and o...</td>\n",
       "      <td>5</td>\n",
       "    </tr>\n",
       "    <tr>\n",
       "      <th>3</th>\n",
       "      <td>very snappy os boots quicker os menus pop up q...</td>\n",
       "      <td>5</td>\n",
       "    </tr>\n",
       "    <tr>\n",
       "      <th>4</th>\n",
       "      <td>worth the hype this was the sdd that everyone ...</td>\n",
       "      <td>5</td>\n",
       "    </tr>\n",
       "  </tbody>\n",
       "</table>\n",
       "</div>"
      ],
      "text/plain": [
       "                                    combined_reviews  rating_stars\n",
       "0  solid buy it you will not regret this purchase...             5\n",
       "1  nice drive for price even cheaper by todays co...             5\n",
       "2  perfect used this drive as my boot drive and o...             5\n",
       "3  very snappy os boots quicker os menus pop up q...             5\n",
       "4  worth the hype this was the sdd that everyone ...             5"
      ]
     },
     "execution_count": 120,
     "metadata": {},
     "output_type": "execute_result"
    }
   ],
   "source": [
    "data.head(5)"
   ]
  },
  {
   "cell_type": "markdown",
   "metadata": {
    "id": "QLnNIq2iJQBn"
   },
   "source": [
    "#### Check if there are any null values and drop NaN values if any"
   ]
  },
  {
   "cell_type": "code",
   "execution_count": 121,
   "metadata": {
    "colab": {
     "base_uri": "https://localhost:8080/"
    },
    "id": "QOf3hTpcszKC",
    "outputId": "4150016b-c2a5-494e-b001-e28283f91925"
   },
   "outputs": [
    {
     "data": {
      "text/plain": [
       "combined_reviews    0\n",
       "rating_stars        0\n",
       "dtype: int64"
      ]
     },
     "execution_count": 121,
     "metadata": {},
     "output_type": "execute_result"
    }
   ],
   "source": [
    "data.isna().sum()"
   ]
  },
  {
   "cell_type": "markdown",
   "metadata": {
    "id": "qS5NmyvzHMws"
   },
   "source": [
    "#### Calculate the length of each review and add it to the dataframe"
   ]
  },
  {
   "cell_type": "code",
   "execution_count": 122,
   "metadata": {
    "id": "TdMWM0jBHNzO"
   },
   "outputs": [],
   "source": [
    "data['review_length']= data['combined_reviews'].apply(lambda x : len(x.split(\" \")))\n"
   ]
  },
  {
   "cell_type": "code",
   "execution_count": 123,
   "metadata": {
    "colab": {
     "base_uri": "https://localhost:8080/",
     "height": 205
    },
    "id": "OFbV_SbMYWTw",
    "outputId": "376137b3-324e-43db-c920-08b181f62d19"
   },
   "outputs": [
    {
     "data": {
      "text/html": [
       "<div>\n",
       "<style scoped>\n",
       "    .dataframe tbody tr th:only-of-type {\n",
       "        vertical-align: middle;\n",
       "    }\n",
       "\n",
       "    .dataframe tbody tr th {\n",
       "        vertical-align: top;\n",
       "    }\n",
       "\n",
       "    .dataframe thead th {\n",
       "        text-align: right;\n",
       "    }\n",
       "</style>\n",
       "<table border=\"1\" class=\"dataframe\">\n",
       "  <thead>\n",
       "    <tr style=\"text-align: right;\">\n",
       "      <th></th>\n",
       "      <th>combined_reviews</th>\n",
       "      <th>rating_stars</th>\n",
       "      <th>review_length</th>\n",
       "    </tr>\n",
       "  </thead>\n",
       "  <tbody>\n",
       "    <tr>\n",
       "      <th>0</th>\n",
       "      <td>solid buy it you will not regret this purchase...</td>\n",
       "      <td>5</td>\n",
       "      <td>19</td>\n",
       "    </tr>\n",
       "    <tr>\n",
       "      <th>1</th>\n",
       "      <td>nice drive for price even cheaper by todays co...</td>\n",
       "      <td>5</td>\n",
       "      <td>42</td>\n",
       "    </tr>\n",
       "    <tr>\n",
       "      <th>2</th>\n",
       "      <td>perfect used this drive as my boot drive and o...</td>\n",
       "      <td>5</td>\n",
       "      <td>65</td>\n",
       "    </tr>\n",
       "    <tr>\n",
       "      <th>3</th>\n",
       "      <td>very snappy os boots quicker os menus pop up q...</td>\n",
       "      <td>5</td>\n",
       "      <td>42</td>\n",
       "    </tr>\n",
       "    <tr>\n",
       "      <th>4</th>\n",
       "      <td>worth the hype this was the sdd that everyone ...</td>\n",
       "      <td>5</td>\n",
       "      <td>32</td>\n",
       "    </tr>\n",
       "  </tbody>\n",
       "</table>\n",
       "</div>"
      ],
      "text/plain": [
       "                                    combined_reviews  rating_stars  \\\n",
       "0  solid buy it you will not regret this purchase...             5   \n",
       "1  nice drive for price even cheaper by todays co...             5   \n",
       "2  perfect used this drive as my boot drive and o...             5   \n",
       "3  very snappy os boots quicker os menus pop up q...             5   \n",
       "4  worth the hype this was the sdd that everyone ...             5   \n",
       "\n",
       "   review_length  \n",
       "0             19  \n",
       "1             42  \n",
       "2             65  \n",
       "3             42  \n",
       "4             32  "
      ]
     },
     "execution_count": 123,
     "metadata": {},
     "output_type": "execute_result"
    }
   ],
   "source": [
    "data.head(5)"
   ]
  },
  {
   "cell_type": "markdown",
   "metadata": {
    "id": "8FyfpsW4uNN-"
   },
   "source": [
    "#### Check summary stats of the length column"
   ]
  },
  {
   "cell_type": "code",
   "execution_count": 124,
   "metadata": {
    "colab": {
     "base_uri": "https://localhost:8080/"
    },
    "id": "cMEp309bHPSm",
    "outputId": "e104b2f5-11e5-4cf5-eb3e-85b55b3a46bd"
   },
   "outputs": [
    {
     "data": {
      "text/plain": [
       "count   2227.0000000\n",
       "mean      85.2752582\n",
       "std       87.3063671\n",
       "min        6.0000000\n",
       "25%       31.0000000\n",
       "50%       60.0000000\n",
       "75%      109.0000000\n",
       "max     1615.0000000\n",
       "Name: review_length, dtype: float64"
      ]
     },
     "execution_count": 124,
     "metadata": {},
     "output_type": "execute_result"
    }
   ],
   "source": [
    "data['review_length'].describe()"
   ]
  },
  {
   "cell_type": "markdown",
   "metadata": {
    "id": "JtFWZfZjJSJY"
   },
   "source": [
    "### 4.5 Analyzing and preparing the text data\n"
   ]
  },
  {
   "cell_type": "markdown",
   "metadata": {
    "id": "FL0mW8oPJVyq"
   },
   "source": [
    "#### Set the max length of each review to 25 since it results in faster training (however, you are free to change this)\n",
    "#### Set max_features to 10000 and embedding size to 50"
   ]
  },
  {
   "cell_type": "code",
   "execution_count": 125,
   "metadata": {
    "id": "T7Ma4u3kSOD3"
   },
   "outputs": [],
   "source": [
    "max_features = 10000\n",
    "maxlen = 25\n",
    "embedding_size = 50"
   ]
  },
  {
   "cell_type": "markdown",
   "metadata": {
    "id": "qph71mXtJyWM"
   },
   "source": [
    "#### Tokenize the cobined text data. You can use the Tokenizer from tensorflow.keras.preprocessing.text. Check the number of samples post tokenization."
   ]
  },
  {
   "cell_type": "code",
   "execution_count": 130,
   "metadata": {
    "id": "hvn5Bssu6MoQ"
   },
   "outputs": [],
   "source": [
    "from tensorflow.keras.preprocessing.text import Tokenizer\n",
    "tkz=Tokenizer(num_words=max_features)\n",
    "\n",
    "tkz.fit_on_texts(data['combined_reviews'].tolist())\n",
    "\n",
    "X = tkz.texts_to_sequences(data['combined_reviews'])"
   ]
  },
  {
   "cell_type": "markdown",
   "metadata": {
    "id": "HXy2gZrkJ0f_"
   },
   "source": [
    "#### Pad the above tokenized reviews data save it as independent features. Use max_len for the same."
   ]
  },
  {
   "cell_type": "code",
   "execution_count": 131,
   "metadata": {
    "id": "mV-KtcR06OAr"
   },
   "outputs": [],
   "source": [
    "X = tensorflow.keras.preprocessing.sequence.pad_sequences(X, maxlen=maxlen)"
   ]
  },
  {
   "cell_type": "code",
   "execution_count": 132,
   "metadata": {
    "id": "5iAf_rCJgM2o"
   },
   "outputs": [],
   "source": [
    "y=np.asarray(data['rating_stars'])"
   ]
  },
  {
   "cell_type": "markdown",
   "metadata": {
    "id": "XVT7dRRUHsgR"
   },
   "source": [
    "#### Check the shape of X (padded tokenized review data) and y (rating_stars) data."
   ]
  },
  {
   "cell_type": "code",
   "execution_count": 133,
   "metadata": {
    "colab": {
     "base_uri": "https://localhost:8080/"
    },
    "id": "SXc3DOi9Hz6O",
    "outputId": "8cf22901-2f85-4242-f00c-eae94b5646a1"
   },
   "outputs": [
    {
     "name": "stdout",
     "output_type": "stream",
     "text": [
      "25\n",
      "25\n",
      "25\n",
      "2227\n"
     ]
    }
   ],
   "source": [
    "print(len(X[0]))\n",
    "print(len(X[1]))\n",
    "print(len(X[2]))\n",
    "print(len(y))"
   ]
  },
  {
   "cell_type": "markdown",
   "metadata": {
    "id": "A5GlWwKnJ7ie"
   },
   "source": [
    "#### Check the total number of words in the dictionary (of tekenizer)"
   ]
  },
  {
   "cell_type": "code",
   "execution_count": 134,
   "metadata": {
    "colab": {
     "base_uri": "https://localhost:8080/"
    },
    "id": "oR0W8MdX6V3A",
    "outputId": "fa4ac96e-dc43-4307-d941-5db4e1672eba"
   },
   "outputs": [
    {
     "name": "stdout",
     "output_type": "stream",
     "text": [
      "8839\n"
     ]
    }
   ],
   "source": [
    "num_words = len(tkz.word_index)+1\n",
    "\n",
    "print(num_words)"
   ]
  },
  {
   "cell_type": "markdown",
   "metadata": {
    "id": "RKa3eYLDJ_yO"
   },
   "source": [
    "### 4.6 Compute the glove embeddings. Use the provided txt file for the same."
   ]
  },
  {
   "cell_type": "markdown",
   "metadata": {
    "id": "WNwPD9EmIbMt"
   },
   "source": [
    "#### Read the glove embeddings from the file provided titled ‘glove.6B.50d.txt’. And save it to a dictotionary having word and corresponding embedding vector."
   ]
  },
  {
   "cell_type": "code",
   "execution_count": 138,
   "metadata": {
    "id": "bNd9ZFjuIp3g"
   },
   "outputs": [],
   "source": [
    "EMBEDDING_FILE = '/content/drive/MyDrive/Statistical NLP/glove.6B.50d.txt'\n",
    "embeddings = {}\n",
    "\n",
    "for o in open(EMBEDDING_FILE):\n",
    "  word = o.split(\" \")[0]\n",
    "  # print(word)\n",
    "  embd = o.split(\" \")[1:]\n",
    "  embd = np.asarray(embd,dtype='float32')\n",
    "  # print(embd)\n",
    "  embeddings[word] = embd\n"
   ]
  },
  {
   "cell_type": "markdown",
   "metadata": {
    "id": "EuolWkfmIqCJ"
   },
   "source": [
    "#### Create a weight matrix for words in the training docs"
   ]
  },
  {
   "cell_type": "code",
   "execution_count": 151,
   "metadata": {
    "id": "BGHZ0nIaI0Ar"
   },
   "outputs": [],
   "source": [
    "emdedding_matrix = np.zeros((num_words, 50))\n",
    "\n",
    "for word, i in tkz.word_index.items():\n",
    "  embedding_vector = embeddings.get(word)\n",
    "  if embedding_vector is not None:\n",
    "    emdedding_matrix[i] = embedding_vector"
   ]
  },
  {
   "cell_type": "markdown",
   "metadata": {
    "id": "-DdpiQZ9_Fiq"
   },
   "source": [
    "#### Check length of the embedding"
   ]
  },
  {
   "cell_type": "code",
   "execution_count": 145,
   "metadata": {
    "colab": {
     "base_uri": "https://localhost:8080/"
    },
    "id": "8bcs-LtYILlO",
    "outputId": "ce7b4792-0e74-4138-ffcf-11a219a4f090"
   },
   "outputs": [
    {
     "name": "stdout",
     "output_type": "stream",
     "text": [
      "400000\n"
     ]
    }
   ],
   "source": [
    "print(len(embeddings))"
   ]
  },
  {
   "cell_type": "markdown",
   "metadata": {
    "id": "xVPf3X5MKGpm"
   },
   "source": [
    "### 4.7 Target Feature:- One hot encode the target variable (rating_stars)"
   ]
  },
  {
   "cell_type": "code",
   "execution_count": 146,
   "metadata": {
    "id": "7PVDBmkjJC4n"
   },
   "outputs": [],
   "source": [
    "from sklearn.preprocessing import OneHotEncoder\n",
    "\n",
    "enc = OneHotEncoder()\n",
    "y_encoded = enc.fit_transform(y.reshape(-1,1))"
   ]
  },
  {
   "cell_type": "code",
   "execution_count": 147,
   "metadata": {
    "colab": {
     "base_uri": "https://localhost:8080/"
    },
    "id": "Rfh7cyyKtYCX",
    "outputId": "f027e65e-a0d3-4880-b0af-48effa948ecc"
   },
   "outputs": [
    {
     "data": {
      "text/plain": [
       "matrix([[0., 0., 0., 0., 1.],\n",
       "        [0., 0., 0., 0., 1.],\n",
       "        [0., 0., 0., 0., 1.],\n",
       "        ...,\n",
       "        [0., 0., 0., 0., 1.],\n",
       "        [0., 0., 0., 0., 1.],\n",
       "        [0., 0., 0., 0., 1.]])"
      ]
     },
     "execution_count": 147,
     "metadata": {},
     "output_type": "execute_result"
    }
   ],
   "source": [
    "y_encoded = y_encoded.todense()\n",
    "y_encoded"
   ]
  },
  {
   "cell_type": "markdown",
   "metadata": {
    "id": "5dqPXETLKN0h"
   },
   "source": [
    "### 4.8 Split the data into Train & Test sets"
   ]
  },
  {
   "cell_type": "code",
   "execution_count": 152,
   "metadata": {
    "id": "FFJ1oEUmJEEW"
   },
   "outputs": [],
   "source": [
    "from sklearn.model_selection import train_test_split\n",
    "X_train, X_test, y_train, y_test = train_test_split(X, y_encoded, random_state = 50, stratify=y_encoded, test_size=0.3)\n"
   ]
  },
  {
   "cell_type": "markdown",
   "metadata": {
    "id": "rhD1a-beKvE7"
   },
   "source": [
    "## 5. Model building"
   ]
  },
  {
   "cell_type": "markdown",
   "metadata": {
    "id": "bRmxklYnKvxk"
   },
   "source": [
    "### 5.1 Construct a neural network architecture using embedding and LSTM layers for building the rating prediction model.\n",
    "- Use the num_words, embedding_size from the above tokenizer and embeddings respectively\n",
    "- Use weights from the above embedding matrix\n",
    "- Use input length as the maxlen\n",
    "- Add LSTM layers"
   ]
  },
  {
   "cell_type": "code",
   "execution_count": 149,
   "metadata": {
    "id": "gSGsebsiNA78"
   },
   "outputs": [],
   "source": [
    "import tensorflow as tf\n",
    "from tensorflow.keras.models import Sequential\n",
    "from tensorflow.keras.layers import Embedding, Bidirectional, LSTM, Dense, Dropout, Flatten\n",
    "from functools import partial\n"
   ]
  },
  {
   "cell_type": "code",
   "execution_count": 153,
   "metadata": {
    "id": "uTVHHfe0u_WB"
   },
   "outputs": [],
   "source": [
    "model = Sequential()\n",
    "\n",
    "model.add(Embedding(input_dim=num_words, \n",
    "                    output_dim=embedding_size, \n",
    "                    weights = [emdedding_matrix], \n",
    "                    input_length=maxlen))\n",
    "\n",
    "model.add(LSTM(128, return_sequences = True))\n",
    "model.add(Flatten())\n",
    "model.add(Dense(512, activation='relu'))\n",
    "model.add(Dense(256, activation = 'relu'))\n",
    "model.add(Dense(128, activation = 'relu'))\n",
    "model.add(Dense(64, activation= 'relu'))\n",
    "model.add(Dropout(0.5))\n",
    "model.add(Dense(5, activation=\"softmax\"))\n"
   ]
  },
  {
   "cell_type": "markdown",
   "metadata": {
    "id": "iN0P-a6X_jAb"
   },
   "source": [
    "### 5.2 Compile the model using appropriate loss, optimizer, and accuracy metric"
   ]
  },
  {
   "cell_type": "code",
   "execution_count": 154,
   "metadata": {
    "id": "8Kyk9kPxNCMb"
   },
   "outputs": [],
   "source": [
    "model.compile(loss='categorical_crossentropy', optimizer='adam', metrics=['accuracy'])\n"
   ]
  },
  {
   "cell_type": "markdown",
   "metadata": {
    "id": "tIODqXJK_qrQ"
   },
   "source": [
    "### 5.3 Fit the model"
   ]
  },
  {
   "cell_type": "code",
   "execution_count": 155,
   "metadata": {
    "colab": {
     "base_uri": "https://localhost:8080/"
    },
    "id": "fEX-_bd2NDPW",
    "outputId": "37a1c0a7-f4e4-434e-c6c1-db080bc3536a"
   },
   "outputs": [
    {
     "name": "stdout",
     "output_type": "stream",
     "text": [
      "Model: \"sequential_1\"\n",
      "_________________________________________________________________\n",
      "Layer (type)                 Output Shape              Param #   \n",
      "=================================================================\n",
      "embedding (Embedding)        (None, 25, 50)            441950    \n",
      "_________________________________________________________________\n",
      "lstm (LSTM)                  (None, 25, 128)           91648     \n",
      "_________________________________________________________________\n",
      "flatten (Flatten)            (None, 3200)              0         \n",
      "_________________________________________________________________\n",
      "dense (Dense)                (None, 512)               1638912   \n",
      "_________________________________________________________________\n",
      "dense_1 (Dense)              (None, 256)               131328    \n",
      "_________________________________________________________________\n",
      "dense_2 (Dense)              (None, 128)               32896     \n",
      "_________________________________________________________________\n",
      "dense_3 (Dense)              (None, 64)                8256      \n",
      "_________________________________________________________________\n",
      "dropout (Dropout)            (None, 64)                0         \n",
      "_________________________________________________________________\n",
      "dense_4 (Dense)              (None, 5)                 325       \n",
      "=================================================================\n",
      "Total params: 2,345,315\n",
      "Trainable params: 2,345,315\n",
      "Non-trainable params: 0\n",
      "_________________________________________________________________\n"
     ]
    }
   ],
   "source": [
    "model.summary()"
   ]
  },
  {
   "cell_type": "code",
   "execution_count": 157,
   "metadata": {
    "colab": {
     "base_uri": "https://localhost:8080/"
    },
    "id": "sLqlW50T0COL",
    "outputId": "35643c9d-c2c5-47a1-ca25-4787ece00d98"
   },
   "outputs": [
    {
     "name": "stdout",
     "output_type": "stream",
     "text": [
      "Epoch 1/20\n",
      "16/16 [==============================] - 2s 132ms/step - loss: 0.5186 - accuracy: 0.8151 - val_loss: 0.8054 - val_accuracy: 0.7937\n",
      "Epoch 2/20\n",
      "16/16 [==============================] - 2s 124ms/step - loss: 0.4211 - accuracy: 0.8408 - val_loss: 0.8913 - val_accuracy: 0.7967\n",
      "Epoch 3/20\n",
      "16/16 [==============================] - 2s 123ms/step - loss: 0.3419 - accuracy: 0.8761 - val_loss: 0.9413 - val_accuracy: 0.7459\n",
      "Epoch 4/20\n",
      "16/16 [==============================] - 2s 123ms/step - loss: 0.2549 - accuracy: 0.9134 - val_loss: 1.1132 - val_accuracy: 0.7668\n",
      "Epoch 5/20\n",
      "16/16 [==============================] - 2s 124ms/step - loss: 0.1809 - accuracy: 0.9409 - val_loss: 1.5969 - val_accuracy: 0.7788\n",
      "Epoch 6/20\n",
      "16/16 [==============================] - 2s 126ms/step - loss: 0.1219 - accuracy: 0.9608 - val_loss: 1.4545 - val_accuracy: 0.7250\n",
      "Epoch 7/20\n",
      "16/16 [==============================] - 2s 121ms/step - loss: 0.0861 - accuracy: 0.9743 - val_loss: 1.6987 - val_accuracy: 0.7773\n",
      "Epoch 8/20\n",
      "16/16 [==============================] - 2s 123ms/step - loss: 0.0670 - accuracy: 0.9807 - val_loss: 1.7148 - val_accuracy: 0.7429\n",
      "Epoch 9/20\n",
      "16/16 [==============================] - 2s 126ms/step - loss: 0.0530 - accuracy: 0.9820 - val_loss: 1.7129 - val_accuracy: 0.7653\n",
      "Epoch 10/20\n",
      "16/16 [==============================] - 2s 124ms/step - loss: 0.0229 - accuracy: 0.9942 - val_loss: 2.0437 - val_accuracy: 0.7788\n",
      "Epoch 11/20\n",
      "16/16 [==============================] - 2s 124ms/step - loss: 0.0153 - accuracy: 0.9974 - val_loss: 2.4706 - val_accuracy: 0.7922\n",
      "Epoch 12/20\n",
      "16/16 [==============================] - 2s 127ms/step - loss: 0.0141 - accuracy: 0.9955 - val_loss: 2.5354 - val_accuracy: 0.7803\n",
      "Epoch 13/20\n",
      "16/16 [==============================] - 2s 127ms/step - loss: 0.0099 - accuracy: 0.9974 - val_loss: 2.5447 - val_accuracy: 0.7833\n",
      "Epoch 14/20\n",
      "16/16 [==============================] - 2s 126ms/step - loss: 0.0070 - accuracy: 0.9987 - val_loss: 2.3997 - val_accuracy: 0.7593\n",
      "Epoch 15/20\n",
      "16/16 [==============================] - 2s 129ms/step - loss: 0.0053 - accuracy: 0.9987 - val_loss: 2.6542 - val_accuracy: 0.7728\n",
      "Epoch 16/20\n",
      "16/16 [==============================] - 2s 124ms/step - loss: 0.0019 - accuracy: 1.0000 - val_loss: 2.7851 - val_accuracy: 0.7728\n",
      "Epoch 17/20\n",
      "16/16 [==============================] - 2s 123ms/step - loss: 0.0023 - accuracy: 1.0000 - val_loss: 2.9021 - val_accuracy: 0.7743\n",
      "Epoch 18/20\n",
      "16/16 [==============================] - 2s 125ms/step - loss: 0.0035 - accuracy: 0.9987 - val_loss: 2.9817 - val_accuracy: 0.7788\n",
      "Epoch 19/20\n",
      "16/16 [==============================] - 2s 123ms/step - loss: 0.0023 - accuracy: 1.0000 - val_loss: 2.9868 - val_accuracy: 0.7728\n",
      "Epoch 20/20\n",
      "16/16 [==============================] - 2s 122ms/step - loss: 0.0016 - accuracy: 1.0000 - val_loss: 3.0373 - val_accuracy: 0.7653\n"
     ]
    }
   ],
   "source": [
    "batch_size = 100\n",
    "epochs = 20\n",
    "\n",
    "training_history = model.fit(X_train, y_train, batch_size=batch_size, epochs=epochs, validation_data=(X_test, y_test))\n"
   ]
  },
  {
   "cell_type": "markdown",
   "metadata": {
    "id": "1iakHzMFNDsz"
   },
   "source": [
    "### 5.4 Predict ratings for test data and check accuracy and confusion matrix"
   ]
  },
  {
   "cell_type": "code",
   "execution_count": 158,
   "metadata": {
    "id": "erNFghTpNK-j"
   },
   "outputs": [],
   "source": [
    "predictions = model.predict(X_test.reshape(len(X_test),25))\n",
    "\n",
    "y_test_inv = enc.inverse_transform(y_test)\n",
    "\n",
    "y_pred_inv = enc.inverse_transform(np.around(predictions))\n"
   ]
  },
  {
   "cell_type": "code",
   "execution_count": 159,
   "metadata": {
    "colab": {
     "base_uri": "https://localhost:8080/"
    },
    "id": "glNaXRZqNLBN",
    "outputId": "0ccd107d-0e91-47be-bc4b-bde9328f2f8f"
   },
   "outputs": [
    {
     "name": "stdout",
     "output_type": "stream",
     "text": [
      "(669, 1)\n",
      "(669, 1)\n"
     ]
    }
   ],
   "source": [
    "print(y_test_inv.shape)\n",
    "print(y_pred_inv.shape)"
   ]
  },
  {
   "cell_type": "code",
   "execution_count": 160,
   "metadata": {
    "colab": {
     "base_uri": "https://localhost:8080/"
    },
    "id": "JLISwPX82MYG",
    "outputId": "61288138-d269-4193-d775-99b61fb9283b"
   },
   "outputs": [
    {
     "data": {
      "text/plain": [
       "array([[ 23,   3,   1,   4,  15],\n",
       "       [  2,   2,   1,   2,  11],\n",
       "       [  3,   2,   2,   3,  13],\n",
       "       [  6,   0,   3,   7,  38],\n",
       "       [ 22,   2,   8,  17, 479]])"
      ]
     },
     "execution_count": 160,
     "metadata": {},
     "output_type": "execute_result"
    }
   ],
   "source": [
    "from sklearn.metrics import confusion_matrix\n",
    "confusion_matrix(y_test_inv, y_pred_inv)\n"
   ]
  },
  {
   "cell_type": "code",
   "execution_count": 164,
   "metadata": {
    "colab": {
     "base_uri": "https://localhost:8080/"
    },
    "id": "r33gMzSa2Pak",
    "outputId": "4e656db2-9107-4309-942e-56f682c6333b"
   },
   "outputs": [
    {
     "name": "stdout",
     "output_type": "stream",
     "text": [
      "              precision    recall  f1-score   support\n",
      "\n",
      "           1       0.41      0.50      0.45        46\n",
      "           2       0.22      0.11      0.15        18\n",
      "           3       0.13      0.09      0.11        23\n",
      "           4       0.21      0.13      0.16        54\n",
      "           5       0.86      0.91      0.88       528\n",
      "\n",
      "    accuracy                           0.77       669\n",
      "   macro avg       0.37      0.35      0.35       669\n",
      "weighted avg       0.74      0.77      0.75       669\n",
      "\n"
     ]
    }
   ],
   "source": [
    "from sklearn.metrics import classification_report\n",
    "print(classification_report(y_test_inv, y_pred_inv))\n"
   ]
  },
  {
   "cell_type": "code",
   "execution_count": 163,
   "metadata": {
    "colab": {
     "base_uri": "https://localhost:8080/"
    },
    "id": "FSNwGJiy2V2I",
    "outputId": "409aed69-06c5-41d1-8eab-e26fd9f9eb49"
   },
   "outputs": [
    {
     "data": {
      "text/plain": [
       "0.7668161434977578"
      ]
     },
     "execution_count": 163,
     "metadata": {},
     "output_type": "execute_result"
    }
   ],
   "source": [
    "from sklearn.metrics import accuracy_score\n",
    "accuracy_score(y_test_inv, y_pred_inv)\n"
   ]
  },
  {
   "cell_type": "markdown",
   "metadata": {
    "id": "lHyQA-RsNOXT"
   },
   "source": [
    "### 5.5 Display plot of training and validation loss/accuracy wrt to epochs"
   ]
  },
  {
   "cell_type": "code",
   "execution_count": 165,
   "metadata": {
    "colab": {
     "base_uri": "https://localhost:8080/",
     "height": 563
    },
    "id": "gC7Lb0eSNawO",
    "outputId": "721684a6-c279-4a5f-fc3b-abf5fa888d59"
   },
   "outputs": [
    {
     "data": {
      "text/plain": [
       "Text(0.5, 1.0, 'Training and validation loss')"
      ]
     },
     "execution_count": 165,
     "metadata": {},
     "output_type": "execute_result"
    },
    {
     "data": {
      "image/png": "[encoded data removed]",
      "text/plain": [
       "<Figure size 432x288 with 1 Axes>"
      ]
     },
     "metadata": {
      "needs_background": "light"
     },
     "output_type": "display_data"
    },
    {
     "data": {
      "image/png": "[encoded data removed]",
      "text/plain": [
       "<Figure size 432x288 with 1 Axes>"
      ]
     },
     "metadata": {
      "needs_background": "light"
     },
     "output_type": "display_data"
    }
   ],
   "source": [
    "import matplotlib.pyplot as plt\n",
    "accuracy      = training_history.history['accuracy']\n",
    "val_accuracy  = training_history.history['val_accuracy']\n",
    "loss     = training_history.history['loss']\n",
    "val_loss = training_history.history['val_loss']\n",
    "\n",
    "epochs   = range(len(accuracy)) # Get number of epochs\n",
    "\n",
    "plt.plot  ( epochs, accuracy, label = 'training accuracy' )\n",
    "plt.plot  ( epochs, val_accuracy, label = 'validation accuracy' )\n",
    "plt.title ('Training and validation accuracy')\n",
    "plt.legend(loc = 'lower right')\n",
    "plt.figure()\n",
    "\n",
    "plt.plot  ( epochs, loss, label = 'training loss' )\n",
    "plt.plot  ( epochs, val_loss, label = 'validation loss' )\n",
    "plt.legend(loc = 'upper right')\n",
    "plt.title ('Training and validation loss'   )\n"
   ]
  },
  {
   "cell_type": "markdown",
   "metadata": {
    "id": "Ey7an7ukLxWB"
   },
   "source": [
    "## 6. Conclusion and Interpretation"
   ]
  },
  {
   "cell_type": "markdown",
   "metadata": {
    "id": "L4vSD7km3xH2"
   },
   "source": [
    "** Interpretation:\n",
    "* Oveall accuracy is 77%\n",
    "* Data is highly skewed because of 5 star reviews were more\n",
    "\n",
    "** Conclusion:\n",
    "* The current dataset is having class imbalance.\n",
    "* There's a further need to tune hyper parameters and retrain the model with new data points with balanced classes."
   ]
  },
  {
   "cell_type": "code",
   "execution_count": null,
   "metadata": {
    "id": "3b2eLAk9NeNz"
   },
   "outputs": [],
   "source": []
  },
  {
   "cell_type": "markdown",
   "metadata": {
    "id": "9nwOCcvqxVCH"
   },
   "source": [
    "## 7. Food for thought:\n",
    "\n",
    "1.) Change activation function (try leaky_relu or tanh) and see if it helps in improving model performance with the dataset that is highly imbalanced\n",
    "\n",
    "2.) Try with only the overall review feature and see if it leads to improvement in model performace\n",
    "\n",
    "3.) Change the hyperparameters of the model and compare the results "
   ]
  },
  {
   "cell_type": "code",
   "execution_count": null,
   "metadata": {
    "id": "VCylm4X8Nfik"
   },
   "outputs": [],
   "source": []
  }
 ],
 "metadata": {
  "colab": {
   "collapsed_sections": [],
   "name": "R9 Sq Models in NLP Lab Question Notebook.ipynb",
   "provenance": []
  },
  "kernelspec": {
   "display_name": "Python 3",
   "language": "python",
   "name": "python3"
  },
  "language_info": {
   "codemirror_mode": {
    "name": "ipython",
    "version": 3
   },
   "file_extension": ".py",
   "mimetype": "text/x-python",
   "name": "python",
   "nbconvert_exporter": "python",
   "pygments_lexer": "ipython3",
   "version": "3.7.4"
  }
 },
 "nbformat": 4,
 "nbformat_minor": 1
}
