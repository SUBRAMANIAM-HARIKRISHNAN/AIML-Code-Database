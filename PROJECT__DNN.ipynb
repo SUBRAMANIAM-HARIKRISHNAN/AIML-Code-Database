{
  "nbformat": 4,
  "nbformat_minor": 0,
  "metadata": {
    "colab": {
      "name": "PROJECT_DNN.ipynb",
      "provenance": [],
      "collapsed_sections": []
    },
    "kernelspec": {
      "name": "python3",
      "display_name": "Python 3"
    },
    "language_info": {
      "name": "python"
    }
  },
  "cells": [
    {
      "cell_type": "code",
      "metadata": {
        "id": "2rxtiIUXQjSd"
      },
      "source": [
        "import pandas as pd\n",
        "import h5py\n",
        "import matplotlib.pyplot as plt\n",
        "import tensorflow as tf\n",
        "\n"
      ],
      "execution_count": null,
      "outputs": []
    },
    {
      "cell_type": "code",
      "metadata": {
        "colab": {
          "base_uri": "https://localhost:8080/"
        },
        "id": "pjpSZCmDSgMk",
        "outputId": "46ab2cbe-afd9-4313-9636-2496cc3e1fff"
      },
      "source": [
        "from google.colab import drive\n",
        "\n",
        "drive.mount('/content/gdrive')"
      ],
      "execution_count": null,
      "outputs": [
        {
          "output_type": "stream",
          "text": [
            "Mounted at /content/gdrive\n"
          ],
          "name": "stdout"
        }
      ]
    },
    {
      "cell_type": "code",
      "metadata": {
        "id": "C3kQxy1KQu7g"
      },
      "source": [
        "hf=h5py.File('/content/gdrive/My Drive/Autonomous_Vehicles_SVHN_single_grey1.h5','r')"
      ],
      "execution_count": null,
      "outputs": []
    },
    {
      "cell_type": "code",
      "metadata": {
        "colab": {
          "base_uri": "https://localhost:8080/"
        },
        "id": "_9UE6iACSsOb",
        "outputId": "3accb229-0918-4ad4-8172-4c1247911038"
      },
      "source": [
        "hf"
      ],
      "execution_count": null,
      "outputs": [
        {
          "output_type": "execute_result",
          "data": {
            "text/plain": [
              "<HDF5 file \"Autonomous_Vehicles_SVHN_single_grey1.h5\" (mode r)>"
            ]
          },
          "metadata": {
            "tags": []
          },
          "execution_count": 5
        }
      ]
    },
    {
      "cell_type": "code",
      "metadata": {
        "colab": {
          "base_uri": "https://localhost:8080/"
        },
        "id": "1DRbcCqaSxnb",
        "outputId": "60aeb66d-4e82-4cbf-ce7d-08851f49e20e"
      },
      "source": [
        "hf.keys()"
      ],
      "execution_count": null,
      "outputs": [
        {
          "output_type": "execute_result",
          "data": {
            "text/plain": [
              "<KeysViewHDF5 ['X_test', 'X_train', 'X_val', 'y_test', 'y_train', 'y_val']>"
            ]
          },
          "metadata": {
            "tags": []
          },
          "execution_count": 6
        }
      ]
    },
    {
      "cell_type": "code",
      "metadata": {
        "id": "vcklepSDS3G7"
      },
      "source": [
        "x_train=hf['X_train'][:]\n",
        "y_train=hf['y_train'][:]\n",
        "x_test=hf['X_test'][:]\n",
        "y_test=hf['y_test'][:]\n",
        "x_val=hf['X_val'][:]\n",
        "y_val=hf['y_val'][:]"
      ],
      "execution_count": null,
      "outputs": []
    },
    {
      "cell_type": "code",
      "metadata": {
        "colab": {
          "base_uri": "https://localhost:8080/"
        },
        "id": "3lsjTqoqS-_2",
        "outputId": "44aaf472-f8c8-424e-8bca-a4b14f8e5c4d"
      },
      "source": [
        "print(x_train.shape)\n",
        "print(y_train.shape)\n",
        "print(x_test.shape)\n",
        "print(y_test.shape)\n",
        "print(x_val.shape)\n",
        "print(y_val.shape)\n"
      ],
      "execution_count": null,
      "outputs": [
        {
          "output_type": "stream",
          "text": [
            "(42000, 32, 32)\n",
            "(42000,)\n",
            "(18000, 32, 32)\n",
            "(18000,)\n",
            "(60000, 32, 32)\n",
            "(60000,)\n"
          ],
          "name": "stdout"
        }
      ]
    },
    {
      "cell_type": "code",
      "metadata": {
        "colab": {
          "base_uri": "https://localhost:8080/",
          "height": 356
        },
        "id": "FhKNsr4nhMP1",
        "outputId": "c610a8ab-3d19-474d-8abb-3b7f9a890618"
      },
      "source": [
        "\n",
        "plt.figure(figsize=(5,5))\n",
        "plt.imshow(x_val[40000],cmap='Greys',vmin=0,vmax=255)\n",
        "plt.suptitle('Number: ' + str(y_val[40000]))\n",
        "plt.show()"
      ],
      "execution_count": null,
      "outputs": [
        {
          "output_type": "display_data",
          "data": {
            "image/png": "[encoded data removed]",
            "text/plain": [
              "<Figure size 360x360 with 1 Axes>"
            ]
          },
          "metadata": {
            "tags": [],
            "needs_background": "light"
          }
        }
      ]
    },
    {
      "cell_type": "code",
      "metadata": {
        "id": "J-HepKYAnBW8"
      },
      "source": [
        "y_train = tf.keras.utils.to_categorical(y_train, num_classes=10)\n",
        "y_test = tf.keras.utils.to_categorical(y_test, num_classes=10)\n",
        "y_val = tf.keras.utils.to_categorical(y_val, num_classes=10)"
      ],
      "execution_count": null,
      "outputs": []
    },
    {
      "cell_type": "code",
      "metadata": {
        "colab": {
          "base_uri": "https://localhost:8080/"
        },
        "id": "uvdFd_CgnMr_",
        "outputId": "d27bfa20-b495-42f9-fb4e-b108e0f585f7"
      },
      "source": [
        "y_train[1000]"
      ],
      "execution_count": null,
      "outputs": [
        {
          "output_type": "execute_result",
          "data": {
            "text/plain": [
              "array([0., 0., 0., 0., 0., 0., 1., 0., 0., 0.], dtype=float32)"
            ]
          },
          "metadata": {
            "tags": []
          },
          "execution_count": 11
        }
      ]
    },
    {
      "cell_type": "code",
      "metadata": {
        "id": "q1TNr8GA3nkx"
      },
      "source": [
        "tf.keras.backend.clear_session()\n",
        "model = tf.keras.models.Sequential()\n",
        "\n",
        "#Reshape data from 2D to 1D -> 32x32 to 1024\n",
        "model.add(tf.keras.layers.Reshape((1024,),input_shape=(32,32,)))\n",
        "\n",
        "#Normalize the data\n",
        "model.add(tf.keras.layers.BatchNormalization())"
      ],
      "execution_count": null,
      "outputs": []
    },
    {
      "cell_type": "code",
      "metadata": {
        "colab": {
          "base_uri": "https://localhost:8080/"
        },
        "id": "aa4uba4-39al",
        "outputId": "1046d0ca-69f7-49c1-f95e-9537ae31a359"
      },
      "source": [
        "model.output"
      ],
      "execution_count": null,
      "outputs": [
        {
          "output_type": "execute_result",
          "data": {
            "text/plain": [
              "<KerasTensor: shape=(None, 1024) dtype=float32 (created by layer 'batch_normalization')>"
            ]
          },
          "metadata": {
            "tags": []
          },
          "execution_count": 27
        }
      ]
    },
    {
      "cell_type": "code",
      "metadata": {
        "id": "ioFqgOaI4Fun"
      },
      "source": [
        "model.add(tf.keras.layers.Dense(500, activation='relu'))\n",
        "model.add(tf.keras.layers.Dropout(0.4))\n",
        "model.add(tf.keras.layers.BatchNormalization())\n",
        "\n",
        "model.add(tf.keras.layers.Dense(250, activation='relu'))\n",
        "model.add(tf.keras.layers.Dropout(0.3))\n",
        "model.add(tf.keras.layers.BatchNormalization())\n",
        "\n",
        "model.add(tf.keras.layers.Dense(100, activation='relu'))\n",
        "model.add(tf.keras.layers.Dropout(0.25))\n",
        "model.add(tf.keras.layers.BatchNormalization()) \n",
        "\n",
        "model.add(tf.keras.layers.Dense(30, activation='relu'))\n",
        "model.add(tf.keras.layers.Dropout(0.2)) \n",
        "\n",
        "model.add(tf.keras.layers.Dense(10, activation='softmax'))"
      ],
      "execution_count": null,
      "outputs": []
    },
    {
      "cell_type": "code",
      "metadata": {
        "id": "GMkpspE8kqCn",
        "colab": {
          "base_uri": "https://localhost:8080/"
        },
        "outputId": "4270c5f4-6ac5-4b4d-db84-212261c7368a"
      },
      "source": [
        "model.output"
      ],
      "execution_count": null,
      "outputs": [
        {
          "output_type": "execute_result",
          "data": {
            "text/plain": [
              "<KerasTensor: shape=(None, 10) dtype=float32 (created by layer 'dense_4')>"
            ]
          },
          "metadata": {
            "tags": []
          },
          "execution_count": 29
        }
      ]
    },
    {
      "cell_type": "code",
      "metadata": {
        "id": "Ur9TPb1R4ldl"
      },
      "source": [
        "model.compile(optimizer='adam', loss='categorical_crossentropy', \n",
        "              metrics=['accuracy'])"
      ],
      "execution_count": null,
      "outputs": []
    },
    {
      "cell_type": "code",
      "metadata": {
        "colab": {
          "base_uri": "https://localhost:8080/"
        },
        "id": "mjbOfYVi4m59",
        "outputId": "a6e21616-fdc2-488c-b6cc-6918eee3ba79"
      },
      "source": [
        "model.summary()"
      ],
      "execution_count": null,
      "outputs": [
        {
          "output_type": "stream",
          "text": [
            "Model: \"sequential\"\n",
            "_________________________________________________________________\n",
            "Layer (type)                 Output Shape              Param #   \n",
            "=================================================================\n",
            "reshape (Reshape)            (None, 1024)              0         \n",
            "_________________________________________________________________\n",
            "batch_normalization (BatchNo (None, 1024)              4096      \n",
            "_________________________________________________________________\n",
            "dense (Dense)                (None, 500)               512500    \n",
            "_________________________________________________________________\n",
            "dropout (Dropout)            (None, 500)               0         \n",
            "_________________________________________________________________\n",
            "batch_normalization_1 (Batch (None, 500)               2000      \n",
            "_________________________________________________________________\n",
            "dense_1 (Dense)              (None, 250)               125250    \n",
            "_________________________________________________________________\n",
            "dropout_1 (Dropout)          (None, 250)               0         \n",
            "_________________________________________________________________\n",
            "batch_normalization_2 (Batch (None, 250)               1000      \n",
            "_________________________________________________________________\n",
            "dense_2 (Dense)              (None, 100)               25100     \n",
            "_________________________________________________________________\n",
            "dropout_2 (Dropout)          (None, 100)               0         \n",
            "_________________________________________________________________\n",
            "batch_normalization_3 (Batch (None, 100)               400       \n",
            "_________________________________________________________________\n",
            "dense_3 (Dense)              (None, 30)                3030      \n",
            "_________________________________________________________________\n",
            "dropout_3 (Dropout)          (None, 30)                0         \n",
            "_________________________________________________________________\n",
            "dense_4 (Dense)              (None, 10)                310       \n",
            "=================================================================\n",
            "Total params: 673,686\n",
            "Trainable params: 669,938\n",
            "Non-trainable params: 3,748\n",
            "_________________________________________________________________\n"
          ],
          "name": "stdout"
        }
      ]
    },
    {
      "cell_type": "code",
      "metadata": {
        "colab": {
          "base_uri": "https://localhost:8080/"
        },
        "id": "lms2Pvzi400c",
        "outputId": "08ae9190-4a62-4f71-e57e-936e714c8ad2"
      },
      "source": [
        "callback = tf.keras.callbacks.EarlyStopping(monitor='val_loss', patience = 10,restore_best_weights=True,mode='min')\n",
        "checkpoint_cb = tf.keras.callbacks.ModelCheckpoint('./checkpoint', monitor='val_loss',save_best_only=True,save_freq='epoch')\n",
        "history=model.fit(x_train,y_train,          \n",
        "          validation_data=(x_val,y_val),\n",
        "          epochs=200,\n",
        "          batch_size=100,callbacks=[callback, checkpoint_cb])"
      ],
      "execution_count": null,
      "outputs": [
        {
          "output_type": "stream",
          "text": [
            "Epoch 1/200\n",
            "420/420 [==============================] - 11s 24ms/step - loss: 2.3966 - accuracy: 0.1551 - val_loss: 1.4536 - val_accuracy: 0.5186\n",
            "INFO:tensorflow:Assets written to: ./checkpoint/assets\n",
            "Epoch 2/200\n",
            "420/420 [==============================] - 10s 23ms/step - loss: 1.6505 - accuracy: 0.4186 - val_loss: 1.1083 - val_accuracy: 0.6477\n",
            "INFO:tensorflow:Assets written to: ./checkpoint/assets\n",
            "Epoch 3/200\n",
            "420/420 [==============================] - 10s 23ms/step - loss: 1.3815 - accuracy: 0.5414 - val_loss: 0.9617 - val_accuracy: 0.7036\n",
            "INFO:tensorflow:Assets written to: ./checkpoint/assets\n",
            "Epoch 4/200\n",
            "420/420 [==============================] - 10s 23ms/step - loss: 1.2261 - accuracy: 0.6063 - val_loss: 0.8477 - val_accuracy: 0.7427\n",
            "INFO:tensorflow:Assets written to: ./checkpoint/assets\n",
            "Epoch 5/200\n",
            "420/420 [==============================] - 10s 24ms/step - loss: 1.1152 - accuracy: 0.6457 - val_loss: 0.7569 - val_accuracy: 0.7727\n",
            "INFO:tensorflow:Assets written to: ./checkpoint/assets\n",
            "Epoch 6/200\n",
            "420/420 [==============================] - 10s 23ms/step - loss: 1.0341 - accuracy: 0.6760 - val_loss: 0.7196 - val_accuracy: 0.7814\n",
            "INFO:tensorflow:Assets written to: ./checkpoint/assets\n",
            "Epoch 7/200\n",
            "420/420 [==============================] - 10s 23ms/step - loss: 0.9799 - accuracy: 0.6950 - val_loss: 0.6713 - val_accuracy: 0.7975\n",
            "INFO:tensorflow:Assets written to: ./checkpoint/assets\n",
            "Epoch 8/200\n",
            "420/420 [==============================] - 10s 23ms/step - loss: 0.9396 - accuracy: 0.7084 - val_loss: 0.6274 - val_accuracy: 0.8136\n",
            "INFO:tensorflow:Assets written to: ./checkpoint/assets\n",
            "Epoch 9/200\n",
            "420/420 [==============================] - 10s 23ms/step - loss: 0.8966 - accuracy: 0.7203 - val_loss: 0.6125 - val_accuracy: 0.8161\n",
            "INFO:tensorflow:Assets written to: ./checkpoint/assets\n",
            "Epoch 10/200\n",
            "420/420 [==============================] - 10s 23ms/step - loss: 0.8555 - accuracy: 0.7343 - val_loss: 0.5926 - val_accuracy: 0.8220\n",
            "INFO:tensorflow:Assets written to: ./checkpoint/assets\n",
            "Epoch 11/200\n",
            "420/420 [==============================] - 10s 23ms/step - loss: 0.8342 - accuracy: 0.7448 - val_loss: 0.5718 - val_accuracy: 0.8315\n",
            "INFO:tensorflow:Assets written to: ./checkpoint/assets\n",
            "Epoch 12/200\n",
            "420/420 [==============================] - 10s 23ms/step - loss: 0.8183 - accuracy: 0.7486 - val_loss: 0.5517 - val_accuracy: 0.8334\n",
            "INFO:tensorflow:Assets written to: ./checkpoint/assets\n",
            "Epoch 13/200\n",
            "420/420 [==============================] - 10s 23ms/step - loss: 0.8148 - accuracy: 0.7501 - val_loss: 0.5370 - val_accuracy: 0.8398\n",
            "INFO:tensorflow:Assets written to: ./checkpoint/assets\n",
            "Epoch 14/200\n",
            "420/420 [==============================] - 10s 24ms/step - loss: 0.7781 - accuracy: 0.7614 - val_loss: 0.5184 - val_accuracy: 0.8447\n",
            "INFO:tensorflow:Assets written to: ./checkpoint/assets\n",
            "Epoch 15/200\n",
            "420/420 [==============================] - 10s 23ms/step - loss: 0.7646 - accuracy: 0.7674 - val_loss: 0.5100 - val_accuracy: 0.8515\n",
            "INFO:tensorflow:Assets written to: ./checkpoint/assets\n",
            "Epoch 16/200\n",
            "420/420 [==============================] - 10s 23ms/step - loss: 0.7578 - accuracy: 0.7669 - val_loss: 0.5096 - val_accuracy: 0.8479\n",
            "INFO:tensorflow:Assets written to: ./checkpoint/assets\n",
            "Epoch 17/200\n",
            "420/420 [==============================] - 9s 22ms/step - loss: 0.7379 - accuracy: 0.7759 - val_loss: 0.4823 - val_accuracy: 0.8583\n",
            "INFO:tensorflow:Assets written to: ./checkpoint/assets\n",
            "Epoch 18/200\n",
            "420/420 [==============================] - 9s 22ms/step - loss: 0.7281 - accuracy: 0.7784 - val_loss: 0.4929 - val_accuracy: 0.8525\n",
            "Epoch 19/200\n",
            "420/420 [==============================] - 9s 22ms/step - loss: 0.7085 - accuracy: 0.7843 - val_loss: 0.4753 - val_accuracy: 0.8611\n",
            "INFO:tensorflow:Assets written to: ./checkpoint/assets\n",
            "Epoch 20/200\n",
            "420/420 [==============================] - 9s 22ms/step - loss: 0.7045 - accuracy: 0.7837 - val_loss: 0.4720 - val_accuracy: 0.8593\n",
            "INFO:tensorflow:Assets written to: ./checkpoint/assets\n",
            "Epoch 21/200\n",
            "420/420 [==============================] - 9s 22ms/step - loss: 0.7052 - accuracy: 0.7857 - val_loss: 0.4520 - val_accuracy: 0.8653\n",
            "INFO:tensorflow:Assets written to: ./checkpoint/assets\n",
            "Epoch 22/200\n",
            "420/420 [==============================] - 9s 21ms/step - loss: 0.6846 - accuracy: 0.7896 - val_loss: 0.4641 - val_accuracy: 0.8636\n",
            "Epoch 23/200\n",
            "420/420 [==============================] - 9s 21ms/step - loss: 0.6764 - accuracy: 0.7945 - val_loss: 0.4334 - val_accuracy: 0.8722\n",
            "INFO:tensorflow:Assets written to: ./checkpoint/assets\n",
            "Epoch 24/200\n",
            "420/420 [==============================] - 9s 22ms/step - loss: 0.6785 - accuracy: 0.7906 - val_loss: 0.4519 - val_accuracy: 0.8671\n",
            "Epoch 25/200\n",
            "420/420 [==============================] - 9s 22ms/step - loss: 0.6634 - accuracy: 0.7990 - val_loss: 0.4239 - val_accuracy: 0.8752\n",
            "INFO:tensorflow:Assets written to: ./checkpoint/assets\n",
            "Epoch 26/200\n",
            "420/420 [==============================] - 9s 22ms/step - loss: 0.6387 - accuracy: 0.8066 - val_loss: 0.4230 - val_accuracy: 0.8741\n",
            "INFO:tensorflow:Assets written to: ./checkpoint/assets\n",
            "Epoch 27/200\n",
            "420/420 [==============================] - 9s 21ms/step - loss: 0.6454 - accuracy: 0.8042 - val_loss: 0.4201 - val_accuracy: 0.8762\n",
            "INFO:tensorflow:Assets written to: ./checkpoint/assets\n",
            "Epoch 28/200\n",
            "420/420 [==============================] - 9s 21ms/step - loss: 0.6402 - accuracy: 0.8031 - val_loss: 0.4366 - val_accuracy: 0.8741\n",
            "Epoch 29/200\n",
            "420/420 [==============================] - 9s 21ms/step - loss: 0.6411 - accuracy: 0.8039 - val_loss: 0.4124 - val_accuracy: 0.8775\n",
            "INFO:tensorflow:Assets written to: ./checkpoint/assets\n",
            "Epoch 30/200\n",
            "420/420 [==============================] - 9s 21ms/step - loss: 0.6330 - accuracy: 0.8067 - val_loss: 0.4209 - val_accuracy: 0.8781\n",
            "Epoch 31/200\n",
            "420/420 [==============================] - 9s 21ms/step - loss: 0.6284 - accuracy: 0.8087 - val_loss: 0.3995 - val_accuracy: 0.8824\n",
            "INFO:tensorflow:Assets written to: ./checkpoint/assets\n",
            "Epoch 32/200\n",
            "420/420 [==============================] - 9s 21ms/step - loss: 0.6213 - accuracy: 0.8116 - val_loss: 0.3936 - val_accuracy: 0.8839\n",
            "INFO:tensorflow:Assets written to: ./checkpoint/assets\n",
            "Epoch 33/200\n",
            "420/420 [==============================] - 9s 21ms/step - loss: 0.6126 - accuracy: 0.8143 - val_loss: 0.3992 - val_accuracy: 0.8822\n",
            "Epoch 34/200\n",
            "420/420 [==============================] - 9s 21ms/step - loss: 0.6182 - accuracy: 0.8119 - val_loss: 0.3982 - val_accuracy: 0.8832\n",
            "Epoch 35/200\n",
            "420/420 [==============================] - 9s 21ms/step - loss: 0.6059 - accuracy: 0.8164 - val_loss: 0.3923 - val_accuracy: 0.8861\n",
            "INFO:tensorflow:Assets written to: ./checkpoint/assets\n",
            "Epoch 36/200\n",
            "420/420 [==============================] - 9s 22ms/step - loss: 0.6126 - accuracy: 0.8173 - val_loss: 0.3916 - val_accuracy: 0.8885\n",
            "INFO:tensorflow:Assets written to: ./checkpoint/assets\n",
            "Epoch 37/200\n",
            "420/420 [==============================] - 9s 22ms/step - loss: 0.5970 - accuracy: 0.8192 - val_loss: 0.3807 - val_accuracy: 0.8895\n",
            "INFO:tensorflow:Assets written to: ./checkpoint/assets\n",
            "Epoch 38/200\n",
            "420/420 [==============================] - 9s 22ms/step - loss: 0.6031 - accuracy: 0.8186 - val_loss: 0.3850 - val_accuracy: 0.8862\n",
            "Epoch 39/200\n",
            "420/420 [==============================] - 9s 22ms/step - loss: 0.5942 - accuracy: 0.8174 - val_loss: 0.3825 - val_accuracy: 0.8909\n",
            "Epoch 40/200\n",
            "420/420 [==============================] - 9s 22ms/step - loss: 0.5950 - accuracy: 0.8144 - val_loss: 0.3735 - val_accuracy: 0.8908\n",
            "INFO:tensorflow:Assets written to: ./checkpoint/assets\n",
            "Epoch 41/200\n",
            "420/420 [==============================] - 9s 22ms/step - loss: 0.5971 - accuracy: 0.8195 - val_loss: 0.3785 - val_accuracy: 0.8893\n",
            "Epoch 42/200\n",
            "420/420 [==============================] - 10s 23ms/step - loss: 0.5843 - accuracy: 0.8221 - val_loss: 0.3654 - val_accuracy: 0.8946\n",
            "INFO:tensorflow:Assets written to: ./checkpoint/assets\n",
            "Epoch 43/200\n",
            "420/420 [==============================] - 10s 23ms/step - loss: 0.5725 - accuracy: 0.8296 - val_loss: 0.3599 - val_accuracy: 0.8943\n",
            "INFO:tensorflow:Assets written to: ./checkpoint/assets\n",
            "Epoch 44/200\n",
            "420/420 [==============================] - 10s 24ms/step - loss: 0.5860 - accuracy: 0.8225 - val_loss: 0.3658 - val_accuracy: 0.8936\n",
            "Epoch 45/200\n",
            "420/420 [==============================] - 10s 24ms/step - loss: 0.5629 - accuracy: 0.8310 - val_loss: 0.3599 - val_accuracy: 0.8957\n",
            "INFO:tensorflow:Assets written to: ./checkpoint/assets\n",
            "Epoch 46/200\n",
            "420/420 [==============================] - 10s 24ms/step - loss: 0.5742 - accuracy: 0.8234 - val_loss: 0.3735 - val_accuracy: 0.8916\n",
            "Epoch 47/200\n",
            "420/420 [==============================] - 10s 24ms/step - loss: 0.5664 - accuracy: 0.8294 - val_loss: 0.3591 - val_accuracy: 0.8954\n",
            "INFO:tensorflow:Assets written to: ./checkpoint/assets\n",
            "Epoch 48/200\n",
            "420/420 [==============================] - 10s 23ms/step - loss: 0.5649 - accuracy: 0.8250 - val_loss: 0.3652 - val_accuracy: 0.8935\n",
            "Epoch 49/200\n",
            "420/420 [==============================] - 10s 23ms/step - loss: 0.5652 - accuracy: 0.8285 - val_loss: 0.3559 - val_accuracy: 0.8974\n",
            "INFO:tensorflow:Assets written to: ./checkpoint/assets\n",
            "Epoch 50/200\n",
            "420/420 [==============================] - 10s 24ms/step - loss: 0.5626 - accuracy: 0.8296 - val_loss: 0.3474 - val_accuracy: 0.8999\n",
            "INFO:tensorflow:Assets written to: ./checkpoint/assets\n",
            "Epoch 51/200\n",
            "420/420 [==============================] - 10s 24ms/step - loss: 0.5648 - accuracy: 0.8287 - val_loss: 0.3545 - val_accuracy: 0.8982\n",
            "Epoch 52/200\n",
            "420/420 [==============================] - 10s 24ms/step - loss: 0.5505 - accuracy: 0.8347 - val_loss: 0.3402 - val_accuracy: 0.9010\n",
            "INFO:tensorflow:Assets written to: ./checkpoint/assets\n",
            "Epoch 53/200\n",
            "420/420 [==============================] - 10s 24ms/step - loss: 0.5471 - accuracy: 0.8326 - val_loss: 0.3470 - val_accuracy: 0.9001\n",
            "Epoch 54/200\n",
            "420/420 [==============================] - 10s 24ms/step - loss: 0.5496 - accuracy: 0.8334 - val_loss: 0.3514 - val_accuracy: 0.8999\n",
            "Epoch 55/200\n",
            "420/420 [==============================] - 10s 24ms/step - loss: 0.5542 - accuracy: 0.8323 - val_loss: 0.3464 - val_accuracy: 0.8989\n",
            "Epoch 56/200\n",
            "420/420 [==============================] - 10s 24ms/step - loss: 0.5530 - accuracy: 0.8326 - val_loss: 0.3366 - val_accuracy: 0.9035\n",
            "INFO:tensorflow:Assets written to: ./checkpoint/assets\n",
            "Epoch 57/200\n",
            "420/420 [==============================] - 10s 23ms/step - loss: 0.5446 - accuracy: 0.8374 - val_loss: 0.3344 - val_accuracy: 0.9026\n",
            "INFO:tensorflow:Assets written to: ./checkpoint/assets\n",
            "Epoch 58/200\n",
            "420/420 [==============================] - 10s 24ms/step - loss: 0.5372 - accuracy: 0.8379 - val_loss: 0.3495 - val_accuracy: 0.8969\n",
            "Epoch 59/200\n",
            "420/420 [==============================] - 10s 24ms/step - loss: 0.5461 - accuracy: 0.8333 - val_loss: 0.3337 - val_accuracy: 0.9046\n",
            "INFO:tensorflow:Assets written to: ./checkpoint/assets\n",
            "Epoch 60/200\n",
            "420/420 [==============================] - 10s 24ms/step - loss: 0.5392 - accuracy: 0.8373 - val_loss: 0.3334 - val_accuracy: 0.9030\n",
            "INFO:tensorflow:Assets written to: ./checkpoint/assets\n",
            "Epoch 61/200\n",
            "420/420 [==============================] - 10s 24ms/step - loss: 0.5297 - accuracy: 0.8369 - val_loss: 0.3272 - val_accuracy: 0.9053\n",
            "INFO:tensorflow:Assets written to: ./checkpoint/assets\n",
            "Epoch 62/200\n",
            "420/420 [==============================] - 10s 24ms/step - loss: 0.5398 - accuracy: 0.8349 - val_loss: 0.3356 - val_accuracy: 0.9013\n",
            "Epoch 63/200\n",
            "420/420 [==============================] - 10s 23ms/step - loss: 0.5285 - accuracy: 0.8398 - val_loss: 0.3323 - val_accuracy: 0.9032\n",
            "Epoch 64/200\n",
            "420/420 [==============================] - 10s 24ms/step - loss: 0.5363 - accuracy: 0.8340 - val_loss: 0.3294 - val_accuracy: 0.9047\n",
            "Epoch 65/200\n",
            "420/420 [==============================] - 10s 24ms/step - loss: 0.5200 - accuracy: 0.8415 - val_loss: 0.3321 - val_accuracy: 0.9046\n",
            "Epoch 66/200\n",
            "420/420 [==============================] - 10s 24ms/step - loss: 0.5259 - accuracy: 0.8397 - val_loss: 0.3250 - val_accuracy: 0.9085\n",
            "INFO:tensorflow:Assets written to: ./checkpoint/assets\n",
            "Epoch 67/200\n",
            "420/420 [==============================] - 10s 24ms/step - loss: 0.5254 - accuracy: 0.8408 - val_loss: 0.3364 - val_accuracy: 0.9016\n",
            "Epoch 68/200\n",
            "420/420 [==============================] - 10s 24ms/step - loss: 0.5154 - accuracy: 0.8405 - val_loss: 0.3342 - val_accuracy: 0.9053\n",
            "Epoch 69/200\n",
            "420/420 [==============================] - 10s 24ms/step - loss: 0.5206 - accuracy: 0.8421 - val_loss: 0.3236 - val_accuracy: 0.9079\n",
            "INFO:tensorflow:Assets written to: ./checkpoint/assets\n",
            "Epoch 70/200\n",
            "420/420 [==============================] - 10s 24ms/step - loss: 0.5206 - accuracy: 0.8395 - val_loss: 0.3178 - val_accuracy: 0.9085\n",
            "INFO:tensorflow:Assets written to: ./checkpoint/assets\n",
            "Epoch 71/200\n",
            "420/420 [==============================] - 10s 23ms/step - loss: 0.5191 - accuracy: 0.8441 - val_loss: 0.3206 - val_accuracy: 0.9080\n",
            "Epoch 72/200\n",
            "420/420 [==============================] - 10s 23ms/step - loss: 0.5248 - accuracy: 0.8390 - val_loss: 0.3200 - val_accuracy: 0.9103\n",
            "Epoch 73/200\n",
            "420/420 [==============================] - 10s 23ms/step - loss: 0.5247 - accuracy: 0.8410 - val_loss: 0.3174 - val_accuracy: 0.9100\n",
            "INFO:tensorflow:Assets written to: ./checkpoint/assets\n",
            "Epoch 74/200\n",
            "420/420 [==============================] - 10s 23ms/step - loss: 0.5076 - accuracy: 0.8439 - val_loss: 0.3187 - val_accuracy: 0.9066\n",
            "Epoch 75/200\n",
            "420/420 [==============================] - 10s 23ms/step - loss: 0.5144 - accuracy: 0.8434 - val_loss: 0.3142 - val_accuracy: 0.9102\n",
            "INFO:tensorflow:Assets written to: ./checkpoint/assets\n",
            "Epoch 76/200\n",
            "420/420 [==============================] - 10s 23ms/step - loss: 0.5142 - accuracy: 0.8431 - val_loss: 0.3126 - val_accuracy: 0.9112\n",
            "INFO:tensorflow:Assets written to: ./checkpoint/assets\n",
            "Epoch 77/200\n",
            "420/420 [==============================] - 10s 23ms/step - loss: 0.5154 - accuracy: 0.8425 - val_loss: 0.3035 - val_accuracy: 0.9129\n",
            "INFO:tensorflow:Assets written to: ./checkpoint/assets\n",
            "Epoch 78/200\n",
            "420/420 [==============================] - 10s 23ms/step - loss: 0.5079 - accuracy: 0.8467 - val_loss: 0.3028 - val_accuracy: 0.9126\n",
            "INFO:tensorflow:Assets written to: ./checkpoint/assets\n",
            "Epoch 79/200\n",
            "420/420 [==============================] - 10s 24ms/step - loss: 0.5004 - accuracy: 0.8462 - val_loss: 0.3117 - val_accuracy: 0.9094\n",
            "Epoch 80/200\n",
            "420/420 [==============================] - 10s 24ms/step - loss: 0.5010 - accuracy: 0.8456 - val_loss: 0.3115 - val_accuracy: 0.9123\n",
            "Epoch 81/200\n",
            "420/420 [==============================] - 10s 24ms/step - loss: 0.5083 - accuracy: 0.8459 - val_loss: 0.3039 - val_accuracy: 0.9138\n",
            "Epoch 82/200\n",
            "420/420 [==============================] - 10s 24ms/step - loss: 0.5149 - accuracy: 0.8420 - val_loss: 0.3009 - val_accuracy: 0.9143\n",
            "INFO:tensorflow:Assets written to: ./checkpoint/assets\n",
            "Epoch 83/200\n",
            "420/420 [==============================] - 10s 24ms/step - loss: 0.4995 - accuracy: 0.8484 - val_loss: 0.3058 - val_accuracy: 0.9105\n",
            "Epoch 84/200\n",
            "420/420 [==============================] - 10s 24ms/step - loss: 0.5064 - accuracy: 0.8456 - val_loss: 0.3056 - val_accuracy: 0.9140\n",
            "Epoch 85/200\n",
            "420/420 [==============================] - 10s 24ms/step - loss: 0.4833 - accuracy: 0.8511 - val_loss: 0.3103 - val_accuracy: 0.9151\n",
            "Epoch 86/200\n",
            "420/420 [==============================] - 10s 24ms/step - loss: 0.4960 - accuracy: 0.8483 - val_loss: 0.3017 - val_accuracy: 0.9126\n",
            "Epoch 87/200\n",
            "420/420 [==============================] - 10s 24ms/step - loss: 0.4943 - accuracy: 0.8503 - val_loss: 0.2972 - val_accuracy: 0.9160\n",
            "INFO:tensorflow:Assets written to: ./checkpoint/assets\n",
            "Epoch 88/200\n",
            "420/420 [==============================] - 10s 24ms/step - loss: 0.4984 - accuracy: 0.8488 - val_loss: 0.3022 - val_accuracy: 0.9141\n",
            "Epoch 89/200\n",
            "420/420 [==============================] - 10s 24ms/step - loss: 0.4965 - accuracy: 0.8494 - val_loss: 0.2958 - val_accuracy: 0.9143\n",
            "INFO:tensorflow:Assets written to: ./checkpoint/assets\n",
            "Epoch 90/200\n",
            "420/420 [==============================] - 10s 24ms/step - loss: 0.4875 - accuracy: 0.8493 - val_loss: 0.2980 - val_accuracy: 0.9149\n",
            "Epoch 91/200\n",
            "420/420 [==============================] - 10s 24ms/step - loss: 0.4948 - accuracy: 0.8468 - val_loss: 0.2883 - val_accuracy: 0.9193\n",
            "INFO:tensorflow:Assets written to: ./checkpoint/assets\n",
            "Epoch 92/200\n",
            "420/420 [==============================] - 10s 24ms/step - loss: 0.4866 - accuracy: 0.8546 - val_loss: 0.2925 - val_accuracy: 0.9178\n",
            "Epoch 93/200\n",
            "420/420 [==============================] - 10s 24ms/step - loss: 0.4940 - accuracy: 0.8502 - val_loss: 0.3009 - val_accuracy: 0.9160\n",
            "Epoch 94/200\n",
            "420/420 [==============================] - 10s 24ms/step - loss: 0.4889 - accuracy: 0.8513 - val_loss: 0.2957 - val_accuracy: 0.9163\n",
            "Epoch 95/200\n",
            "420/420 [==============================] - 10s 24ms/step - loss: 0.4878 - accuracy: 0.8529 - val_loss: 0.2909 - val_accuracy: 0.9188\n",
            "Epoch 96/200\n",
            "420/420 [==============================] - 10s 24ms/step - loss: 0.4810 - accuracy: 0.8541 - val_loss: 0.2919 - val_accuracy: 0.9184\n",
            "Epoch 97/200\n",
            "420/420 [==============================] - 10s 24ms/step - loss: 0.4897 - accuracy: 0.8498 - val_loss: 0.2784 - val_accuracy: 0.9204\n",
            "INFO:tensorflow:Assets written to: ./checkpoint/assets\n",
            "Epoch 98/200\n",
            "420/420 [==============================] - 10s 24ms/step - loss: 0.4753 - accuracy: 0.8571 - val_loss: 0.2803 - val_accuracy: 0.9199\n",
            "Epoch 99/200\n",
            "420/420 [==============================] - 10s 24ms/step - loss: 0.4795 - accuracy: 0.8538 - val_loss: 0.2868 - val_accuracy: 0.9188\n",
            "Epoch 100/200\n",
            "420/420 [==============================] - 10s 24ms/step - loss: 0.4763 - accuracy: 0.8557 - val_loss: 0.2885 - val_accuracy: 0.9187\n",
            "Epoch 101/200\n",
            "420/420 [==============================] - 10s 24ms/step - loss: 0.4893 - accuracy: 0.8514 - val_loss: 0.2758 - val_accuracy: 0.9206\n",
            "INFO:tensorflow:Assets written to: ./checkpoint/assets\n",
            "Epoch 102/200\n",
            "420/420 [==============================] - 10s 23ms/step - loss: 0.4765 - accuracy: 0.8549 - val_loss: 0.2929 - val_accuracy: 0.9188\n",
            "Epoch 103/200\n",
            "420/420 [==============================] - 10s 24ms/step - loss: 0.4802 - accuracy: 0.8523 - val_loss: 0.2872 - val_accuracy: 0.9205\n",
            "Epoch 104/200\n",
            "420/420 [==============================] - 10s 24ms/step - loss: 0.4735 - accuracy: 0.8546 - val_loss: 0.2898 - val_accuracy: 0.9179\n",
            "Epoch 105/200\n",
            "420/420 [==============================] - 10s 24ms/step - loss: 0.4612 - accuracy: 0.8580 - val_loss: 0.2720 - val_accuracy: 0.9233\n",
            "INFO:tensorflow:Assets written to: ./checkpoint/assets\n",
            "Epoch 106/200\n",
            "420/420 [==============================] - 10s 24ms/step - loss: 0.4773 - accuracy: 0.8541 - val_loss: 0.2830 - val_accuracy: 0.9202\n",
            "Epoch 107/200\n",
            "420/420 [==============================] - 10s 24ms/step - loss: 0.4755 - accuracy: 0.8555 - val_loss: 0.2879 - val_accuracy: 0.9185\n",
            "Epoch 108/200\n",
            "420/420 [==============================] - 10s 24ms/step - loss: 0.4759 - accuracy: 0.8553 - val_loss: 0.2806 - val_accuracy: 0.9213\n",
            "Epoch 109/200\n",
            "420/420 [==============================] - 10s 24ms/step - loss: 0.4631 - accuracy: 0.8564 - val_loss: 0.2855 - val_accuracy: 0.9193\n",
            "Epoch 110/200\n",
            "420/420 [==============================] - 10s 24ms/step - loss: 0.4592 - accuracy: 0.8579 - val_loss: 0.2843 - val_accuracy: 0.9191\n",
            "Epoch 111/200\n",
            "420/420 [==============================] - 10s 24ms/step - loss: 0.4679 - accuracy: 0.8570 - val_loss: 0.2814 - val_accuracy: 0.9197\n",
            "Epoch 112/200\n",
            "420/420 [==============================] - 10s 24ms/step - loss: 0.4774 - accuracy: 0.8545 - val_loss: 0.2848 - val_accuracy: 0.9207\n",
            "Epoch 113/200\n",
            "420/420 [==============================] - 10s 24ms/step - loss: 0.4649 - accuracy: 0.8581 - val_loss: 0.2736 - val_accuracy: 0.9220\n",
            "Epoch 114/200\n",
            "420/420 [==============================] - 10s 24ms/step - loss: 0.4656 - accuracy: 0.8581 - val_loss: 0.2692 - val_accuracy: 0.9245\n",
            "INFO:tensorflow:Assets written to: ./checkpoint/assets\n",
            "Epoch 115/200\n",
            "420/420 [==============================] - 10s 24ms/step - loss: 0.4623 - accuracy: 0.8576 - val_loss: 0.2746 - val_accuracy: 0.9215\n",
            "Epoch 116/200\n",
            "420/420 [==============================] - 10s 24ms/step - loss: 0.4601 - accuracy: 0.8610 - val_loss: 0.2814 - val_accuracy: 0.9211\n",
            "Epoch 117/200\n",
            "420/420 [==============================] - 10s 24ms/step - loss: 0.4508 - accuracy: 0.8632 - val_loss: 0.2788 - val_accuracy: 0.9228\n",
            "Epoch 118/200\n",
            "420/420 [==============================] - 10s 24ms/step - loss: 0.4553 - accuracy: 0.8613 - val_loss: 0.2843 - val_accuracy: 0.9207\n",
            "Epoch 119/200\n",
            "420/420 [==============================] - 10s 24ms/step - loss: 0.4661 - accuracy: 0.8579 - val_loss: 0.2696 - val_accuracy: 0.9246\n",
            "Epoch 120/200\n",
            "420/420 [==============================] - 10s 24ms/step - loss: 0.4603 - accuracy: 0.8592 - val_loss: 0.2659 - val_accuracy: 0.9254\n",
            "INFO:tensorflow:Assets written to: ./checkpoint/assets\n",
            "Epoch 121/200\n",
            "420/420 [==============================] - 10s 24ms/step - loss: 0.4701 - accuracy: 0.8580 - val_loss: 0.2721 - val_accuracy: 0.9236\n",
            "Epoch 122/200\n",
            "420/420 [==============================] - 10s 24ms/step - loss: 0.4612 - accuracy: 0.8593 - val_loss: 0.2765 - val_accuracy: 0.9226\n",
            "Epoch 123/200\n",
            "420/420 [==============================] - 10s 24ms/step - loss: 0.4517 - accuracy: 0.8634 - val_loss: 0.2725 - val_accuracy: 0.9221\n",
            "Epoch 124/200\n",
            "420/420 [==============================] - 10s 24ms/step - loss: 0.4623 - accuracy: 0.8612 - val_loss: 0.2773 - val_accuracy: 0.9209\n",
            "Epoch 125/200\n",
            "420/420 [==============================] - 10s 24ms/step - loss: 0.4673 - accuracy: 0.8569 - val_loss: 0.2712 - val_accuracy: 0.9241\n",
            "Epoch 126/200\n",
            "420/420 [==============================] - 10s 24ms/step - loss: 0.4626 - accuracy: 0.8584 - val_loss: 0.2657 - val_accuracy: 0.9233\n",
            "INFO:tensorflow:Assets written to: ./checkpoint/assets\n",
            "Epoch 127/200\n",
            "420/420 [==============================] - 10s 25ms/step - loss: 0.4639 - accuracy: 0.8578 - val_loss: 0.2605 - val_accuracy: 0.9259\n",
            "INFO:tensorflow:Assets written to: ./checkpoint/assets\n",
            "Epoch 128/200\n",
            "420/420 [==============================] - 10s 24ms/step - loss: 0.4455 - accuracy: 0.8658 - val_loss: 0.2719 - val_accuracy: 0.9244\n",
            "Epoch 129/200\n",
            "420/420 [==============================] - 10s 25ms/step - loss: 0.4576 - accuracy: 0.8614 - val_loss: 0.2631 - val_accuracy: 0.9252\n",
            "Epoch 130/200\n",
            "420/420 [==============================] - 10s 24ms/step - loss: 0.4474 - accuracy: 0.8629 - val_loss: 0.2606 - val_accuracy: 0.9273\n",
            "Epoch 131/200\n",
            "420/420 [==============================] - 10s 24ms/step - loss: 0.4469 - accuracy: 0.8641 - val_loss: 0.2609 - val_accuracy: 0.9260\n",
            "Epoch 132/200\n",
            "420/420 [==============================] - 10s 24ms/step - loss: 0.4566 - accuracy: 0.8614 - val_loss: 0.2735 - val_accuracy: 0.9217\n",
            "Epoch 133/200\n",
            "420/420 [==============================] - 10s 24ms/step - loss: 0.4622 - accuracy: 0.8609 - val_loss: 0.2698 - val_accuracy: 0.9247\n",
            "Epoch 134/200\n",
            "420/420 [==============================] - 10s 24ms/step - loss: 0.4504 - accuracy: 0.8636 - val_loss: 0.2647 - val_accuracy: 0.9257\n",
            "Epoch 135/200\n",
            "420/420 [==============================] - 10s 24ms/step - loss: 0.4511 - accuracy: 0.8636 - val_loss: 0.2643 - val_accuracy: 0.9257\n",
            "Epoch 136/200\n",
            "420/420 [==============================] - 10s 25ms/step - loss: 0.4361 - accuracy: 0.8657 - val_loss: 0.2598 - val_accuracy: 0.9269\n",
            "INFO:tensorflow:Assets written to: ./checkpoint/assets\n",
            "Epoch 137/200\n",
            "420/420 [==============================] - 10s 25ms/step - loss: 0.4523 - accuracy: 0.8621 - val_loss: 0.2624 - val_accuracy: 0.9259\n",
            "Epoch 138/200\n",
            "420/420 [==============================] - 11s 25ms/step - loss: 0.4467 - accuracy: 0.8631 - val_loss: 0.2624 - val_accuracy: 0.9269\n",
            "Epoch 139/200\n",
            "420/420 [==============================] - 10s 25ms/step - loss: 0.4430 - accuracy: 0.8683 - val_loss: 0.2577 - val_accuracy: 0.9287\n",
            "INFO:tensorflow:Assets written to: ./checkpoint/assets\n",
            "Epoch 140/200\n",
            "420/420 [==============================] - 10s 25ms/step - loss: 0.4482 - accuracy: 0.8638 - val_loss: 0.2586 - val_accuracy: 0.9268\n",
            "Epoch 141/200\n",
            "420/420 [==============================] - 10s 25ms/step - loss: 0.4452 - accuracy: 0.8630 - val_loss: 0.2552 - val_accuracy: 0.9279\n",
            "INFO:tensorflow:Assets written to: ./checkpoint/assets\n",
            "Epoch 142/200\n",
            "420/420 [==============================] - 10s 25ms/step - loss: 0.4515 - accuracy: 0.8658 - val_loss: 0.2592 - val_accuracy: 0.9281\n",
            "Epoch 143/200\n",
            "420/420 [==============================] - 11s 25ms/step - loss: 0.4392 - accuracy: 0.8654 - val_loss: 0.2499 - val_accuracy: 0.9301\n",
            "INFO:tensorflow:Assets written to: ./checkpoint/assets\n",
            "Epoch 144/200\n",
            "420/420 [==============================] - 11s 25ms/step - loss: 0.4472 - accuracy: 0.8645 - val_loss: 0.2536 - val_accuracy: 0.9276\n",
            "Epoch 145/200\n",
            "420/420 [==============================] - 11s 25ms/step - loss: 0.4441 - accuracy: 0.8660 - val_loss: 0.2592 - val_accuracy: 0.9290\n",
            "Epoch 146/200\n",
            "420/420 [==============================] - 11s 25ms/step - loss: 0.4367 - accuracy: 0.8669 - val_loss: 0.2560 - val_accuracy: 0.9286\n",
            "Epoch 147/200\n",
            "420/420 [==============================] - 11s 25ms/step - loss: 0.4411 - accuracy: 0.8651 - val_loss: 0.2561 - val_accuracy: 0.9288\n",
            "Epoch 148/200\n",
            "420/420 [==============================] - 10s 25ms/step - loss: 0.4447 - accuracy: 0.8629 - val_loss: 0.2556 - val_accuracy: 0.9294\n",
            "Epoch 149/200\n",
            "420/420 [==============================] - 10s 25ms/step - loss: 0.4411 - accuracy: 0.8655 - val_loss: 0.2552 - val_accuracy: 0.9301\n",
            "Epoch 150/200\n",
            "420/420 [==============================] - 11s 25ms/step - loss: 0.4487 - accuracy: 0.8640 - val_loss: 0.2568 - val_accuracy: 0.9277\n",
            "Epoch 151/200\n",
            "420/420 [==============================] - 11s 25ms/step - loss: 0.4448 - accuracy: 0.8662 - val_loss: 0.2508 - val_accuracy: 0.9276\n",
            "Epoch 152/200\n",
            "420/420 [==============================] - 10s 25ms/step - loss: 0.4510 - accuracy: 0.8608 - val_loss: 0.2568 - val_accuracy: 0.9302\n",
            "Epoch 153/200\n",
            "420/420 [==============================] - 10s 25ms/step - loss: 0.4277 - accuracy: 0.8710 - val_loss: 0.2517 - val_accuracy: 0.9304\n"
          ],
          "name": "stdout"
        }
      ]
    },
    {
      "cell_type": "code",
      "metadata": {
        "id": "j6N9cKMNLytC"
      },
      "source": [
        "model.save(\"/content/gdrive/My Drive/my_keras_model.h5\")"
      ],
      "execution_count": null,
      "outputs": []
    },
    {
      "cell_type": "code",
      "metadata": {
        "colab": {
          "base_uri": "https://localhost:8080/",
          "height": 295
        },
        "id": "E7-aFqUMSQtg",
        "outputId": "59a2e2ff-7c67-4621-d998-8bddba6d721a"
      },
      "source": [
        "plt.plot(history.history['accuracy'])\n",
        "plt.plot(history.history['val_accuracy'])\n",
        "plt.title('accuracy_score')\n",
        "plt.ylabel('Accuracy')\n",
        "plt.xlabel('epoch')\n",
        "plt.legend(['train', 'val'], loc='upper left')\n",
        "plt.show()"
      ],
      "execution_count": null,
      "outputs": [
        {
          "output_type": "display_data",
          "data": {
            "image/png": "[encoded data removed]",
            "text/plain": [
              "<Figure size 432x288 with 1 Axes>"
            ]
          },
          "metadata": {
            "tags": [],
            "needs_background": "light"
          }
        }
      ]
    },
    {
      "cell_type": "code",
      "metadata": {
        "colab": {
          "base_uri": "https://localhost:8080/",
          "height": 295
        },
        "id": "b5vFdzjxE6u3",
        "outputId": "475b5716-bcb9-4fa6-d9cb-a02faee0bf23"
      },
      "source": [
        "plt.plot(history.history['loss'])\n",
        "plt.plot(history.history['val_loss'])\n",
        "plt.title('model loss')\n",
        "plt.ylabel('loss')\n",
        "plt.xlabel('epoch')\n",
        "plt.legend(['train', 'val'], loc='upper left')\n",
        "plt.show()"
      ],
      "execution_count": null,
      "outputs": [
        {
          "output_type": "display_data",
          "data": {
            "image/png": "[encoded data removed]",
            "text/plain": [
              "<Figure size 432x288 with 1 Axes>"
            ]
          },
          "metadata": {
            "tags": [],
            "needs_background": "light"
          }
        }
      ]
    },
    {
      "cell_type": "code",
      "metadata": {
        "colab": {
          "base_uri": "https://localhost:8080/"
        },
        "id": "UIdRB7Y30IzY",
        "outputId": "bb28b6e8-0e12-43b1-cbaf-411048887736"
      },
      "source": [
        "# Evaluate the model on the test data using `evaluate`\n",
        "print(\"Evaluate on test data\")\n",
        "results = model.evaluate(x_test, y_test, batch_size=32)\n",
        "print(\"Test loss, Test acc:\", results)"
      ],
      "execution_count": null,
      "outputs": [
        {
          "output_type": "stream",
          "text": [
            "Evaluate on test data\n",
            "563/563 [==============================] - 2s 3ms/step - loss: 0.3791 - accuracy: 0.8893\n",
            "Test loss, Test acc: [0.37912696599960327, 0.8893333077430725]\n"
          ],
          "name": "stdout"
        }
      ]
    },
    {
      "cell_type": "code",
      "metadata": {
        "colab": {
          "base_uri": "https://localhost:8080/"
        },
        "id": "d6XMxI2ilE_b",
        "outputId": "85b73ce6-e2be-40bc-f3d9-0d284bdd2287"
      },
      "source": [
        "x_new = x_test[1:4]\n",
        "y_proba = model.predict(x_new)\n",
        "y_proba.round(2)"
      ],
      "execution_count": null,
      "outputs": [
        {
          "output_type": "execute_result",
          "data": {
            "text/plain": [
              "array([[0.  , 0.  , 0.01, 0.  , 0.  , 0.  , 0.  , 0.99, 0.  , 0.  ],\n",
              "       [0.  , 0.  , 1.  , 0.  , 0.  , 0.  , 0.  , 0.  , 0.  , 0.  ],\n",
              "       [0.  , 0.  , 0.  , 0.  , 0.  , 0.  , 0.  , 0.  , 0.  , 1.  ]],\n",
              "      dtype=float32)"
            ]
          },
          "metadata": {
            "tags": []
          },
          "execution_count": 40
        }
      ]
    },
    {
      "cell_type": "code",
      "metadata": {
        "colab": {
          "base_uri": "https://localhost:8080/"
        },
        "id": "ALG71rm5lNNv",
        "outputId": "344930e2-f356-4648-fb59-5a1a154320bd"
      },
      "source": [
        "y_test[1:4]"
      ],
      "execution_count": null,
      "outputs": [
        {
          "output_type": "execute_result",
          "data": {
            "text/plain": [
              "array([[0., 0., 0., 0., 0., 0., 0., 1., 0., 0.],\n",
              "       [0., 0., 1., 0., 0., 0., 0., 0., 0., 0.],\n",
              "       [0., 0., 0., 0., 0., 0., 0., 0., 0., 1.]], dtype=float32)"
            ]
          },
          "metadata": {
            "tags": []
          },
          "execution_count": 41
        }
      ]
    }
  ]
}