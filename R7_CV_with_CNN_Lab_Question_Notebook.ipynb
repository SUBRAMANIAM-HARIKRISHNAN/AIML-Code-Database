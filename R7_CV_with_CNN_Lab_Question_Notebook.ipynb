{
  "nbformat": 4,
  "nbformat_minor": 0,
  "metadata": {
    "colab": {
      "name": "R7 CV with CNN Lab Question Notebook.ipynb",
      "provenance": [],
      "collapsed_sections": []
    },
    "kernelspec": {
      "name": "python3",
      "display_name": "Python 3"
    },
    "accelerator": "GPU"
  },
  "cells": [
    {
      "cell_type": "markdown",
      "metadata": {
        "id": "Hbln1O8gBEih"
      },
      "source": [
        "![alt text](https://drive.google.com/uc?export=view&id=1UXScsVx_Wni_JuDdB8LeTnM6jsPfIwkW)\n",
        "\n",
        "Proprietary content. © Great Learning. All Rights Reserved. Unauthorized use or distribution prohibited."
      ]
    },
    {
      "cell_type": "markdown",
      "metadata": {
        "id": "Q91KqmCRu64D"
      },
      "source": [
        "# Mobile Phone Detection in an Image\n",
        "\n",
        "## Domain\n",
        "Mobile Phones, Computer Vision\n",
        "\n",
        "## Business Context\n",
        "The ability to process visual information using machine learning algorithms can be very useful. Electronics companies can use it to identify the presence of a mobile in an image (location), mobile brand just by looking at the image, and minor damages if there are any. The computer vision field has multiple applications and based on the available data it can be used to meet business objectives.\n",
        "Here, we will use a simple convolutional neural network to classify images with and without mobile phones. \n",
        " \n",
        "## Objective\n",
        "\n",
        "Given the images and label whether an image has a mobile phone or not, can you train a model that allows you to map and find the presence of mobile phones within the selected images.\n"
      ]
    },
    {
      "cell_type": "markdown",
      "metadata": {
        "id": "b0Qw0vEHBUvm"
      },
      "source": [
        "### Package version\n",
        "- tensorflow==2.3.0\n",
        "- matplotlib==3.2.1\n",
        "- h5py==2.10.0\n",
        "- google==2.0.3"
      ]
    },
    {
      "cell_type": "markdown",
      "metadata": {
        "id": "yapdCjMwFl02"
      },
      "source": [
        "## Table of Content\n",
        "\n",
        "1. Import Libraries\n",
        "\n",
        "2. Setting options\n",
        "\n",
        "3. Data loading and Data Analysis \n",
        "\n",
        "4. Visualize and Standardize the data\n",
        "\n",
        "5. Model Building\n",
        "\n",
        "6. Evaluate Model\n",
        "\n",
        "7. Conclusion and Interpretation"
      ]
    },
    {
      "cell_type": "markdown",
      "metadata": {
        "id": "mSnjdKmpG82x"
      },
      "source": [
        "## 1. Import Libraries"
      ]
    },
    {
      "cell_type": "markdown",
      "metadata": {
        "id": "8z2Z7-OAs8QG"
      },
      "source": [
        "Let us start by mounting the drive"
      ]
    },
    {
      "cell_type": "code",
      "metadata": {
        "id": "REFUdThmpz_d",
        "colab": {
          "base_uri": "https://localhost:8080/"
        },
        "outputId": "8f077b8c-cac8-4d46-d1ad-b60adade7fcf"
      },
      "source": [
        "from google.colab import drive\n",
        "drive.mount('/content/drive')"
      ],
      "execution_count": 1,
      "outputs": [
        {
          "output_type": "stream",
          "text": [
            "Mounted at /content/drive\n"
          ],
          "name": "stdout"
        }
      ]
    },
    {
      "cell_type": "markdown",
      "metadata": {
        "id": "ucnevGLoyKf_"
      },
      "source": [
        "Let us check for the version of installed tensorflow."
      ]
    },
    {
      "cell_type": "code",
      "metadata": {
        "id": "W5as47YxyJVk",
        "colab": {
          "base_uri": "https://localhost:8080/"
        },
        "outputId": "60957516-fec7-431b-ecfa-9505e0496cf9"
      },
      "source": [
        "# used to supress display of warnings\n",
        "import warnings\n",
        "\n",
        "# os is used to provide a way of using operating system dependent functionality\n",
        "# We use it for setting working folder\n",
        "import os\n",
        "\n",
        "# Pandas is used for data manipulation and analysis\n",
        "import pandas as pd \n",
        "\n",
        "# Numpy is used for large, multi-dimensional arrays and matrices, along with mathematical operators on these arrays\n",
        "import numpy as np\n",
        "\n",
        "# Matplotlib is a data visualization library for 2D plots of arrays, built on NumPy arrays \n",
        "# and designed to work with the broader SciPy stack\n",
        "import matplotlib.pyplot as plt\n",
        "%matplotlib inline\n",
        "from matplotlib import pyplot\n",
        "\n",
        "# Seaborn is based on matplotlib, which aids in drawing attractive and informative statistical graphics.\n",
        "import seaborn as sns\n",
        "import tensorflow \n",
        "print(tensorflow.__version__)\n",
        "\n",
        "\n",
        "from keras.utils import np_utils\n",
        "from keras.models import Sequential\n",
        "from keras.layers.core import Dense, Dropout, Activation, Flatten\n",
        "from keras.layers.convolutional import Conv2D, MaxPooling2D\n",
        "from keras.optimizers import SGD\n",
        "from keras.constraints import maxnorm\n",
        "from PIL import Image\n",
        "from PIL import ImageMath"
      ],
      "execution_count": 2,
      "outputs": [
        {
          "output_type": "stream",
          "text": [
            "2.5.0\n"
          ],
          "name": "stdout"
        }
      ]
    },
    {
      "cell_type": "markdown",
      "metadata": {
        "id": "MRj03V7AHAYe"
      },
      "source": [
        "## 2. Setting Options"
      ]
    },
    {
      "cell_type": "code",
      "metadata": {
        "id": "7I9dogoKHn6w"
      },
      "source": [
        "# suppress display of warnings\n",
        "warnings.filterwarnings('ignore')\n",
        "\n",
        "# display all dataframe columns\n",
        "pd.options.display.max_columns = None\n",
        "\n",
        "# display all dataframe rows\n",
        "pd.options.display.max_rows = None"
      ],
      "execution_count": 3,
      "outputs": []
    },
    {
      "cell_type": "markdown",
      "metadata": {
        "id": "ufAqcNVCHIut"
      },
      "source": [
        "## 3. Data loading and Data Analysis "
      ]
    },
    {
      "cell_type": "markdown",
      "metadata": {
        "id": "LDYN63hu2s97"
      },
      "source": [
        "### Read images and save the pixel information to an array. Also, save their corresponding label to a list ( YES-Mobile - 1, NO-Mobile - 0). Resize the images to shape (128, 128, 3)."
      ]
    },
    {
      "cell_type": "code",
      "metadata": {
        "id": "zWPOVY3gDOQo"
      },
      "source": [
        "import cv2"
      ],
      "execution_count": 4,
      "outputs": []
    },
    {
      "cell_type": "code",
      "metadata": {
        "id": "y0vER8FIlyy2"
      },
      "source": [
        "import os\n",
        "os.chdir('/content/sample_data/Mobile')"
      ],
      "execution_count": 5,
      "outputs": []
    },
    {
      "cell_type": "code",
      "metadata": {
        "id": "HIyMOr3RmAoj"
      },
      "source": [
        "img=cv2.imread('Yes/img128.png')"
      ],
      "execution_count": 6,
      "outputs": []
    },
    {
      "cell_type": "code",
      "metadata": {
        "colab": {
          "base_uri": "https://localhost:8080/"
        },
        "id": "VSMzkXn2mlEY",
        "outputId": "9f354394-f8a6-41cc-8fbf-7df938415d39"
      },
      "source": [
        "img.shape"
      ],
      "execution_count": 7,
      "outputs": [
        {
          "output_type": "execute_result",
          "data": {
            "text/plain": [
              "(90, 90, 3)"
            ]
          },
          "metadata": {
            "tags": []
          },
          "execution_count": 7
        }
      ]
    },
    {
      "cell_type": "code",
      "metadata": {
        "colab": {
          "base_uri": "https://localhost:8080/",
          "height": 107
        },
        "id": "WhzI6YYTnHIm",
        "outputId": "4fc744e0-4213-4a24-dea8-2bb8ed785045"
      },
      "source": [
        "from google.colab.patches import cv2_imshow\n",
        "cv2_imshow(img)"
      ],
      "execution_count": 8,
      "outputs": [
        {
          "output_type": "display_data",
          "data": {
            "image/png": "[encoded data removed]",
            "text/plain": [
              "<PIL.Image.Image image mode=RGB size=90x90 at 0x7FE5EF086150>"
            ]
          },
          "metadata": {
            "tags": []
          }
        }
      ]
    },
    {
      "cell_type": "code",
      "metadata": {
        "id": "gJgNRrhtn2UF"
      },
      "source": [
        "yes_list=os.listdir('/content/sample_data/Mobile/Yes')\n",
        "no_list=os.listdir('/content/sample_data/Mobile/No')"
      ],
      "execution_count": 11,
      "outputs": []
    },
    {
      "cell_type": "code",
      "metadata": {
        "id": "Tn9LN9POrXlI"
      },
      "source": [
        "no_list"
      ],
      "execution_count": null,
      "outputs": []
    },
    {
      "cell_type": "code",
      "metadata": {
        "id": "dlvn8M0xrJOM"
      },
      "source": [
        "yes_list"
      ],
      "execution_count": null,
      "outputs": []
    },
    {
      "cell_type": "code",
      "metadata": {
        "id": "SeD8ZcoMvKma"
      },
      "source": [
        "yes_images = []\n",
        "yes_labels = []\n",
        "path_yes = '/content/sample_data/Mobile/Yes'\n",
        "\n",
        "for i in yes_list:\n",
        "  # print(i)\n",
        "  img_path = os.path.join(path_yes,i)\n",
        "  # print(img_path)\n",
        "  img = cv2.imread(img_path)\n",
        "  img = cv2.resize(img,(128,128))\n",
        "  yes_images.append(img)\n",
        "  yes_labels.append(1)\n"
      ],
      "execution_count": 13,
      "outputs": []
    },
    {
      "cell_type": "code",
      "metadata": {
        "colab": {
          "base_uri": "https://localhost:8080/"
        },
        "id": "YGWO1_8MvTh8",
        "outputId": "daaadd60-01f3-42b5-f4d6-0f0bf2b5f576"
      },
      "source": [
        "len(yes_images)"
      ],
      "execution_count": 14,
      "outputs": [
        {
          "output_type": "execute_result",
          "data": {
            "text/plain": [
              "124"
            ]
          },
          "metadata": {
            "tags": []
          },
          "execution_count": 14
        }
      ]
    },
    {
      "cell_type": "code",
      "metadata": {
        "id": "n7R0tDCZv5RA"
      },
      "source": [
        "no_images = []\n",
        "no_labels = []\n",
        "path_no = '/content/sample_data/Mobile/No'\n",
        "\n",
        "for i in no_list:\n",
        "  # print(i)\n",
        "  img_path = os.path.join(path_no,i)\n",
        "  # print(img_path)\n",
        "  img = cv2.imread(img_path)\n",
        "  img = cv2.resize(img,(128,128))\n",
        "  no_images.append(img)\n",
        "  no_labels.append(0)"
      ],
      "execution_count": 16,
      "outputs": []
    },
    {
      "cell_type": "code",
      "metadata": {
        "colab": {
          "base_uri": "https://localhost:8080/"
        },
        "id": "mE4is-6XwLl7",
        "outputId": "f3550661-627e-4fe6-e344-868276dccc05"
      },
      "source": [
        "len(no_images)"
      ],
      "execution_count": 17,
      "outputs": [
        {
          "output_type": "execute_result",
          "data": {
            "text/plain": [
              "121"
            ]
          },
          "metadata": {
            "tags": []
          },
          "execution_count": 17
        }
      ]
    },
    {
      "cell_type": "markdown",
      "metadata": {
        "id": "FrfveOqeFtfz"
      },
      "source": [
        "### Check shape and size of the images"
      ]
    },
    {
      "cell_type": "code",
      "metadata": {
        "id": "aFCElAp7FtAS",
        "colab": {
          "base_uri": "https://localhost:8080/"
        },
        "outputId": "3043d181-e0ab-4f86-8e45-dfd590ddccc6"
      },
      "source": [
        "yes_images[10].shape"
      ],
      "execution_count": 20,
      "outputs": [
        {
          "output_type": "execute_result",
          "data": {
            "text/plain": [
              "(128, 128, 3)"
            ]
          },
          "metadata": {
            "tags": []
          },
          "execution_count": 20
        }
      ]
    },
    {
      "cell_type": "code",
      "metadata": {
        "colab": {
          "base_uri": "https://localhost:8080/"
        },
        "id": "sT0ikUELyEc_",
        "outputId": "6b0a07e1-a61b-4078-8d6d-cf4866c3d5a5"
      },
      "source": [
        "no_images[10].shape"
      ],
      "execution_count": 21,
      "outputs": [
        {
          "output_type": "execute_result",
          "data": {
            "text/plain": [
              "(128, 128, 3)"
            ]
          },
          "metadata": {
            "tags": []
          },
          "execution_count": 21
        }
      ]
    },
    {
      "cell_type": "markdown",
      "metadata": {
        "id": "t3NWL9_NIdwK"
      },
      "source": [
        "###  What is the percentage of images with and without mobile phone in the data"
      ]
    },
    {
      "cell_type": "code",
      "metadata": {
        "id": "NKy7Lw5mFVTi",
        "colab": {
          "base_uri": "https://localhost:8080/"
        },
        "outputId": "76fe0bb5-01e7-4733-e61b-92a8a15b3aa0"
      },
      "source": [
        "print(\"Images without Phone\", round((len(no_list) / (len(no_list) + len(yes_list)))*100), \"%\")\n",
        "print(\"Images with Phone\", round((len(yes_list) / (len(no_list) + len(yes_list)))*100), \"%\")"
      ],
      "execution_count": 22,
      "outputs": [
        {
          "output_type": "stream",
          "text": [
            "Images without Phone 49 %\n",
            "Images with Phone 51 %\n"
          ],
          "name": "stdout"
        }
      ]
    },
    {
      "cell_type": "code",
      "metadata": {
        "id": "aikfHJE3y4SL"
      },
      "source": [
        ""
      ],
      "execution_count": null,
      "outputs": []
    },
    {
      "cell_type": "markdown",
      "metadata": {
        "id": "JVZ2zlPNDOmi"
      },
      "source": [
        "### Concatenate above two arrays (array having image details of with and without mobile) into one variable and check the final size of the data\n",
        "### Concatenate lists having label data into one list"
      ]
    },
    {
      "cell_type": "code",
      "metadata": {
        "id": "88u5BB9NDs2N"
      },
      "source": [
        "import numpy as np"
      ],
      "execution_count": 23,
      "outputs": []
    },
    {
      "cell_type": "code",
      "metadata": {
        "id": "CKTdVOOTzyt4"
      },
      "source": [
        "x_img=np.concatenate((yes_images,no_images),axis=0)"
      ],
      "execution_count": 26,
      "outputs": []
    },
    {
      "cell_type": "code",
      "metadata": {
        "colab": {
          "base_uri": "https://localhost:8080/"
        },
        "id": "WQnsACuW0NiJ",
        "outputId": "747ebceb-5c49-4187-c14b-0054c3548471"
      },
      "source": [
        "type(x_img)"
      ],
      "execution_count": 27,
      "outputs": [
        {
          "output_type": "execute_result",
          "data": {
            "text/plain": [
              "numpy.ndarray"
            ]
          },
          "metadata": {
            "tags": []
          },
          "execution_count": 27
        }
      ]
    },
    {
      "cell_type": "code",
      "metadata": {
        "colab": {
          "base_uri": "https://localhost:8080/"
        },
        "id": "56kG51-F0wVn",
        "outputId": "72da1152-ed89-43bf-d955-8fe2cb8d4d27"
      },
      "source": [
        "x_img.shape"
      ],
      "execution_count": 29,
      "outputs": [
        {
          "output_type": "execute_result",
          "data": {
            "text/plain": [
              "(245, 128, 128, 3)"
            ]
          },
          "metadata": {
            "tags": []
          },
          "execution_count": 29
        }
      ]
    },
    {
      "cell_type": "code",
      "metadata": {
        "id": "QvXagaIn1vBy"
      },
      "source": [
        "y_labels=np.concatenate((yes_labels,no_labels),axis=0)"
      ],
      "execution_count": 30,
      "outputs": []
    },
    {
      "cell_type": "markdown",
      "metadata": {
        "id": "rVv66DvSDvY0"
      },
      "source": [
        "### Shuffle the above data and labels ( Data and label should be in sync)"
      ]
    },
    {
      "cell_type": "code",
      "metadata": {
        "id": "JC2Uu4r0EFDX"
      },
      "source": [
        "from sklearn.utils import shuffle\n",
        "data,labels = shuffle(x_img,y_labels,random_state=95)"
      ],
      "execution_count": 31,
      "outputs": []
    },
    {
      "cell_type": "markdown",
      "metadata": {
        "id": "IERuYS1BHuCq"
      },
      "source": [
        "## 4. Visualize and Standardize the data"
      ]
    },
    {
      "cell_type": "markdown",
      "metadata": {
        "id": "kxODV6HKykuc"
      },
      "source": [
        "### Visualise the first 10 images in the data and print their corresponding labels."
      ]
    },
    {
      "cell_type": "code",
      "metadata": {
        "id": "__YELlwqE8Cl",
        "colab": {
          "base_uri": "https://localhost:8080/",
          "height": 248
        },
        "outputId": "dbc5864c-153c-4fa1-8ed7-e5dfd2c7d6f3"
      },
      "source": [
        "%matplotlib inline\n",
        "import matplotlib.pyplot as plt\n",
        "plt.figure(figsize=(10, 1))\n",
        "for i in range(10):\n",
        "    plt.subplot(1, 10, i+1)\n",
        "    plt.imshow(data[i], cmap=\"gray\")\n",
        "    plt.axis('off')\n",
        "    print('label for each of the below image: %s' % (labels[i]))\n",
        "plt.show()"
      ],
      "execution_count": 32,
      "outputs": [
        {
          "output_type": "stream",
          "text": [
            "label for each of the below image: 1\n",
            "label for each of the below image: 0\n",
            "label for each of the below image: 0\n",
            "label for each of the below image: 0\n",
            "label for each of the below image: 1\n",
            "label for each of the below image: 1\n",
            "label for each of the below image: 1\n",
            "label for each of the below image: 1\n",
            "label for each of the below image: 0\n",
            "label for each of the below image: 0\n"
          ],
          "name": "stdout"
        },
        {
          "output_type": "display_data",
          "data": {
            "image/png": "[encoded data removed]",
            "text/plain": [
              "<Figure size 720x72 with 10 Axes>"
            ]
          },
          "metadata": {
            "tags": [],
            "needs_background": "light"
          }
        }
      ]
    },
    {
      "cell_type": "markdown",
      "metadata": {
        "id": "LUvm8AMvEFaA"
      },
      "source": [
        "### Split the data into train and test"
      ]
    },
    {
      "cell_type": "code",
      "metadata": {
        "id": "kKVEf3zWF0Qq"
      },
      "source": [
        "from sklearn.model_selection import  train_test_split "
      ],
      "execution_count": 33,
      "outputs": []
    },
    {
      "cell_type": "code",
      "metadata": {
        "id": "XjoeR6N33qFE"
      },
      "source": [
        "x_train, x_test, y_train, y_test = train_test_split(data,labels,random_state=26)"
      ],
      "execution_count": 34,
      "outputs": []
    },
    {
      "cell_type": "markdown",
      "metadata": {
        "id": "y1ZC0x0I3-jo"
      },
      "source": [
        "### Print shape of the X train and X test data"
      ]
    },
    {
      "cell_type": "code",
      "metadata": {
        "id": "Dm8gmQt2FEUd",
        "colab": {
          "base_uri": "https://localhost:8080/"
        },
        "outputId": "ffd28b8f-761a-49f3-acf9-dd0cd588ef55"
      },
      "source": [
        "x_train.shape"
      ],
      "execution_count": 35,
      "outputs": [
        {
          "output_type": "execute_result",
          "data": {
            "text/plain": [
              "(183, 128, 128, 3)"
            ]
          },
          "metadata": {
            "tags": []
          },
          "execution_count": 35
        }
      ]
    },
    {
      "cell_type": "code",
      "metadata": {
        "colab": {
          "base_uri": "https://localhost:8080/"
        },
        "id": "zTW2Ijui4Hr0",
        "outputId": "1cbde92b-0f9b-4878-9430-01e96b38ca88"
      },
      "source": [
        "x_test.shape"
      ],
      "execution_count": 36,
      "outputs": [
        {
          "output_type": "execute_result",
          "data": {
            "text/plain": [
              "(62, 128, 128, 3)"
            ]
          },
          "metadata": {
            "tags": []
          },
          "execution_count": 36
        }
      ]
    },
    {
      "cell_type": "markdown",
      "metadata": {
        "id": "W1Zgo_3LFSWE"
      },
      "source": [
        "### Normalize the data by dividing by 255"
      ]
    },
    {
      "cell_type": "code",
      "metadata": {
        "id": "AMDN2gK0FZ22"
      },
      "source": [
        "x_train=x_train/255"
      ],
      "execution_count": 37,
      "outputs": []
    },
    {
      "cell_type": "code",
      "metadata": {
        "id": "F9pOOGYI41Jf"
      },
      "source": [
        "x_test=x_test/255"
      ],
      "execution_count": 38,
      "outputs": []
    },
    {
      "cell_type": "code",
      "metadata": {
        "colab": {
          "base_uri": "https://localhost:8080/"
        },
        "id": "RdjqMuXy46k3",
        "outputId": "081a99f1-34e2-4a63-ccae-081c70c8634c"
      },
      "source": [
        "x_train[0]"
      ],
      "execution_count": 39,
      "outputs": [
        {
          "output_type": "execute_result",
          "data": {
            "text/plain": [
              "array([[[0.3372549 , 0.3372549 , 0.3372549 ],\n",
              "        [0.33333333, 0.33333333, 0.33333333],\n",
              "        [0.3254902 , 0.3254902 , 0.3254902 ],\n",
              "        ...,\n",
              "        [0.38039216, 0.38039216, 0.38039216],\n",
              "        [0.40392157, 0.40392157, 0.40392157],\n",
              "        [0.40392157, 0.40392157, 0.40392157]],\n",
              "\n",
              "       [[0.34117647, 0.34117647, 0.34117647],\n",
              "        [0.33333333, 0.33333333, 0.33333333],\n",
              "        [0.32941176, 0.32941176, 0.32941176],\n",
              "        ...,\n",
              "        [0.36862745, 0.36862745, 0.36862745],\n",
              "        [0.38431373, 0.38431373, 0.38431373],\n",
              "        [0.38431373, 0.38431373, 0.38431373]],\n",
              "\n",
              "       [[0.34117647, 0.34117647, 0.34117647],\n",
              "        [0.33333333, 0.33333333, 0.33333333],\n",
              "        [0.32941176, 0.32941176, 0.32941176],\n",
              "        ...,\n",
              "        [0.35686275, 0.35686275, 0.35686275],\n",
              "        [0.37254902, 0.37254902, 0.37254902],\n",
              "        [0.37254902, 0.37254902, 0.37254902]],\n",
              "\n",
              "       ...,\n",
              "\n",
              "       [[0.30980392, 0.30980392, 0.30980392],\n",
              "        [0.31372549, 0.31372549, 0.31372549],\n",
              "        [0.31372549, 0.31372549, 0.31372549],\n",
              "        ...,\n",
              "        [0.29803922, 0.29803922, 0.29803922],\n",
              "        [0.30588235, 0.30588235, 0.30588235],\n",
              "        [0.30588235, 0.30588235, 0.30588235]],\n",
              "\n",
              "       [[0.30980392, 0.30980392, 0.30980392],\n",
              "        [0.30980392, 0.30980392, 0.30980392],\n",
              "        [0.30980392, 0.30980392, 0.30980392],\n",
              "        ...,\n",
              "        [0.29803922, 0.29803922, 0.29803922],\n",
              "        [0.30980392, 0.30980392, 0.30980392],\n",
              "        [0.30980392, 0.30980392, 0.30980392]],\n",
              "\n",
              "       [[0.30980392, 0.30980392, 0.30980392],\n",
              "        [0.30980392, 0.30980392, 0.30980392],\n",
              "        [0.30980392, 0.30980392, 0.30980392],\n",
              "        ...,\n",
              "        [0.30196078, 0.30196078, 0.30196078],\n",
              "        [0.30980392, 0.30980392, 0.30980392],\n",
              "        [0.30980392, 0.30980392, 0.30980392]]])"
            ]
          },
          "metadata": {
            "tags": []
          },
          "execution_count": 39
        }
      ]
    },
    {
      "cell_type": "code",
      "metadata": {
        "id": "DJySA8y95QIk"
      },
      "source": [
        ""
      ],
      "execution_count": null,
      "outputs": []
    },
    {
      "cell_type": "markdown",
      "metadata": {
        "id": "R4ePr57U4xup"
      },
      "source": [
        ""
      ]
    },
    {
      "cell_type": "markdown",
      "metadata": {
        "id": "bogxx3cezol1"
      },
      "source": [
        "###  One hot encode the labels for train and test data \n",
        "Hint:- We need to one hot encode the labels for the model to understand the labels better. We will be using categorical cross entropy as our loss function and for this purpose we need our labels to be in one hot encoded format."
      ]
    },
    {
      "cell_type": "code",
      "metadata": {
        "id": "4R0pPQFBFjp1",
        "colab": {
          "base_uri": "https://localhost:8080/"
        },
        "outputId": "2fcf2e47-a43e-4b6b-fdeb-c792008ca91d"
      },
      "source": [
        "y_test"
      ],
      "execution_count": 40,
      "outputs": [
        {
          "output_type": "execute_result",
          "data": {
            "text/plain": [
              "array([1, 1, 0, 0, 1, 0, 0, 0, 1, 1, 1, 0, 1, 1, 1, 0, 0, 0, 1, 0, 1, 0,\n",
              "       0, 1, 1, 1, 0, 1, 0, 0, 0, 0, 1, 0, 1, 0, 0, 1, 0, 0, 0, 1, 0, 1,\n",
              "       0, 0, 0, 1, 0, 0, 0, 0, 1, 1, 0, 1, 1, 0, 0, 0, 1, 0])"
            ]
          },
          "metadata": {
            "tags": []
          },
          "execution_count": 40
        }
      ]
    },
    {
      "cell_type": "code",
      "metadata": {
        "id": "DH9a39cE6H3c"
      },
      "source": [
        "from tensorflow.keras.utils import  to_categorical"
      ],
      "execution_count": 41,
      "outputs": []
    },
    {
      "cell_type": "code",
      "metadata": {
        "id": "h69TPeEJ6pS9"
      },
      "source": [
        "y_train_cat=to_categorical(y_train)\n",
        "y_test_cat=to_categorical(y_test)"
      ],
      "execution_count": 43,
      "outputs": []
    },
    {
      "cell_type": "code",
      "metadata": {
        "colab": {
          "base_uri": "https://localhost:8080/"
        },
        "id": "YwG6tzK57OLp",
        "outputId": "d1c29676-7d34-4cd0-c193-b385163bcf4e"
      },
      "source": [
        "y_test_cat"
      ],
      "execution_count": 46,
      "outputs": [
        {
          "output_type": "execute_result",
          "data": {
            "text/plain": [
              "array([[0., 1.],\n",
              "       [0., 1.],\n",
              "       [1., 0.],\n",
              "       [1., 0.],\n",
              "       [0., 1.],\n",
              "       [1., 0.],\n",
              "       [1., 0.],\n",
              "       [1., 0.],\n",
              "       [0., 1.],\n",
              "       [0., 1.],\n",
              "       [0., 1.],\n",
              "       [1., 0.],\n",
              "       [0., 1.],\n",
              "       [0., 1.],\n",
              "       [0., 1.],\n",
              "       [1., 0.],\n",
              "       [1., 0.],\n",
              "       [1., 0.],\n",
              "       [0., 1.],\n",
              "       [1., 0.],\n",
              "       [0., 1.],\n",
              "       [1., 0.],\n",
              "       [1., 0.],\n",
              "       [0., 1.],\n",
              "       [0., 1.],\n",
              "       [0., 1.],\n",
              "       [1., 0.],\n",
              "       [0., 1.],\n",
              "       [1., 0.],\n",
              "       [1., 0.],\n",
              "       [1., 0.],\n",
              "       [1., 0.],\n",
              "       [0., 1.],\n",
              "       [1., 0.],\n",
              "       [0., 1.],\n",
              "       [1., 0.],\n",
              "       [1., 0.],\n",
              "       [0., 1.],\n",
              "       [1., 0.],\n",
              "       [1., 0.],\n",
              "       [1., 0.],\n",
              "       [0., 1.],\n",
              "       [1., 0.],\n",
              "       [0., 1.],\n",
              "       [1., 0.],\n",
              "       [1., 0.],\n",
              "       [1., 0.],\n",
              "       [0., 1.],\n",
              "       [1., 0.],\n",
              "       [1., 0.],\n",
              "       [1., 0.],\n",
              "       [1., 0.],\n",
              "       [0., 1.],\n",
              "       [0., 1.],\n",
              "       [1., 0.],\n",
              "       [0., 1.],\n",
              "       [0., 1.],\n",
              "       [1., 0.],\n",
              "       [1., 0.],\n",
              "       [1., 0.],\n",
              "       [0., 1.],\n",
              "       [1., 0.]], dtype=float32)"
            ]
          },
          "metadata": {
            "tags": []
          },
          "execution_count": 46
        }
      ]
    },
    {
      "cell_type": "markdown",
      "metadata": {
        "id": "xztigzzfITt-"
      },
      "source": [
        "## 5. Model building"
      ]
    },
    {
      "cell_type": "markdown",
      "metadata": {
        "id": "UJDUoaEj1d6e"
      },
      "source": [
        "### Define the model architecture using TensorFlow with a Conv2D layer followed by dense layers with activation as ReLu and softmax respectively. "
      ]
    },
    {
      "cell_type": "code",
      "metadata": {
        "id": "RhT_PLicFuDu"
      },
      "source": [
        "from tensorflow.keras import optimizers\n",
        "from tensorflow.keras.models import Sequential \n",
        "from tensorflow.keras.layers import Dense, Flatten, Conv2D,MaxPooling2D\n",
        "import tensorflow as tf"
      ],
      "execution_count": 51,
      "outputs": []
    },
    {
      "cell_type": "code",
      "metadata": {
        "id": "wLQioID7Ci6I"
      },
      "source": [
        "tf.keras.backend.clear_session()\n",
        "model = Sequential()\n",
        "model.add(Conv2D(32,(3,3),activation='relu',input_shape=(128,128,3)))\n",
        "model.add(MaxPooling2D((2,2)))\n",
        "model.add(Conv2D(64,(3,3),activation='relu'))\n",
        "model.add(MaxPooling2D((2,2)))\n",
        "model.add(Flatten())\n",
        "model.add(Dense(64))\n",
        "model.add(Dense(32))\n",
        "model.add(Dense(2,activation='softmax'))\n"
      ],
      "execution_count": 52,
      "outputs": []
    },
    {
      "cell_type": "markdown",
      "metadata": {
        "id": "DAJbHWAbF1Ko"
      },
      "source": [
        "### Compile the above model using appropriate loss metric. Try with sgd, adam optimizer and \"accuracy\" as metrics. "
      ]
    },
    {
      "cell_type": "code",
      "metadata": {
        "id": "wBcO5lBmGMCW"
      },
      "source": [
        "model.compile(loss='categorical_crossentropy',optimizer='adam',metrics=['accuracy'])"
      ],
      "execution_count": 53,
      "outputs": []
    },
    {
      "cell_type": "markdown",
      "metadata": {
        "id": "5t90ufg46jLl"
      },
      "source": [
        "### Fit the model on the training dataset along with it's equivalent one hot encoded labels"
      ]
    },
    {
      "cell_type": "code",
      "metadata": {
        "id": "1OSrPoT9GPKs",
        "colab": {
          "base_uri": "https://localhost:8080/"
        },
        "outputId": "f1a67f18-4228-44a3-b885-c2c7aac53d9e"
      },
      "source": [
        "training_history = model.fit(x_train,y_train_cat,validation_data=(x_test,y_test_cat),epochs=10,batch_size=32)"
      ],
      "execution_count": 54,
      "outputs": [
        {
          "output_type": "stream",
          "text": [
            "Epoch 1/10\n",
            "6/6 [==============================] - 32s 119ms/step - loss: 5.6775 - accuracy: 0.4536 - val_loss: 1.2877 - val_accuracy: 0.5806\n",
            "Epoch 2/10\n",
            "6/6 [==============================] - 0s 22ms/step - loss: 1.0104 - accuracy: 0.5410 - val_loss: 0.5942 - val_accuracy: 0.5161\n",
            "Epoch 3/10\n",
            "6/6 [==============================] - 0s 21ms/step - loss: 0.4537 - accuracy: 0.7869 - val_loss: 0.4874 - val_accuracy: 0.8387\n",
            "Epoch 4/10\n",
            "6/6 [==============================] - 0s 22ms/step - loss: 0.3074 - accuracy: 0.9016 - val_loss: 0.4435 - val_accuracy: 0.8387\n",
            "Epoch 5/10\n",
            "6/6 [==============================] - 0s 21ms/step - loss: 0.1930 - accuracy: 0.9180 - val_loss: 0.4538 - val_accuracy: 0.8226\n",
            "Epoch 6/10\n",
            "6/6 [==============================] - 0s 22ms/step - loss: 0.1373 - accuracy: 0.9508 - val_loss: 0.4480 - val_accuracy: 0.8387\n",
            "Epoch 7/10\n",
            "6/6 [==============================] - 0s 22ms/step - loss: 0.0890 - accuracy: 0.9672 - val_loss: 0.4945 - val_accuracy: 0.8387\n",
            "Epoch 8/10\n",
            "6/6 [==============================] - 0s 22ms/step - loss: 0.0999 - accuracy: 0.9563 - val_loss: 0.6649 - val_accuracy: 0.8387\n",
            "Epoch 9/10\n",
            "6/6 [==============================] - 0s 23ms/step - loss: 0.0726 - accuracy: 0.9891 - val_loss: 0.5517 - val_accuracy: 0.8226\n",
            "Epoch 10/10\n",
            "6/6 [==============================] - 0s 21ms/step - loss: 0.0590 - accuracy: 0.9781 - val_loss: 0.4409 - val_accuracy: 0.8548\n"
          ],
          "name": "stdout"
        }
      ]
    },
    {
      "cell_type": "markdown",
      "metadata": {
        "id": "algw3-VGIj-N"
      },
      "source": [
        "## 6. Evaluate the model\n"
      ]
    },
    {
      "cell_type": "markdown",
      "metadata": {
        "id": "PJ44TJ4gGQUC"
      },
      "source": [
        "### Evaluate the model on test data and print loss and accuracy"
      ]
    },
    {
      "cell_type": "code",
      "metadata": {
        "id": "ThluFnGNGWh7",
        "colab": {
          "base_uri": "https://localhost:8080/"
        },
        "outputId": "b1d4de85-22ea-4b8d-eb35-a7dc24cfbf27"
      },
      "source": [
        "model.evaluate(x_test,y_test_cat)"
      ],
      "execution_count": 56,
      "outputs": [
        {
          "output_type": "stream",
          "text": [
            "2/2 [==============================] - 0s 12ms/step - loss: 0.4409 - accuracy: 0.8548\n"
          ],
          "name": "stdout"
        },
        {
          "output_type": "execute_result",
          "data": {
            "text/plain": [
              "[0.44086185097694397, 0.8548387289047241]"
            ]
          },
          "metadata": {
            "tags": []
          },
          "execution_count": 56
        }
      ]
    },
    {
      "cell_type": "code",
      "metadata": {
        "colab": {
          "base_uri": "https://localhost:8080/"
        },
        "id": "51wz_ULqNYQR",
        "outputId": "42cfd73b-41de-43ed-c64d-d02e41e35611"
      },
      "source": [
        "model.evaluate(x_train,y_train_cat,batch_size=32)"
      ],
      "execution_count": 57,
      "outputs": [
        {
          "output_type": "stream",
          "text": [
            "6/6 [==============================] - 0s 7ms/step - loss: 0.0460 - accuracy: 0.9945\n"
          ],
          "name": "stdout"
        },
        {
          "output_type": "execute_result",
          "data": {
            "text/plain": [
              "[0.04597519710659981, 0.994535505771637]"
            ]
          },
          "metadata": {
            "tags": []
          },
          "execution_count": 57
        }
      ]
    },
    {
      "cell_type": "markdown",
      "metadata": {
        "id": "hyzKGfaKGapH"
      },
      "source": [
        "### Predict label data of the test data and check confusion matrix"
      ]
    },
    {
      "cell_type": "code",
      "metadata": {
        "id": "jqlmsPhxGh-K"
      },
      "source": [
        "model.predict(x_test)"
      ],
      "execution_count": null,
      "outputs": []
    },
    {
      "cell_type": "code",
      "metadata": {
        "colab": {
          "base_uri": "https://localhost:8080/"
        },
        "id": "AL6subE-Qa-Q",
        "outputId": "62113c50-a33e-4bd9-8f7d-d837496dbe75"
      },
      "source": [
        "np.argmax(model.predict(x_test),axis=1)"
      ],
      "execution_count": 59,
      "outputs": [
        {
          "output_type": "execute_result",
          "data": {
            "text/plain": [
              "array([0, 1, 0, 0, 0, 0, 0, 0, 1, 1, 1, 0, 1, 0, 1, 0, 0, 1, 1, 0, 1, 0,\n",
              "       0, 1, 1, 1, 0, 1, 0, 0, 0, 0, 1, 0, 0, 0, 0, 0, 1, 1, 0, 1, 0, 1,\n",
              "       0, 0, 0, 1, 1, 0, 0, 0, 1, 1, 0, 1, 1, 0, 0, 0, 1, 0])"
            ]
          },
          "metadata": {
            "tags": []
          },
          "execution_count": 59
        }
      ]
    },
    {
      "cell_type": "code",
      "metadata": {
        "id": "GI53TPHCRcZf"
      },
      "source": [
        "y_test_preds = np.argmax(model.predict(x_test),axis=1)"
      ],
      "execution_count": 60,
      "outputs": []
    },
    {
      "cell_type": "code",
      "metadata": {
        "id": "eP2IRs1NRfpP"
      },
      "source": [
        "from sklearn.metrics import confusion_matrix"
      ],
      "execution_count": 61,
      "outputs": []
    },
    {
      "cell_type": "code",
      "metadata": {
        "colab": {
          "base_uri": "https://localhost:8080/"
        },
        "id": "iFiJ5Bg5Ri0s",
        "outputId": "f47d5f28-406d-4956-ff32-d960bd370b3c"
      },
      "source": [
        "confusion_matrix(y_test,y_test_preds)"
      ],
      "execution_count": 62,
      "outputs": [
        {
          "output_type": "execute_result",
          "data": {
            "text/plain": [
              "array([[32,  4],\n",
              "       [ 5, 21]])"
            ]
          },
          "metadata": {
            "tags": []
          },
          "execution_count": 62
        }
      ]
    },
    {
      "cell_type": "markdown",
      "metadata": {
        "id": "C3cctwoeGwHa"
      },
      "source": [
        "### Display test images and their predicted label for a few samples"
      ]
    },
    {
      "cell_type": "code",
      "metadata": {
        "id": "FvbAyNElHH_G",
        "colab": {
          "base_uri": "https://localhost:8080/"
        },
        "outputId": "0c82bade-a262-44f4-d687-3157408347a8"
      },
      "source": [
        "y_test_preds"
      ],
      "execution_count": 79,
      "outputs": [
        {
          "output_type": "execute_result",
          "data": {
            "text/plain": [
              "array([0, 1, 0, 0, 0, 0, 0, 0, 1, 1, 1, 0, 1, 0, 1, 0, 0, 1, 1, 0, 1, 0,\n",
              "       0, 1, 1, 1, 0, 1, 0, 0, 0, 0, 1, 0, 0, 0, 0, 0, 1, 1, 0, 1, 0, 1,\n",
              "       0, 0, 0, 1, 1, 0, 0, 0, 1, 1, 0, 1, 1, 0, 0, 0, 1, 0])"
            ]
          },
          "metadata": {
            "tags": []
          },
          "execution_count": 79
        }
      ]
    },
    {
      "cell_type": "code",
      "metadata": {
        "colab": {
          "base_uri": "https://localhost:8080/",
          "height": 95
        },
        "id": "HON03O7naeDa",
        "outputId": "15a9b1a5-b42e-4958-fdeb-daf62ca5c54c"
      },
      "source": [
        "%matplotlib inline\n",
        "import matplotlib.pyplot as plt\n",
        "plt.figure(figsize=(10, 1)) \n",
        "plt.subplot(1, 10, 10) \n",
        "plt.imshow(x_test[10], cmap=\"gray\") \n",
        "plt.axis('off') \n",
        "plt.show() \n",
        "print(y_test_preds[10])"
      ],
      "execution_count": 81,
      "outputs": [
        {
          "output_type": "display_data",
          "data": {
            "image/png": "[encoded data removed]",
            "text/plain": [
              "<Figure size 720x72 with 1 Axes>"
            ]
          },
          "metadata": {
            "tags": [],
            "needs_background": "light"
          }
        },
        {
          "output_type": "stream",
          "text": [
            "1\n"
          ],
          "name": "stdout"
        }
      ]
    },
    {
      "cell_type": "markdown",
      "metadata": {
        "id": "ZruCtc4GGkVr"
      },
      "source": [
        "### Print following plots\n",
        "1. Plot training accuracy vs validation accuracy\n",
        "2. Plot training loss vs validation loss"
      ]
    },
    {
      "cell_type": "code",
      "metadata": {
        "id": "2nf532Q_HWWM"
      },
      "source": [
        "acc = training_history.history['accuracy']\n",
        "loss = training_history.history['loss']\n",
        "\n",
        "val_acc = training_history.history['val_accuracy']\n",
        "val_loss = training_history.history['val_loss']\n",
        "\n",
        "epochs = range(len(acc))"
      ],
      "execution_count": null,
      "outputs": []
    },
    {
      "cell_type": "code",
      "metadata": {
        "id": "5gVfwIExTZvg"
      },
      "source": [
        "import matplotlib.pyplot as plt\n"
      ],
      "execution_count": 64,
      "outputs": []
    },
    {
      "cell_type": "code",
      "metadata": {
        "colab": {
          "base_uri": "https://localhost:8080/",
          "height": 282
        },
        "id": "xVpJIdlfTjg2",
        "outputId": "2e634f8c-7dca-49c7-8468-98b61458ec7e"
      },
      "source": [
        "plt.plot(epochs,acc)\n",
        "plt.plot(epochs,val_acc)"
      ],
      "execution_count": 68,
      "outputs": [
        {
          "output_type": "execute_result",
          "data": {
            "text/plain": [
              "[<matplotlib.lines.Line2D at 0x7fe5e004d710>]"
            ]
          },
          "metadata": {
            "tags": []
          },
          "execution_count": 68
        },
        {
          "output_type": "display_data",
          "data": {
            "image/png": "[encoded data removed]",
            "text/plain": [
              "<Figure size 432x288 with 1 Axes>"
            ]
          },
          "metadata": {
            "tags": [],
            "needs_background": "light"
          }
        }
      ]
    },
    {
      "cell_type": "code",
      "metadata": {
        "colab": {
          "base_uri": "https://localhost:8080/",
          "height": 282
        },
        "id": "O4XrP4bjTmHi",
        "outputId": "3393c575-7e6d-4cc5-fbb5-53ce13c91af8"
      },
      "source": [
        "plt.plot(epochs,loss)\n",
        "plt.plot(epochs,val_loss)"
      ],
      "execution_count": 69,
      "outputs": [
        {
          "output_type": "execute_result",
          "data": {
            "text/plain": [
              "[<matplotlib.lines.Line2D at 0x7fe59c2cc150>]"
            ]
          },
          "metadata": {
            "tags": []
          },
          "execution_count": 69
        },
        {
          "output_type": "display_data",
          "data": {
            "image/png": "[encoded data removed]",
            "text/plain": [
              "<Figure size 432x288 with 1 Axes>"
            ]
          },
          "metadata": {
            "tags": [],
            "needs_background": "light"
          }
        }
      ]
    },
    {
      "cell_type": "markdown",
      "metadata": {
        "id": "hH63EB-xGHJq"
      },
      "source": [
        "## 7.  Conclusion and Interpretation"
      ]
    },
    {
      "cell_type": "markdown",
      "metadata": {
        "id": "5ixHI0FcHIMo"
      },
      "source": [
        "### Write your observations and findings"
      ]
    },
    {
      "cell_type": "code",
      "metadata": {
        "id": "0VXW4zR1GOg6"
      },
      "source": [
        "#From 2 to 10 epochs we have constant acuracy score and same goes for loss accuracy"
      ],
      "execution_count": null,
      "outputs": []
    },
    {
      "cell_type": "markdown",
      "metadata": {
        "id": "WnoWVy0GGPs5"
      },
      "source": [
        "## 8. Further Explore"
      ]
    },
    {
      "cell_type": "markdown",
      "metadata": {
        "id": "NKEwRyW9JnCd"
      },
      "source": [
        "### Try changing a few hyperparameters such as number of layers in the network or number of units in a hidden layer or try different activation functions in the hidden layers and see if you get better results than the previous network"
      ]
    },
    {
      "cell_type": "code",
      "metadata": {
        "id": "OFRVkBdnHbW4"
      },
      "source": [
        "#We can train for around 100 epochs to get the visual of the "
      ],
      "execution_count": null,
      "outputs": []
    }
  ]
}